{
 "cells": [
  {
   "cell_type": "markdown",
   "metadata": {},
   "source": [
    "# --- 데이터 전처리 ---"
   ]
  },
  {
   "cell_type": "code",
   "execution_count": 32,
   "metadata": {},
   "outputs": [],
   "source": [
    "import pandas as pd\n",
    "import numpy as np\n",
    "import matplotlib.pyplot as plt\n",
    "%matplotlib inline\n",
    "import seaborn as sns\n",
    "from sklearn.preprocessing import LabelEncoder\n",
    "# 폰트깨짐 현상 해결\n",
    "plt.rcParams['axes.unicode_minus'] = False\n",
    "plt.rcParams['font.family'] = 'AppleGothic'"
   ]
  },
  {
   "cell_type": "code",
   "execution_count": 62,
   "metadata": {},
   "outputs": [],
   "source": [
    "# 원래 데이터 불러오기\n",
    "df=pd.read_csv('data.csv')"
   ]
  },
  {
   "cell_type": "code",
   "execution_count": 63,
   "metadata": {},
   "outputs": [
    {
     "data": {
      "text/plain": [
       "(24697792, 12)"
      ]
     },
     "execution_count": 63,
     "metadata": {},
     "output_type": "execute_result"
    }
   ],
   "source": [
    "df.shape"
   ]
  },
  {
   "cell_type": "code",
   "execution_count": 64,
   "metadata": {},
   "outputs": [],
   "source": [
    "# 서울 지역에 위치한 상점 정보만 분석\n",
    "df_seoul = df[df['CARD_SIDO_NM'].str.contains('서울')]"
   ]
  },
  {
   "cell_type": "code",
   "execution_count": 65,
   "metadata": {},
   "outputs": [],
   "source": [
    "df_seoul.reset_index(drop=True, inplace=True)"
   ]
  },
  {
   "cell_type": "code",
   "execution_count": 66,
   "metadata": {},
   "outputs": [
    {
     "data": {
      "text/html": [
       "<div>\n",
       "<style scoped>\n",
       "    .dataframe tbody tr th:only-of-type {\n",
       "        vertical-align: middle;\n",
       "    }\n",
       "\n",
       "    .dataframe tbody tr th {\n",
       "        vertical-align: top;\n",
       "    }\n",
       "\n",
       "    .dataframe thead th {\n",
       "        text-align: right;\n",
       "    }\n",
       "</style>\n",
       "<table border=\"1\" class=\"dataframe\">\n",
       "  <thead>\n",
       "    <tr style=\"text-align: right;\">\n",
       "      <th></th>\n",
       "      <th>REG_YYMM</th>\n",
       "      <th>CARD_SIDO_NM</th>\n",
       "      <th>CARD_CCG_NM</th>\n",
       "      <th>STD_CLSS_NM</th>\n",
       "      <th>HOM_SIDO_NM</th>\n",
       "      <th>HOM_CCG_NM</th>\n",
       "      <th>AGE</th>\n",
       "      <th>SEX_CTGO_CD</th>\n",
       "      <th>FLC</th>\n",
       "      <th>CSTMR_CNT</th>\n",
       "      <th>AMT</th>\n",
       "      <th>CNT</th>\n",
       "    </tr>\n",
       "  </thead>\n",
       "  <tbody>\n",
       "    <tr>\n",
       "      <th>0</th>\n",
       "      <td>201901</td>\n",
       "      <td>서울</td>\n",
       "      <td>강남구</td>\n",
       "      <td>건강보조식품 소매업</td>\n",
       "      <td>강원</td>\n",
       "      <td>강릉시</td>\n",
       "      <td>60s</td>\n",
       "      <td>2</td>\n",
       "      <td>5</td>\n",
       "      <td>7</td>\n",
       "      <td>1181300</td>\n",
       "      <td>8</td>\n",
       "    </tr>\n",
       "    <tr>\n",
       "      <th>1</th>\n",
       "      <td>201901</td>\n",
       "      <td>서울</td>\n",
       "      <td>강남구</td>\n",
       "      <td>건강보조식품 소매업</td>\n",
       "      <td>강원</td>\n",
       "      <td>속초시</td>\n",
       "      <td>50s</td>\n",
       "      <td>2</td>\n",
       "      <td>4</td>\n",
       "      <td>3</td>\n",
       "      <td>756000</td>\n",
       "      <td>4</td>\n",
       "    </tr>\n",
       "    <tr>\n",
       "      <th>2</th>\n",
       "      <td>201901</td>\n",
       "      <td>서울</td>\n",
       "      <td>강남구</td>\n",
       "      <td>건강보조식품 소매업</td>\n",
       "      <td>강원</td>\n",
       "      <td>원주시</td>\n",
       "      <td>50s</td>\n",
       "      <td>2</td>\n",
       "      <td>4</td>\n",
       "      <td>6</td>\n",
       "      <td>2480710</td>\n",
       "      <td>14</td>\n",
       "    </tr>\n",
       "    <tr>\n",
       "      <th>3</th>\n",
       "      <td>201901</td>\n",
       "      <td>서울</td>\n",
       "      <td>강남구</td>\n",
       "      <td>건강보조식품 소매업</td>\n",
       "      <td>강원</td>\n",
       "      <td>원주시</td>\n",
       "      <td>60s</td>\n",
       "      <td>2</td>\n",
       "      <td>5</td>\n",
       "      <td>6</td>\n",
       "      <td>3604450</td>\n",
       "      <td>7</td>\n",
       "    </tr>\n",
       "    <tr>\n",
       "      <th>4</th>\n",
       "      <td>201901</td>\n",
       "      <td>서울</td>\n",
       "      <td>강남구</td>\n",
       "      <td>건강보조식품 소매업</td>\n",
       "      <td>강원</td>\n",
       "      <td>춘천시</td>\n",
       "      <td>50s</td>\n",
       "      <td>2</td>\n",
       "      <td>4</td>\n",
       "      <td>4</td>\n",
       "      <td>1952750</td>\n",
       "      <td>11</td>\n",
       "    </tr>\n",
       "  </tbody>\n",
       "</table>\n",
       "</div>"
      ],
      "text/plain": [
       "   REG_YYMM CARD_SIDO_NM CARD_CCG_NM STD_CLSS_NM HOM_SIDO_NM HOM_CCG_NM  AGE  \\\n",
       "0    201901           서울         강남구  건강보조식품 소매업          강원        강릉시  60s   \n",
       "1    201901           서울         강남구  건강보조식품 소매업          강원        속초시  50s   \n",
       "2    201901           서울         강남구  건강보조식품 소매업          강원        원주시  50s   \n",
       "3    201901           서울         강남구  건강보조식품 소매업          강원        원주시  60s   \n",
       "4    201901           서울         강남구  건강보조식품 소매업          강원        춘천시  50s   \n",
       "\n",
       "   SEX_CTGO_CD  FLC  CSTMR_CNT      AMT  CNT  \n",
       "0            2    5          7  1181300    8  \n",
       "1            2    4          3   756000    4  \n",
       "2            2    4          6  2480710   14  \n",
       "3            2    5          6  3604450    7  \n",
       "4            2    4          4  1952750   11  "
      ]
     },
     "execution_count": 66,
     "metadata": {},
     "output_type": "execute_result"
    }
   ],
   "source": [
    "df_seoul.head()"
   ]
  },
  {
   "cell_type": "code",
   "execution_count": 67,
   "metadata": {},
   "outputs": [
    {
     "data": {
      "text/plain": [
       "(6259502, 12)"
      ]
     },
     "execution_count": 67,
     "metadata": {},
     "output_type": "execute_result"
    }
   ],
   "source": [
    "# 약 625만개 데이터\n",
    "df_seoul.shape"
   ]
  },
  {
   "cell_type": "code",
   "execution_count": 68,
   "metadata": {},
   "outputs": [
    {
     "name": "stdout",
     "output_type": "stream",
     "text": [
      "<class 'pandas.core.frame.DataFrame'>\n",
      "RangeIndex: 6259502 entries, 0 to 6259501\n",
      "Data columns (total 12 columns):\n",
      " #   Column        Dtype \n",
      "---  ------        ----- \n",
      " 0   REG_YYMM      int64 \n",
      " 1   CARD_SIDO_NM  object\n",
      " 2   CARD_CCG_NM   object\n",
      " 3   STD_CLSS_NM   object\n",
      " 4   HOM_SIDO_NM   object\n",
      " 5   HOM_CCG_NM    object\n",
      " 6   AGE           object\n",
      " 7   SEX_CTGO_CD   int64 \n",
      " 8   FLC           int64 \n",
      " 9   CSTMR_CNT     int64 \n",
      " 10  AMT           int64 \n",
      " 11  CNT           int64 \n",
      "dtypes: int64(6), object(6)\n",
      "memory usage: 573.1+ MB\n"
     ]
    }
   ],
   "source": [
    "df_seoul.info()\n",
    "# REG_YYMM -> datetime()으로 바꿀 필요가 있음"
   ]
  },
  {
   "cell_type": "code",
   "execution_count": 69,
   "metadata": {},
   "outputs": [
    {
     "data": {
      "text/plain": [
       "REG_YYMM            0\n",
       "CARD_SIDO_NM        0\n",
       "CARD_CCG_NM         0\n",
       "STD_CLSS_NM         0\n",
       "HOM_SIDO_NM         0\n",
       "HOM_CCG_NM      28533\n",
       "AGE                 0\n",
       "SEX_CTGO_CD         0\n",
       "FLC                 0\n",
       "CSTMR_CNT           0\n",
       "AMT                 0\n",
       "CNT                 0\n",
       "dtype: int64"
      ]
     },
     "execution_count": 69,
     "metadata": {},
     "output_type": "execute_result"
    }
   ],
   "source": [
    "df_seoul.isnull().sum()\n",
    "# null값 파악\n",
    "# HOM_CCG_NM의 null값이 뭔지 파악"
   ]
  },
  {
   "cell_type": "code",
   "execution_count": 70,
   "metadata": {},
   "outputs": [
    {
     "data": {
      "text/html": [
       "<div>\n",
       "<style scoped>\n",
       "    .dataframe tbody tr th:only-of-type {\n",
       "        vertical-align: middle;\n",
       "    }\n",
       "\n",
       "    .dataframe tbody tr th {\n",
       "        vertical-align: top;\n",
       "    }\n",
       "\n",
       "    .dataframe thead th {\n",
       "        text-align: right;\n",
       "    }\n",
       "</style>\n",
       "<table border=\"1\" class=\"dataframe\">\n",
       "  <thead>\n",
       "    <tr style=\"text-align: right;\">\n",
       "      <th></th>\n",
       "      <th>REG_YYMM</th>\n",
       "      <th>CARD_SIDO_NM</th>\n",
       "      <th>CARD_CCG_NM</th>\n",
       "      <th>STD_CLSS_NM</th>\n",
       "      <th>HOM_SIDO_NM</th>\n",
       "      <th>HOM_CCG_NM</th>\n",
       "      <th>AGE</th>\n",
       "      <th>SEX_CTGO_CD</th>\n",
       "      <th>FLC</th>\n",
       "      <th>CSTMR_CNT</th>\n",
       "      <th>AMT</th>\n",
       "      <th>CNT</th>\n",
       "    </tr>\n",
       "  </thead>\n",
       "  <tbody>\n",
       "    <tr>\n",
       "      <th>254</th>\n",
       "      <td>201901</td>\n",
       "      <td>서울</td>\n",
       "      <td>강남구</td>\n",
       "      <td>건강보조식품 소매업</td>\n",
       "      <td>세종</td>\n",
       "      <td>NaN</td>\n",
       "      <td>50s</td>\n",
       "      <td>1</td>\n",
       "      <td>4</td>\n",
       "      <td>3</td>\n",
       "      <td>1349000</td>\n",
       "      <td>3</td>\n",
       "    </tr>\n",
       "    <tr>\n",
       "      <th>255</th>\n",
       "      <td>201901</td>\n",
       "      <td>서울</td>\n",
       "      <td>강남구</td>\n",
       "      <td>건강보조식품 소매업</td>\n",
       "      <td>세종</td>\n",
       "      <td>NaN</td>\n",
       "      <td>50s</td>\n",
       "      <td>2</td>\n",
       "      <td>4</td>\n",
       "      <td>3</td>\n",
       "      <td>1103800</td>\n",
       "      <td>6</td>\n",
       "    </tr>\n",
       "    <tr>\n",
       "      <th>877</th>\n",
       "      <td>201901</td>\n",
       "      <td>서울</td>\n",
       "      <td>강남구</td>\n",
       "      <td>그외 기타 종합 소매업</td>\n",
       "      <td>세종</td>\n",
       "      <td>NaN</td>\n",
       "      <td>30s</td>\n",
       "      <td>1</td>\n",
       "      <td>2</td>\n",
       "      <td>5</td>\n",
       "      <td>450000</td>\n",
       "      <td>5</td>\n",
       "    </tr>\n",
       "    <tr>\n",
       "      <th>878</th>\n",
       "      <td>201901</td>\n",
       "      <td>서울</td>\n",
       "      <td>강남구</td>\n",
       "      <td>그외 기타 종합 소매업</td>\n",
       "      <td>세종</td>\n",
       "      <td>NaN</td>\n",
       "      <td>30s</td>\n",
       "      <td>2</td>\n",
       "      <td>2</td>\n",
       "      <td>5</td>\n",
       "      <td>2250000</td>\n",
       "      <td>5</td>\n",
       "    </tr>\n",
       "    <tr>\n",
       "      <th>879</th>\n",
       "      <td>201901</td>\n",
       "      <td>서울</td>\n",
       "      <td>강남구</td>\n",
       "      <td>그외 기타 종합 소매업</td>\n",
       "      <td>세종</td>\n",
       "      <td>NaN</td>\n",
       "      <td>40s</td>\n",
       "      <td>1</td>\n",
       "      <td>3</td>\n",
       "      <td>10</td>\n",
       "      <td>2985000</td>\n",
       "      <td>14</td>\n",
       "    </tr>\n",
       "  </tbody>\n",
       "</table>\n",
       "</div>"
      ],
      "text/plain": [
       "     REG_YYMM CARD_SIDO_NM CARD_CCG_NM   STD_CLSS_NM HOM_SIDO_NM HOM_CCG_NM  \\\n",
       "254    201901           서울         강남구    건강보조식품 소매업          세종        NaN   \n",
       "255    201901           서울         강남구    건강보조식품 소매업          세종        NaN   \n",
       "877    201901           서울         강남구  그외 기타 종합 소매업          세종        NaN   \n",
       "878    201901           서울         강남구  그외 기타 종합 소매업          세종        NaN   \n",
       "879    201901           서울         강남구  그외 기타 종합 소매업          세종        NaN   \n",
       "\n",
       "     AGE  SEX_CTGO_CD  FLC  CSTMR_CNT      AMT  CNT  \n",
       "254  50s            1    4          3  1349000    3  \n",
       "255  50s            2    4          3  1103800    6  \n",
       "877  30s            1    2          5   450000    5  \n",
       "878  30s            2    2          5  2250000    5  \n",
       "879  40s            1    3         10  2985000   14  "
      ]
     },
     "execution_count": 70,
     "metadata": {},
     "output_type": "execute_result"
    }
   ],
   "source": [
    "df_seoul[df_seoul['HOM_SIDO_NM'].str.contains('세종')].head()\n",
    "# null값 28533개 모두 HOM_SIDO_NM가 세종인 곳에 있음"
   ]
  },
  {
   "cell_type": "code",
   "execution_count": 71,
   "metadata": {},
   "outputs": [],
   "source": [
    "df_seoul = df_seoul.fillna('세종시')\n",
    "# HOM_CCG_NM를 세종시로 채워 null값 대체"
   ]
  },
  {
   "cell_type": "code",
   "execution_count": 72,
   "metadata": {},
   "outputs": [
    {
     "data": {
      "text/html": [
       "<div>\n",
       "<style scoped>\n",
       "    .dataframe tbody tr th:only-of-type {\n",
       "        vertical-align: middle;\n",
       "    }\n",
       "\n",
       "    .dataframe tbody tr th {\n",
       "        vertical-align: top;\n",
       "    }\n",
       "\n",
       "    .dataframe thead th {\n",
       "        text-align: right;\n",
       "    }\n",
       "</style>\n",
       "<table border=\"1\" class=\"dataframe\">\n",
       "  <thead>\n",
       "    <tr style=\"text-align: right;\">\n",
       "      <th></th>\n",
       "      <th>REG_YYMM</th>\n",
       "      <th>CARD_SIDO_NM</th>\n",
       "      <th>CARD_CCG_NM</th>\n",
       "      <th>STD_CLSS_NM</th>\n",
       "      <th>HOM_SIDO_NM</th>\n",
       "      <th>HOM_CCG_NM</th>\n",
       "      <th>AGE</th>\n",
       "      <th>SEX_CTGO_CD</th>\n",
       "      <th>FLC</th>\n",
       "      <th>CSTMR_CNT</th>\n",
       "      <th>AMT</th>\n",
       "      <th>CNT</th>\n",
       "    </tr>\n",
       "  </thead>\n",
       "  <tbody>\n",
       "    <tr>\n",
       "      <th>254</th>\n",
       "      <td>201901</td>\n",
       "      <td>서울</td>\n",
       "      <td>강남구</td>\n",
       "      <td>건강보조식품 소매업</td>\n",
       "      <td>세종</td>\n",
       "      <td>세종시</td>\n",
       "      <td>50s</td>\n",
       "      <td>1</td>\n",
       "      <td>4</td>\n",
       "      <td>3</td>\n",
       "      <td>1349000</td>\n",
       "      <td>3</td>\n",
       "    </tr>\n",
       "    <tr>\n",
       "      <th>255</th>\n",
       "      <td>201901</td>\n",
       "      <td>서울</td>\n",
       "      <td>강남구</td>\n",
       "      <td>건강보조식품 소매업</td>\n",
       "      <td>세종</td>\n",
       "      <td>세종시</td>\n",
       "      <td>50s</td>\n",
       "      <td>2</td>\n",
       "      <td>4</td>\n",
       "      <td>3</td>\n",
       "      <td>1103800</td>\n",
       "      <td>6</td>\n",
       "    </tr>\n",
       "    <tr>\n",
       "      <th>877</th>\n",
       "      <td>201901</td>\n",
       "      <td>서울</td>\n",
       "      <td>강남구</td>\n",
       "      <td>그외 기타 종합 소매업</td>\n",
       "      <td>세종</td>\n",
       "      <td>세종시</td>\n",
       "      <td>30s</td>\n",
       "      <td>1</td>\n",
       "      <td>2</td>\n",
       "      <td>5</td>\n",
       "      <td>450000</td>\n",
       "      <td>5</td>\n",
       "    </tr>\n",
       "    <tr>\n",
       "      <th>878</th>\n",
       "      <td>201901</td>\n",
       "      <td>서울</td>\n",
       "      <td>강남구</td>\n",
       "      <td>그외 기타 종합 소매업</td>\n",
       "      <td>세종</td>\n",
       "      <td>세종시</td>\n",
       "      <td>30s</td>\n",
       "      <td>2</td>\n",
       "      <td>2</td>\n",
       "      <td>5</td>\n",
       "      <td>2250000</td>\n",
       "      <td>5</td>\n",
       "    </tr>\n",
       "    <tr>\n",
       "      <th>879</th>\n",
       "      <td>201901</td>\n",
       "      <td>서울</td>\n",
       "      <td>강남구</td>\n",
       "      <td>그외 기타 종합 소매업</td>\n",
       "      <td>세종</td>\n",
       "      <td>세종시</td>\n",
       "      <td>40s</td>\n",
       "      <td>1</td>\n",
       "      <td>3</td>\n",
       "      <td>10</td>\n",
       "      <td>2985000</td>\n",
       "      <td>14</td>\n",
       "    </tr>\n",
       "  </tbody>\n",
       "</table>\n",
       "</div>"
      ],
      "text/plain": [
       "     REG_YYMM CARD_SIDO_NM CARD_CCG_NM   STD_CLSS_NM HOM_SIDO_NM HOM_CCG_NM  \\\n",
       "254    201901           서울         강남구    건강보조식품 소매업          세종        세종시   \n",
       "255    201901           서울         강남구    건강보조식품 소매업          세종        세종시   \n",
       "877    201901           서울         강남구  그외 기타 종합 소매업          세종        세종시   \n",
       "878    201901           서울         강남구  그외 기타 종합 소매업          세종        세종시   \n",
       "879    201901           서울         강남구  그외 기타 종합 소매업          세종        세종시   \n",
       "\n",
       "     AGE  SEX_CTGO_CD  FLC  CSTMR_CNT      AMT  CNT  \n",
       "254  50s            1    4          3  1349000    3  \n",
       "255  50s            2    4          3  1103800    6  \n",
       "877  30s            1    2          5   450000    5  \n",
       "878  30s            2    2          5  2250000    5  \n",
       "879  40s            1    3         10  2985000   14  "
      ]
     },
     "execution_count": 72,
     "metadata": {},
     "output_type": "execute_result"
    }
   ],
   "source": [
    "df_seoul[df_seoul['HOM_SIDO_NM'].str.contains('세종')].head()"
   ]
  },
  {
   "cell_type": "code",
   "execution_count": 73,
   "metadata": {},
   "outputs": [
    {
     "data": {
      "text/plain": [
       "REG_YYMM        0\n",
       "CARD_SIDO_NM    0\n",
       "CARD_CCG_NM     0\n",
       "STD_CLSS_NM     0\n",
       "HOM_SIDO_NM     0\n",
       "HOM_CCG_NM      0\n",
       "AGE             0\n",
       "SEX_CTGO_CD     0\n",
       "FLC             0\n",
       "CSTMR_CNT       0\n",
       "AMT             0\n",
       "CNT             0\n",
       "dtype: int64"
      ]
     },
     "execution_count": 73,
     "metadata": {},
     "output_type": "execute_result"
    }
   ],
   "source": [
    "df_seoul.isnull().sum()\n",
    "# 다시 한번 null 값 확인 -> null 값 없음을 확인"
   ]
  },
  {
   "cell_type": "code",
   "execution_count": 74,
   "metadata": {},
   "outputs": [
    {
     "data": {
      "text/plain": [
       "array([201901, 201902, 201903, 201904, 201905, 201906, 201907, 201908,\n",
       "       201909, 201910, 201911, 201912, 202001, 202002, 202003])"
      ]
     },
     "execution_count": 74,
     "metadata": {},
     "output_type": "execute_result"
    }
   ],
   "source": [
    "df_seoul['REG_YYMM'].unique()"
   ]
  },
  {
   "cell_type": "code",
   "execution_count": 75,
   "metadata": {},
   "outputs": [
    {
     "data": {
      "text/plain": [
       "array(['강남구', '강동구', '강북구', '강서구', '관악구', '광진구', '구로구', '금천구', '노원구',\n",
       "       '도봉구', '동대문구', '동작구', '마포구', '서대문구', '서초구', '성동구', '성북구', '송파구',\n",
       "       '양천구', '영등포구', '용산구', '은평구', '종로구', '중구', '중랑구'], dtype=object)"
      ]
     },
     "execution_count": 75,
     "metadata": {},
     "output_type": "execute_result"
    }
   ],
   "source": [
    "df_seoul['CARD_CCG_NM'].unique()"
   ]
  },
  {
   "cell_type": "code",
   "execution_count": 76,
   "metadata": {},
   "outputs": [
    {
     "data": {
      "text/plain": [
       "array(['건강보조식품 소매업', '골프장 운영업', '과실 및 채소 소매업', '관광 민예품 및 선물용품 소매업',\n",
       "       '그외 기타 스포츠시설 운영업', '그외 기타 종합 소매업', '기타 대형 종합 소매업', '기타 외국식 음식점업',\n",
       "       '기타 주점업', '기타음식료품위주종합소매업', '마사지업', '면세점', '비알콜 음료점업',\n",
       "       '빵 및 과자류 소매업', '서양식 음식점업', '수산물 소매업', '슈퍼마켓', '스포츠 및 레크레이션 용품 임대업',\n",
       "       '여관업', '여행사업', '욕탕업', '육류 소매업', '일반유흥 주점업', '일식 음식점업', '자동차 임대업',\n",
       "       '전시 및 행사 대행업', '정기 항공 운송업', '중식 음식점업', '차량용 가스 충전업', '차량용 주유소 운영업',\n",
       "       '체인화 편의점', '피자 햄버거 샌드위치 및 유사 음식점업', '한식 음식점업', '호텔업',\n",
       "       '화장품 및 방향제 소매업', '기타 수상오락 서비스업', '내항 여객 운송업', '버스 운송업', '택시 운송업'],\n",
       "      dtype=object)"
      ]
     },
     "execution_count": 76,
     "metadata": {},
     "output_type": "execute_result"
    }
   ],
   "source": [
    "df_seoul['STD_CLSS_NM'].unique()"
   ]
  },
  {
   "cell_type": "code",
   "execution_count": 77,
   "metadata": {},
   "outputs": [
    {
     "data": {
      "text/plain": [
       "array(['강원', '경기', '경남', '경북', '광주', '대구', '대전', '부산', '서울', '세종', '울산',\n",
       "       '인천', '전북', '제주', '충남', '충북', '전남'], dtype=object)"
      ]
     },
     "execution_count": 77,
     "metadata": {},
     "output_type": "execute_result"
    }
   ],
   "source": [
    "df_seoul['HOM_SIDO_NM'].unique()"
   ]
  },
  {
   "cell_type": "code",
   "execution_count": 78,
   "metadata": {},
   "outputs": [
    {
     "data": {
      "text/plain": [
       "array(['강릉시', '속초시', '원주시', '춘천시', '고양시 덕양구', '고양시 일산동구', '광명시', '광주시',\n",
       "       '군포시', '김포시', '남양주시', '부천시', '성남시 분당구', '성남시 중원구', '수원시 권선구',\n",
       "       '수원시 영통구', '수원시 장안구', '수원시 팔달구', '시흥시', '안산시 단원구', '안산시 상록구',\n",
       "       '안양시 동안구', '안양시 만안구', '양평군', '오산시', '용인시 기흥구', '용인시 수지구',\n",
       "       '용인시 처인구', '의왕시', '의정부시', '파주시', '평택시', '포천시', '하남시', '화성시', '거제시',\n",
       "       '김해시', '양산시', '진주시', '창원시 의창구', '구미시', '포항시 남구', '남구', '북구', '달서구',\n",
       "       '동구', '서구', '수성구', '유성구', '강서구', '금정구', '기장군', '동래구', '부산진구',\n",
       "       '사상구', '사하구', '수영구', '연제구', '영도구', '해운대구', '강남구', '강동구', '관악구',\n",
       "       '광진구', '구로구', '노원구', '동대문구', '동작구', '마포구', '서대문구', '서초구', '성동구',\n",
       "       '송파구', '양천구', '영등포구', '용산구', '은평구', '종로구', '중랑구', '세종시', '울주군',\n",
       "       '중구', '계양구', '남동구', '부평구', '연수구', '군산시', '전주시 완산구', '제주시',\n",
       "       '천안시 동남구', '충주시', '구리시', '강북구', '도봉구', '고흥군', '광양시', '순천시', '여수시',\n",
       "       '서귀포시', '성남시 수정구', '성북구', '무안군', '고양시 일산서구', '경산시', '포항시 북구',\n",
       "       '광산구', '전주시 덕진구', '아산시', '청주시 상당구', '양주시', '경주시', '금천구', '천안시 서북구',\n",
       "       '동해시', '삼척시', '인제군', '철원군', '평창군', '홍천군', '횡성군', '가평군', '과천시',\n",
       "       '동두천시', '안성시', '여주시', '연천군', '이천시', '사천시', '창원시 마산합포구',\n",
       "       '창원시 마산회원구', '창원시 성산구', '창원시 진해구', '통영시', '합천군', '김천시', '문경시',\n",
       "       '상주시', '안동시', '영주시', '영천시', '예천군', '울진군', '칠곡군', '달성군', '대덕구',\n",
       "       '강화군', '나주시', '목포시', '영광군', '장흥군', '화순군', '고창군', '김제시', '남원시',\n",
       "       '부안군', '완주군', '익산시', '정읍시', '계룡시', '공주시', '논산시', '당진시', '보령시',\n",
       "       '부여군', '서산시', '서천군', '예산군', '청양군', '태안군', '홍성군', '영동군', '음성군',\n",
       "       '제천시', '진천군', '청주시 서원구', '청주시 청원구', '청주시 흥덕구', '고성군', '정선군', '거창군',\n",
       "       '남해군', '밀양시', '창녕군', '함양군', '옹진군', '담양군', '단양군', '옥천군', '증평군',\n",
       "       '영월군', '태백시', '해남군', '양구군', '양양군', '화천군', '함안군', '성주군', '청도군',\n",
       "       '영암군', '장성군', '무주군', '순창군', '임실군', '금산군', '보은군', '고령군', '보성군',\n",
       "       '하동군', '봉화군', '영덕군', '청송군', '강진군', '신안군', '완도군', '진도군', '괴산군',\n",
       "       '산청군', '울릉군', '의성군', '진안군', '의령군', '군위군', '영양군', '곡성군', '구례군',\n",
       "       '함평군', '장수군'], dtype=object)"
      ]
     },
     "execution_count": 78,
     "metadata": {},
     "output_type": "execute_result"
    }
   ],
   "source": [
    "df_seoul['HOM_CCG_NM'].unique()"
   ]
  },
  {
   "cell_type": "code",
   "execution_count": 79,
   "metadata": {},
   "outputs": [
    {
     "data": {
      "text/plain": [
       "array(['60s', '50s', '30s', '40s', '70s', '20s', '10s'], dtype=object)"
      ]
     },
     "execution_count": 79,
     "metadata": {},
     "output_type": "execute_result"
    }
   ],
   "source": [
    "df_seoul['AGE'].unique()"
   ]
  },
  {
   "cell_type": "code",
   "execution_count": 80,
   "metadata": {},
   "outputs": [
    {
     "data": {
      "text/plain": [
       "array([2, 1])"
      ]
     },
     "execution_count": 80,
     "metadata": {},
     "output_type": "execute_result"
    }
   ],
   "source": [
    "df_seoul['SEX_CTGO_CD'].unique()"
   ]
  },
  {
   "cell_type": "code",
   "execution_count": 81,
   "metadata": {},
   "outputs": [
    {
     "data": {
      "text/plain": [
       "array([5, 4, 2, 3, 1])"
      ]
     },
     "execution_count": 81,
     "metadata": {},
     "output_type": "execute_result"
    }
   ],
   "source": [
    "df_seoul['FLC'].unique()"
   ]
  },
  {
   "cell_type": "code",
   "execution_count": 82,
   "metadata": {},
   "outputs": [
    {
     "data": {
      "text/plain": [
       "<matplotlib.axes._subplots.AxesSubplot at 0x7fb1e7555b10>"
      ]
     },
     "execution_count": 82,
     "metadata": {},
     "output_type": "execute_result"
    },
    {
     "data": {
      "image/png": "[encoded data removed]",
      "text/plain": [
       "<Figure size 720x504 with 2 Axes>"
      ]
     },
     "metadata": {
      "needs_background": "light"
     },
     "output_type": "display_data"
    }
   ],
   "source": [
    "fig, ax = plt.subplots(figsize=(10,7)) \n",
    "sns.heatmap(df_seoul.corr(method='pearson'), annot = True, ax=ax)\n",
    "# 상관관계를 봤는데 dtype이 str인 column들도 파악하기 위해 LabelEncoding 진행 후 다시 시각화"
   ]
  },
  {
   "cell_type": "code",
   "execution_count": 21,
   "metadata": {},
   "outputs": [],
   "source": [
    "# 데이터 copy()\n",
    "df_seoul_copy = df_seoul.copy()"
   ]
  },
  {
   "cell_type": "code",
   "execution_count": 22,
   "metadata": {},
   "outputs": [],
   "source": [
    "# CARD_SIDO_NM는 '서울' 밖에 없기 때문에 라벨 인코딩 변환해도 의미가 없기 때문에 삭제 후 진행\n",
    "df_seoul_copy.drop(['CARD_SIDO_NM'], axis=1, inplace=True)"
   ]
  },
  {
   "cell_type": "code",
   "execution_count": 23,
   "metadata": {},
   "outputs": [
    {
     "data": {
      "text/plain": [
       "REG_YYMM        int64\n",
       "CARD_CCG_NM    object\n",
       "STD_CLSS_NM    object\n",
       "HOM_SIDO_NM    object\n",
       "HOM_CCG_NM     object\n",
       "AGE            object\n",
       "SEX_CTGO_CD     int64\n",
       "FLC             int64\n",
       "CSTMR_CNT       int64\n",
       "AMT             int64\n",
       "CNT             int64\n",
       "dtype: object"
      ]
     },
     "execution_count": 23,
     "metadata": {},
     "output_type": "execute_result"
    }
   ],
   "source": [
    "# copy한 데이터 dtypes 확인한 후 라벨 인코딩을 통해 str -> int로 변환하여 상관관계 분석\n",
    "df_seoul_copy.dtypes"
   ]
  },
  {
   "cell_type": "code",
   "execution_count": 24,
   "metadata": {},
   "outputs": [],
   "source": [
    "# 라벨 인코딩\n",
    "encoders = {}\n",
    "for column in df_seoul_copy.columns:\n",
    "    if str(df_seoul_copy.dtypes[column]) == 'object':\n",
    "        encoder = LabelEncoder()\n",
    "        encoder.fit(df_seoul_copy[column])\n",
    "        encoders[column] = encoder"
   ]
  },
  {
   "cell_type": "code",
   "execution_count": 25,
   "metadata": {},
   "outputs": [],
   "source": [
    "for column in encoders.keys():\n",
    "    encoder = encoders[column]\n",
    "    df_seoul_copy[column] = encoder.transform(df_seoul_copy[column])"
   ]
  },
  {
   "cell_type": "code",
   "execution_count": 26,
   "metadata": {},
   "outputs": [
    {
     "data": {
      "text/plain": [
       "REG_YYMM       int64\n",
       "CARD_CCG_NM    int64\n",
       "STD_CLSS_NM    int64\n",
       "HOM_SIDO_NM    int64\n",
       "HOM_CCG_NM     int64\n",
       "AGE            int64\n",
       "SEX_CTGO_CD    int64\n",
       "FLC            int64\n",
       "CSTMR_CNT      int64\n",
       "AMT            int64\n",
       "CNT            int64\n",
       "dtype: object"
      ]
     },
     "execution_count": 26,
     "metadata": {},
     "output_type": "execute_result"
    }
   ],
   "source": [
    "df_seoul_copy.dtypes\n",
    "# 데이터 타입이 바뀐 것을 알 수 있음"
   ]
  },
  {
   "cell_type": "code",
   "execution_count": 27,
   "metadata": {},
   "outputs": [
    {
     "data": {
      "text/html": [
       "<div>\n",
       "<style scoped>\n",
       "    .dataframe tbody tr th:only-of-type {\n",
       "        vertical-align: middle;\n",
       "    }\n",
       "\n",
       "    .dataframe tbody tr th {\n",
       "        vertical-align: top;\n",
       "    }\n",
       "\n",
       "    .dataframe thead th {\n",
       "        text-align: right;\n",
       "    }\n",
       "</style>\n",
       "<table border=\"1\" class=\"dataframe\">\n",
       "  <thead>\n",
       "    <tr style=\"text-align: right;\">\n",
       "      <th></th>\n",
       "      <th>REG_YYMM</th>\n",
       "      <th>CARD_CCG_NM</th>\n",
       "      <th>STD_CLSS_NM</th>\n",
       "      <th>HOM_SIDO_NM</th>\n",
       "      <th>HOM_CCG_NM</th>\n",
       "      <th>AGE</th>\n",
       "      <th>SEX_CTGO_CD</th>\n",
       "      <th>FLC</th>\n",
       "      <th>CSTMR_CNT</th>\n",
       "      <th>AMT</th>\n",
       "      <th>CNT</th>\n",
       "    </tr>\n",
       "  </thead>\n",
       "  <tbody>\n",
       "    <tr>\n",
       "      <th>6259497</th>\n",
       "      <td>202003</td>\n",
       "      <td>24</td>\n",
       "      <td>38</td>\n",
       "      <td>11</td>\n",
       "      <td>89</td>\n",
       "      <td>3</td>\n",
       "      <td>2</td>\n",
       "      <td>3</td>\n",
       "      <td>3</td>\n",
       "      <td>25800</td>\n",
       "      <td>3</td>\n",
       "    </tr>\n",
       "    <tr>\n",
       "      <th>6259498</th>\n",
       "      <td>202003</td>\n",
       "      <td>24</td>\n",
       "      <td>38</td>\n",
       "      <td>11</td>\n",
       "      <td>89</td>\n",
       "      <td>4</td>\n",
       "      <td>1</td>\n",
       "      <td>4</td>\n",
       "      <td>9</td>\n",
       "      <td>231700</td>\n",
       "      <td>10</td>\n",
       "    </tr>\n",
       "    <tr>\n",
       "      <th>6259499</th>\n",
       "      <td>202003</td>\n",
       "      <td>24</td>\n",
       "      <td>38</td>\n",
       "      <td>11</td>\n",
       "      <td>89</td>\n",
       "      <td>4</td>\n",
       "      <td>2</td>\n",
       "      <td>4</td>\n",
       "      <td>16</td>\n",
       "      <td>288700</td>\n",
       "      <td>17</td>\n",
       "    </tr>\n",
       "    <tr>\n",
       "      <th>6259500</th>\n",
       "      <td>202003</td>\n",
       "      <td>24</td>\n",
       "      <td>38</td>\n",
       "      <td>11</td>\n",
       "      <td>89</td>\n",
       "      <td>5</td>\n",
       "      <td>1</td>\n",
       "      <td>5</td>\n",
       "      <td>6</td>\n",
       "      <td>69600</td>\n",
       "      <td>6</td>\n",
       "    </tr>\n",
       "    <tr>\n",
       "      <th>6259501</th>\n",
       "      <td>202003</td>\n",
       "      <td>24</td>\n",
       "      <td>38</td>\n",
       "      <td>11</td>\n",
       "      <td>89</td>\n",
       "      <td>5</td>\n",
       "      <td>2</td>\n",
       "      <td>5</td>\n",
       "      <td>8</td>\n",
       "      <td>259300</td>\n",
       "      <td>13</td>\n",
       "    </tr>\n",
       "  </tbody>\n",
       "</table>\n",
       "</div>"
      ],
      "text/plain": [
       "         REG_YYMM  CARD_CCG_NM  STD_CLSS_NM  HOM_SIDO_NM  HOM_CCG_NM  AGE  \\\n",
       "6259497    202003           24           38           11          89    3   \n",
       "6259498    202003           24           38           11          89    4   \n",
       "6259499    202003           24           38           11          89    4   \n",
       "6259500    202003           24           38           11          89    5   \n",
       "6259501    202003           24           38           11          89    5   \n",
       "\n",
       "         SEX_CTGO_CD  FLC  CSTMR_CNT     AMT  CNT  \n",
       "6259497            2    3          3   25800    3  \n",
       "6259498            1    4          9  231700   10  \n",
       "6259499            2    4         16  288700   17  \n",
       "6259500            1    5          6   69600    6  \n",
       "6259501            2    5          8  259300   13  "
      ]
     },
     "execution_count": 27,
     "metadata": {},
     "output_type": "execute_result"
    }
   ],
   "source": [
    "df_seoul_copy.tail()\n",
    "# 라벨 인코딩이 된 것을 확인"
   ]
  },
  {
   "cell_type": "code",
   "execution_count": 28,
   "metadata": {},
   "outputs": [
    {
     "data": {
      "text/plain": [
       "<matplotlib.axes._subplots.AxesSubplot at 0x7fb1bbbc7790>"
      ]
     },
     "execution_count": 28,
     "metadata": {},
     "output_type": "execute_result"
    },
    {
     "data": {
      "image/png": "[encoded data removed]",
      "text/plain": [
       "<Figure size 1080x720 with 2 Axes>"
      ]
     },
     "metadata": {
      "needs_background": "light"
     },
     "output_type": "display_data"
    }
   ],
   "source": [
    "# 피어슨 상관관계 확인\n",
    "fig, ax = plt.subplots(figsize=(15,10)) \n",
    "sns.heatmap(df_seoul_copy.corr(method='pearson'), annot = True, cmap='GnBu', ax=ax)"
   ]
  },
  {
   "cell_type": "markdown",
   "metadata": {},
   "source": [
    "### FLC(가족생애주기)와 AGE(연령대) / AMT(총액)와 CSTMR_CNT(이용고객수) / CSTMR_CNT(이용고객수)와 CNT(이용건수) / CNT(이용건수)와 AMT(총액)이 높은 양의 상관관계를 가진다고 보인다. 따라서 분석목적에 좀 더 적합한 AGE와 AMT만 남기고 FLC와 CSTMR_CNT와 CNT는 제거한다."
   ]
  },
  {
   "cell_type": "code",
   "execution_count": 30,
   "metadata": {},
   "outputs": [],
   "source": [
    "df_seoul_copy_ = df_seoul_copy.drop(['FLC','CSTMR_CNT','CNT'], axis=1)"
   ]
  },
  {
   "cell_type": "code",
   "execution_count": 31,
   "metadata": {},
   "outputs": [
    {
     "data": {
      "text/plain": [
       "<matplotlib.axes._subplots.AxesSubplot at 0x7fb15caa6f10>"
      ]
     },
     "execution_count": 31,
     "metadata": {},
     "output_type": "execute_result"
    },
    {
     "data": {
      "image/png": "[encoded data removed]",
      "text/plain": [
       "<Figure size 1080x720 with 2 Axes>"
      ]
     },
     "metadata": {
      "needs_background": "light"
     },
     "output_type": "display_data"
    }
   ],
   "source": [
    "# 피어슨 상관관계 확인\n",
    "fig, ax = plt.subplots(figsize=(15,10)) \n",
    "sns.heatmap(df_seoul_copy_.corr(method='pearson'), annot = True, cmap='GnBu', ax=ax)"
   ]
  },
  {
   "cell_type": "markdown",
   "metadata": {},
   "source": [
    "### 독립변수끼리 영향을 받지 않는 것을 확인할 수 있다."
   ]
  },
  {
   "cell_type": "code",
   "execution_count": 83,
   "metadata": {},
   "outputs": [],
   "source": [
    "df_seoul.drop(['FLC','CSTMR_CNT','CNT'], axis=1, inplace=True)"
   ]
  },
  {
   "cell_type": "code",
   "execution_count": 85,
   "metadata": {},
   "outputs": [
    {
     "data": {
      "text/html": [
       "<div>\n",
       "<style scoped>\n",
       "    .dataframe tbody tr th:only-of-type {\n",
       "        vertical-align: middle;\n",
       "    }\n",
       "\n",
       "    .dataframe tbody tr th {\n",
       "        vertical-align: top;\n",
       "    }\n",
       "\n",
       "    .dataframe thead th {\n",
       "        text-align: right;\n",
       "    }\n",
       "</style>\n",
       "<table border=\"1\" class=\"dataframe\">\n",
       "  <thead>\n",
       "    <tr style=\"text-align: right;\">\n",
       "      <th></th>\n",
       "      <th>REG_YYMM</th>\n",
       "      <th>CARD_SIDO_NM</th>\n",
       "      <th>CARD_CCG_NM</th>\n",
       "      <th>STD_CLSS_NM</th>\n",
       "      <th>HOM_SIDO_NM</th>\n",
       "      <th>HOM_CCG_NM</th>\n",
       "      <th>AGE</th>\n",
       "      <th>SEX_CTGO_CD</th>\n",
       "      <th>AMT</th>\n",
       "    </tr>\n",
       "  </thead>\n",
       "  <tbody>\n",
       "    <tr>\n",
       "      <th>0</th>\n",
       "      <td>201901</td>\n",
       "      <td>서울</td>\n",
       "      <td>강남구</td>\n",
       "      <td>건강보조식품 소매업</td>\n",
       "      <td>강원</td>\n",
       "      <td>강릉시</td>\n",
       "      <td>60s</td>\n",
       "      <td>2</td>\n",
       "      <td>1181300</td>\n",
       "    </tr>\n",
       "    <tr>\n",
       "      <th>1</th>\n",
       "      <td>201901</td>\n",
       "      <td>서울</td>\n",
       "      <td>강남구</td>\n",
       "      <td>건강보조식품 소매업</td>\n",
       "      <td>강원</td>\n",
       "      <td>속초시</td>\n",
       "      <td>50s</td>\n",
       "      <td>2</td>\n",
       "      <td>756000</td>\n",
       "    </tr>\n",
       "    <tr>\n",
       "      <th>2</th>\n",
       "      <td>201901</td>\n",
       "      <td>서울</td>\n",
       "      <td>강남구</td>\n",
       "      <td>건강보조식품 소매업</td>\n",
       "      <td>강원</td>\n",
       "      <td>원주시</td>\n",
       "      <td>50s</td>\n",
       "      <td>2</td>\n",
       "      <td>2480710</td>\n",
       "    </tr>\n",
       "    <tr>\n",
       "      <th>3</th>\n",
       "      <td>201901</td>\n",
       "      <td>서울</td>\n",
       "      <td>강남구</td>\n",
       "      <td>건강보조식품 소매업</td>\n",
       "      <td>강원</td>\n",
       "      <td>원주시</td>\n",
       "      <td>60s</td>\n",
       "      <td>2</td>\n",
       "      <td>3604450</td>\n",
       "    </tr>\n",
       "    <tr>\n",
       "      <th>4</th>\n",
       "      <td>201901</td>\n",
       "      <td>서울</td>\n",
       "      <td>강남구</td>\n",
       "      <td>건강보조식품 소매업</td>\n",
       "      <td>강원</td>\n",
       "      <td>춘천시</td>\n",
       "      <td>50s</td>\n",
       "      <td>2</td>\n",
       "      <td>1952750</td>\n",
       "    </tr>\n",
       "  </tbody>\n",
       "</table>\n",
       "</div>"
      ],
      "text/plain": [
       "   REG_YYMM CARD_SIDO_NM CARD_CCG_NM STD_CLSS_NM HOM_SIDO_NM HOM_CCG_NM  AGE  \\\n",
       "0    201901           서울         강남구  건강보조식품 소매업          강원        강릉시  60s   \n",
       "1    201901           서울         강남구  건강보조식품 소매업          강원        속초시  50s   \n",
       "2    201901           서울         강남구  건강보조식품 소매업          강원        원주시  50s   \n",
       "3    201901           서울         강남구  건강보조식품 소매업          강원        원주시  60s   \n",
       "4    201901           서울         강남구  건강보조식품 소매업          강원        춘천시  50s   \n",
       "\n",
       "   SEX_CTGO_CD      AMT  \n",
       "0            2  1181300  \n",
       "1            2   756000  \n",
       "2            2  2480710  \n",
       "3            2  3604450  \n",
       "4            2  1952750  "
      ]
     },
     "execution_count": 85,
     "metadata": {},
     "output_type": "execute_result"
    }
   ],
   "source": [
    "df_seoul.head()"
   ]
  },
  {
   "cell_type": "code",
   "execution_count": 86,
   "metadata": {},
   "outputs": [],
   "source": [
    "df_seoul[\"DATE\"] = pd.to_datetime(df_seoul[\"REG_YYMM\"],format='%Y%m')\n",
    "# 시계열 데이터를 보기 위해 년월을 datetime으로 변환"
   ]
  },
  {
   "cell_type": "code",
   "execution_count": 87,
   "metadata": {},
   "outputs": [
    {
     "name": "stdout",
     "output_type": "stream",
     "text": [
      "<class 'pandas.core.frame.DataFrame'>\n",
      "RangeIndex: 6259502 entries, 0 to 6259501\n",
      "Data columns (total 10 columns):\n",
      " #   Column        Dtype         \n",
      "---  ------        -----         \n",
      " 0   REG_YYMM      int64         \n",
      " 1   CARD_SIDO_NM  object        \n",
      " 2   CARD_CCG_NM   object        \n",
      " 3   STD_CLSS_NM   object        \n",
      " 4   HOM_SIDO_NM   object        \n",
      " 5   HOM_CCG_NM    object        \n",
      " 6   AGE           object        \n",
      " 7   SEX_CTGO_CD   int64         \n",
      " 8   AMT           int64         \n",
      " 9   DATE          datetime64[ns]\n",
      "dtypes: datetime64[ns](1), int64(3), object(6)\n",
      "memory usage: 477.6+ MB\n"
     ]
    }
   ],
   "source": [
    "# dtype이 datetime인 새로운 파생변수 'DATE' 컬럼 확인\n",
    "df_seoul.info()"
   ]
  },
  {
   "cell_type": "code",
   "execution_count": 88,
   "metadata": {},
   "outputs": [],
   "source": [
    "# 서울지역만 분석하기 떄문에 삭제\n",
    "df_seoul.drop(['CARD_SIDO_NM'], axis=1, inplace=True)"
   ]
  },
  {
   "cell_type": "code",
   "execution_count": 89,
   "metadata": {},
   "outputs": [],
   "source": [
    "# 원활한 분석을 위해 성별 (1: 남성, 2: 여성) -> 남성 : M, 여성 : F로 변경\n",
    "# 추후 머신러닝 직전에 원핫인코딩 가능\n",
    "df_seoul['SEX_CTGO_CD'] = df_seoul['SEX_CTGO_CD'].replace(1,'M').replace(2,'F')"
   ]
  },
  {
   "cell_type": "code",
   "execution_count": 90,
   "metadata": {},
   "outputs": [],
   "source": [
    "# 분석시 편의를 위해 한글로 칼럼명 변경\n",
    "df_seoul.rename(columns={'REG_YYMM' : '년월', 'CARD_CCG_NM' : '카드이용지역','STD_CLSS_NM' : '업종명',\n",
    "                         'HOM_SIDO_NM' : '거주지역_시도', 'HOM_CCG_NM' : '거주지역_시군구', 'AMT' : '이용금액_원',\n",
    "                         'AGE' : '연령대', 'SEX_CTGO_CD' : '성별', 'DATE' : '날짜'}, inplace=True)"
   ]
  },
  {
   "cell_type": "code",
   "execution_count": 91,
   "metadata": {},
   "outputs": [
    {
     "data": {
      "text/html": [
       "<div>\n",
       "<style scoped>\n",
       "    .dataframe tbody tr th:only-of-type {\n",
       "        vertical-align: middle;\n",
       "    }\n",
       "\n",
       "    .dataframe tbody tr th {\n",
       "        vertical-align: top;\n",
       "    }\n",
       "\n",
       "    .dataframe thead th {\n",
       "        text-align: right;\n",
       "    }\n",
       "</style>\n",
       "<table border=\"1\" class=\"dataframe\">\n",
       "  <thead>\n",
       "    <tr style=\"text-align: right;\">\n",
       "      <th></th>\n",
       "      <th>년월</th>\n",
       "      <th>카드이용지역</th>\n",
       "      <th>업종명</th>\n",
       "      <th>거주지역_시도</th>\n",
       "      <th>거주지역_시군구</th>\n",
       "      <th>연령대</th>\n",
       "      <th>성별</th>\n",
       "      <th>이용금액_원</th>\n",
       "      <th>날짜</th>\n",
       "    </tr>\n",
       "  </thead>\n",
       "  <tbody>\n",
       "    <tr>\n",
       "      <th>0</th>\n",
       "      <td>201901</td>\n",
       "      <td>강남구</td>\n",
       "      <td>건강보조식품 소매업</td>\n",
       "      <td>강원</td>\n",
       "      <td>강릉시</td>\n",
       "      <td>60s</td>\n",
       "      <td>F</td>\n",
       "      <td>1181300</td>\n",
       "      <td>2019-01-01</td>\n",
       "    </tr>\n",
       "    <tr>\n",
       "      <th>1</th>\n",
       "      <td>201901</td>\n",
       "      <td>강남구</td>\n",
       "      <td>건강보조식품 소매업</td>\n",
       "      <td>강원</td>\n",
       "      <td>속초시</td>\n",
       "      <td>50s</td>\n",
       "      <td>F</td>\n",
       "      <td>756000</td>\n",
       "      <td>2019-01-01</td>\n",
       "    </tr>\n",
       "    <tr>\n",
       "      <th>2</th>\n",
       "      <td>201901</td>\n",
       "      <td>강남구</td>\n",
       "      <td>건강보조식품 소매업</td>\n",
       "      <td>강원</td>\n",
       "      <td>원주시</td>\n",
       "      <td>50s</td>\n",
       "      <td>F</td>\n",
       "      <td>2480710</td>\n",
       "      <td>2019-01-01</td>\n",
       "    </tr>\n",
       "    <tr>\n",
       "      <th>3</th>\n",
       "      <td>201901</td>\n",
       "      <td>강남구</td>\n",
       "      <td>건강보조식품 소매업</td>\n",
       "      <td>강원</td>\n",
       "      <td>원주시</td>\n",
       "      <td>60s</td>\n",
       "      <td>F</td>\n",
       "      <td>3604450</td>\n",
       "      <td>2019-01-01</td>\n",
       "    </tr>\n",
       "    <tr>\n",
       "      <th>4</th>\n",
       "      <td>201901</td>\n",
       "      <td>강남구</td>\n",
       "      <td>건강보조식품 소매업</td>\n",
       "      <td>강원</td>\n",
       "      <td>춘천시</td>\n",
       "      <td>50s</td>\n",
       "      <td>F</td>\n",
       "      <td>1952750</td>\n",
       "      <td>2019-01-01</td>\n",
       "    </tr>\n",
       "    <tr>\n",
       "      <th>...</th>\n",
       "      <td>...</td>\n",
       "      <td>...</td>\n",
       "      <td>...</td>\n",
       "      <td>...</td>\n",
       "      <td>...</td>\n",
       "      <td>...</td>\n",
       "      <td>...</td>\n",
       "      <td>...</td>\n",
       "      <td>...</td>\n",
       "    </tr>\n",
       "    <tr>\n",
       "      <th>6259497</th>\n",
       "      <td>202003</td>\n",
       "      <td>중랑구</td>\n",
       "      <td>화장품 및 방향제 소매업</td>\n",
       "      <td>인천</td>\n",
       "      <td>서구</td>\n",
       "      <td>40s</td>\n",
       "      <td>F</td>\n",
       "      <td>25800</td>\n",
       "      <td>2020-03-01</td>\n",
       "    </tr>\n",
       "    <tr>\n",
       "      <th>6259498</th>\n",
       "      <td>202003</td>\n",
       "      <td>중랑구</td>\n",
       "      <td>화장품 및 방향제 소매업</td>\n",
       "      <td>인천</td>\n",
       "      <td>서구</td>\n",
       "      <td>50s</td>\n",
       "      <td>M</td>\n",
       "      <td>231700</td>\n",
       "      <td>2020-03-01</td>\n",
       "    </tr>\n",
       "    <tr>\n",
       "      <th>6259499</th>\n",
       "      <td>202003</td>\n",
       "      <td>중랑구</td>\n",
       "      <td>화장품 및 방향제 소매업</td>\n",
       "      <td>인천</td>\n",
       "      <td>서구</td>\n",
       "      <td>50s</td>\n",
       "      <td>F</td>\n",
       "      <td>288700</td>\n",
       "      <td>2020-03-01</td>\n",
       "    </tr>\n",
       "    <tr>\n",
       "      <th>6259500</th>\n",
       "      <td>202003</td>\n",
       "      <td>중랑구</td>\n",
       "      <td>화장품 및 방향제 소매업</td>\n",
       "      <td>인천</td>\n",
       "      <td>서구</td>\n",
       "      <td>60s</td>\n",
       "      <td>M</td>\n",
       "      <td>69600</td>\n",
       "      <td>2020-03-01</td>\n",
       "    </tr>\n",
       "    <tr>\n",
       "      <th>6259501</th>\n",
       "      <td>202003</td>\n",
       "      <td>중랑구</td>\n",
       "      <td>화장품 및 방향제 소매업</td>\n",
       "      <td>인천</td>\n",
       "      <td>서구</td>\n",
       "      <td>60s</td>\n",
       "      <td>F</td>\n",
       "      <td>259300</td>\n",
       "      <td>2020-03-01</td>\n",
       "    </tr>\n",
       "  </tbody>\n",
       "</table>\n",
       "<p>6259502 rows × 9 columns</p>\n",
       "</div>"
      ],
      "text/plain": [
       "             년월 카드이용지역            업종명 거주지역_시도 거주지역_시군구  연령대 성별   이용금액_원  \\\n",
       "0        201901    강남구     건강보조식품 소매업      강원      강릉시  60s  F  1181300   \n",
       "1        201901    강남구     건강보조식품 소매업      강원      속초시  50s  F   756000   \n",
       "2        201901    강남구     건강보조식품 소매업      강원      원주시  50s  F  2480710   \n",
       "3        201901    강남구     건강보조식품 소매업      강원      원주시  60s  F  3604450   \n",
       "4        201901    강남구     건강보조식품 소매업      강원      춘천시  50s  F  1952750   \n",
       "...         ...    ...            ...     ...      ...  ... ..      ...   \n",
       "6259497  202003    중랑구  화장품 및 방향제 소매업      인천       서구  40s  F    25800   \n",
       "6259498  202003    중랑구  화장품 및 방향제 소매업      인천       서구  50s  M   231700   \n",
       "6259499  202003    중랑구  화장품 및 방향제 소매업      인천       서구  50s  F   288700   \n",
       "6259500  202003    중랑구  화장품 및 방향제 소매업      인천       서구  60s  M    69600   \n",
       "6259501  202003    중랑구  화장품 및 방향제 소매업      인천       서구  60s  F   259300   \n",
       "\n",
       "                날짜  \n",
       "0       2019-01-01  \n",
       "1       2019-01-01  \n",
       "2       2019-01-01  \n",
       "3       2019-01-01  \n",
       "4       2019-01-01  \n",
       "...            ...  \n",
       "6259497 2020-03-01  \n",
       "6259498 2020-03-01  \n",
       "6259499 2020-03-01  \n",
       "6259500 2020-03-01  \n",
       "6259501 2020-03-01  \n",
       "\n",
       "[6259502 rows x 9 columns]"
      ]
     },
     "execution_count": 91,
     "metadata": {},
     "output_type": "execute_result"
    }
   ],
   "source": [
    "df_seoul"
   ]
  },
  {
   "cell_type": "code",
   "execution_count": null,
   "metadata": {},
   "outputs": [],
   "source": [
    "# 1 -> 서울사람이 서울에서 소비했을때\n",
    "# 0 -> 타지역사람이 서울에서 소비했을때\n",
    "a = []\n",
    "for i in range(len(df_seoul)):\n",
    "    if df_seoul['카드이용지역'][i] == df_seoul['거주지역_시군구'][i]:\n",
    "        a.append(1)\n",
    "    else: a.append(0)\n",
    "df_seoul['외부인의_결제여부'] = a"
   ]
  },
  {
   "cell_type": "code",
   "execution_count": 95,
   "metadata": {},
   "outputs": [
    {
     "data": {
      "text/html": [
       "<div>\n",
       "<style scoped>\n",
       "    .dataframe tbody tr th:only-of-type {\n",
       "        vertical-align: middle;\n",
       "    }\n",
       "\n",
       "    .dataframe tbody tr th {\n",
       "        vertical-align: top;\n",
       "    }\n",
       "\n",
       "    .dataframe thead th {\n",
       "        text-align: right;\n",
       "    }\n",
       "</style>\n",
       "<table border=\"1\" class=\"dataframe\">\n",
       "  <thead>\n",
       "    <tr style=\"text-align: right;\">\n",
       "      <th></th>\n",
       "      <th>년월</th>\n",
       "      <th>카드이용지역</th>\n",
       "      <th>업종명</th>\n",
       "      <th>거주지역_시도</th>\n",
       "      <th>거주지역_시군구</th>\n",
       "      <th>연령대</th>\n",
       "      <th>성별</th>\n",
       "      <th>이용금액_원</th>\n",
       "      <th>날짜</th>\n",
       "      <th>외부인의_결제여부</th>\n",
       "    </tr>\n",
       "  </thead>\n",
       "  <tbody>\n",
       "    <tr>\n",
       "      <th>0</th>\n",
       "      <td>201901</td>\n",
       "      <td>강남구</td>\n",
       "      <td>건강보조식품 소매업</td>\n",
       "      <td>강원</td>\n",
       "      <td>강릉시</td>\n",
       "      <td>60s</td>\n",
       "      <td>F</td>\n",
       "      <td>1181300</td>\n",
       "      <td>2019-01-01</td>\n",
       "      <td>0</td>\n",
       "    </tr>\n",
       "    <tr>\n",
       "      <th>1</th>\n",
       "      <td>201901</td>\n",
       "      <td>강남구</td>\n",
       "      <td>건강보조식품 소매업</td>\n",
       "      <td>강원</td>\n",
       "      <td>속초시</td>\n",
       "      <td>50s</td>\n",
       "      <td>F</td>\n",
       "      <td>756000</td>\n",
       "      <td>2019-01-01</td>\n",
       "      <td>0</td>\n",
       "    </tr>\n",
       "    <tr>\n",
       "      <th>2</th>\n",
       "      <td>201901</td>\n",
       "      <td>강남구</td>\n",
       "      <td>건강보조식품 소매업</td>\n",
       "      <td>강원</td>\n",
       "      <td>원주시</td>\n",
       "      <td>50s</td>\n",
       "      <td>F</td>\n",
       "      <td>2480710</td>\n",
       "      <td>2019-01-01</td>\n",
       "      <td>0</td>\n",
       "    </tr>\n",
       "    <tr>\n",
       "      <th>3</th>\n",
       "      <td>201901</td>\n",
       "      <td>강남구</td>\n",
       "      <td>건강보조식품 소매업</td>\n",
       "      <td>강원</td>\n",
       "      <td>원주시</td>\n",
       "      <td>60s</td>\n",
       "      <td>F</td>\n",
       "      <td>3604450</td>\n",
       "      <td>2019-01-01</td>\n",
       "      <td>0</td>\n",
       "    </tr>\n",
       "    <tr>\n",
       "      <th>4</th>\n",
       "      <td>201901</td>\n",
       "      <td>강남구</td>\n",
       "      <td>건강보조식품 소매업</td>\n",
       "      <td>강원</td>\n",
       "      <td>춘천시</td>\n",
       "      <td>50s</td>\n",
       "      <td>F</td>\n",
       "      <td>1952750</td>\n",
       "      <td>2019-01-01</td>\n",
       "      <td>0</td>\n",
       "    </tr>\n",
       "    <tr>\n",
       "      <th>...</th>\n",
       "      <td>...</td>\n",
       "      <td>...</td>\n",
       "      <td>...</td>\n",
       "      <td>...</td>\n",
       "      <td>...</td>\n",
       "      <td>...</td>\n",
       "      <td>...</td>\n",
       "      <td>...</td>\n",
       "      <td>...</td>\n",
       "      <td>...</td>\n",
       "    </tr>\n",
       "    <tr>\n",
       "      <th>6259497</th>\n",
       "      <td>202003</td>\n",
       "      <td>중랑구</td>\n",
       "      <td>화장품 및 방향제 소매업</td>\n",
       "      <td>인천</td>\n",
       "      <td>서구</td>\n",
       "      <td>40s</td>\n",
       "      <td>F</td>\n",
       "      <td>25800</td>\n",
       "      <td>2020-03-01</td>\n",
       "      <td>0</td>\n",
       "    </tr>\n",
       "    <tr>\n",
       "      <th>6259498</th>\n",
       "      <td>202003</td>\n",
       "      <td>중랑구</td>\n",
       "      <td>화장품 및 방향제 소매업</td>\n",
       "      <td>인천</td>\n",
       "      <td>서구</td>\n",
       "      <td>50s</td>\n",
       "      <td>M</td>\n",
       "      <td>231700</td>\n",
       "      <td>2020-03-01</td>\n",
       "      <td>0</td>\n",
       "    </tr>\n",
       "    <tr>\n",
       "      <th>6259499</th>\n",
       "      <td>202003</td>\n",
       "      <td>중랑구</td>\n",
       "      <td>화장품 및 방향제 소매업</td>\n",
       "      <td>인천</td>\n",
       "      <td>서구</td>\n",
       "      <td>50s</td>\n",
       "      <td>F</td>\n",
       "      <td>288700</td>\n",
       "      <td>2020-03-01</td>\n",
       "      <td>0</td>\n",
       "    </tr>\n",
       "    <tr>\n",
       "      <th>6259500</th>\n",
       "      <td>202003</td>\n",
       "      <td>중랑구</td>\n",
       "      <td>화장품 및 방향제 소매업</td>\n",
       "      <td>인천</td>\n",
       "      <td>서구</td>\n",
       "      <td>60s</td>\n",
       "      <td>M</td>\n",
       "      <td>69600</td>\n",
       "      <td>2020-03-01</td>\n",
       "      <td>0</td>\n",
       "    </tr>\n",
       "    <tr>\n",
       "      <th>6259501</th>\n",
       "      <td>202003</td>\n",
       "      <td>중랑구</td>\n",
       "      <td>화장품 및 방향제 소매업</td>\n",
       "      <td>인천</td>\n",
       "      <td>서구</td>\n",
       "      <td>60s</td>\n",
       "      <td>F</td>\n",
       "      <td>259300</td>\n",
       "      <td>2020-03-01</td>\n",
       "      <td>0</td>\n",
       "    </tr>\n",
       "  </tbody>\n",
       "</table>\n",
       "<p>6259502 rows × 10 columns</p>\n",
       "</div>"
      ],
      "text/plain": [
       "             년월 카드이용지역            업종명 거주지역_시도 거주지역_시군구  연령대 성별   이용금액_원  \\\n",
       "0        201901    강남구     건강보조식품 소매업      강원      강릉시  60s  F  1181300   \n",
       "1        201901    강남구     건강보조식품 소매업      강원      속초시  50s  F   756000   \n",
       "2        201901    강남구     건강보조식품 소매업      강원      원주시  50s  F  2480710   \n",
       "3        201901    강남구     건강보조식품 소매업      강원      원주시  60s  F  3604450   \n",
       "4        201901    강남구     건강보조식품 소매업      강원      춘천시  50s  F  1952750   \n",
       "...         ...    ...            ...     ...      ...  ... ..      ...   \n",
       "6259497  202003    중랑구  화장품 및 방향제 소매업      인천       서구  40s  F    25800   \n",
       "6259498  202003    중랑구  화장품 및 방향제 소매업      인천       서구  50s  M   231700   \n",
       "6259499  202003    중랑구  화장품 및 방향제 소매업      인천       서구  50s  F   288700   \n",
       "6259500  202003    중랑구  화장품 및 방향제 소매업      인천       서구  60s  M    69600   \n",
       "6259501  202003    중랑구  화장품 및 방향제 소매업      인천       서구  60s  F   259300   \n",
       "\n",
       "                날짜  외부인의_결제여부  \n",
       "0       2019-01-01          0  \n",
       "1       2019-01-01          0  \n",
       "2       2019-01-01          0  \n",
       "3       2019-01-01          0  \n",
       "4       2019-01-01          0  \n",
       "...            ...        ...  \n",
       "6259497 2020-03-01          0  \n",
       "6259498 2020-03-01          0  \n",
       "6259499 2020-03-01          0  \n",
       "6259500 2020-03-01          0  \n",
       "6259501 2020-03-01          0  \n",
       "\n",
       "[6259502 rows x 10 columns]"
      ]
     },
     "execution_count": 95,
     "metadata": {},
     "output_type": "execute_result"
    }
   ],
   "source": [
    "df_seoul"
   ]
  },
  {
   "cell_type": "code",
   "execution_count": 96,
   "metadata": {},
   "outputs": [],
   "source": [
    "df_seoul.to_csv('preprocessing_final.csv', index=False)"
   ]
  }
 ],
 "metadata": {
  "kernelspec": {
   "display_name": "Python 3",
   "language": "python",
   "name": "python3"
  },
  "language_info": {
   "codemirror_mode": {
    "name": "ipython",
    "version": 3
   },
   "file_extension": ".py",
   "mimetype": "text/x-python",
   "name": "python",
   "nbconvert_exporter": "python",
   "pygments_lexer": "ipython3",
   "version": "3.7.10"
  }
 },
 "nbformat": 4,
 "nbformat_minor": 4
}
