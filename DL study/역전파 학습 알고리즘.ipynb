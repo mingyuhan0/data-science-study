{
 "cells": [
  {
   "cell_type": "markdown",
   "metadata": {},
   "source": [
    "## 역전파 학습 알고리즘"
   ]
  },
  {
   "cell_type": "code",
   "execution_count": 2,
   "metadata": {},
   "outputs": [],
   "source": [
    "import numpy as np"
   ]
  },
  {
   "cell_type": "code",
   "execution_count": 3,
   "metadata": {},
   "outputs": [],
   "source": [
    "# 활성화 함수\n",
    "def actf(x):\n",
    "    return 1 / (1+np.exp(-x))\n",
    "\n",
    "# 활성화 함수 미분치(역)\n",
    "def actf_deriv(x):\n",
    "    return x * (1-x)"
   ]
  },
  {
   "cell_type": "code",
   "execution_count": 4,
   "metadata": {},
   "outputs": [],
   "source": [
    "inputs, hiddens, outputs = 2, 2, 1\n",
    "learning_rate = 0.2\n",
    "\n",
    "#학습 샘플과 정답(XOR)\n",
    "X = np.array([[0,0], [0,1], [1,0], [1,1]])\n",
    "T = np.array([[0], [1], [1], [0]])\n",
    "\n",
    "#훈련 데이터\n",
    "W1 = np.array([[0.10, 0.20], [0.30, 0.40]])\n",
    "W2 = np.array([[0.50], [0.60]])\n",
    "B1 = np.array([0.1, 0.2])\n",
    "B2 = np.array([0.3])"
   ]
  },
  {
   "cell_type": "code",
   "execution_count": 5,
   "metadata": {},
   "outputs": [],
   "source": [
    "#순방향 전파 계산 \n",
    "def predict(x):\n",
    "    layer0 = X                   #입력값을 layer0에 대입\n",
    "    Z1 = np.dot(layer0, W1) + B1 # 입력값에 대한 affine function계산 : 행렬곱\n",
    "    layer1 = actf(Z1)            # 활성화 함수(시그모이드)\n",
    "    Z2 = np.dot(layer1, W2) + B2 # layer1dp 대한 affine function계산 : 행렬곱\n",
    "    layer2 = actf(Z2)            # 활성화 함수(시그모이드)\n",
    "    return layer0, layer1, layer2"
   ]
  },
  {
   "cell_type": "code",
   "execution_count": 11,
   "metadata": {},
   "outputs": [],
   "source": [
    "# 역전파 계산\n",
    "def fit():\n",
    "    global W1, W2, B1, B2\n",
    "    for i in range(90000):\n",
    "        for x, y in zip(X, T):\n",
    "            x = np.reshape(x, (1, -1))\n",
    "            y = np.reshape(y, (1, -1))\n",
    "            \n",
    "            layer0, layer1, layer2 = predict(x) #순방향 계산\n",
    "            layer2_error = layer2 - y # 오차 계산\n",
    "            layer2_delta = layer2_error * actf_deriv(layer2) #출력층의 델타 계산\n",
    "            layer1_error = np.dot(layer2_delta, W2.T) #은닉층의 오차 계산\n",
    "            layer1_delta = layer1_error * actf_deriv(layer1) # 은닉층의 델타 계산\n",
    "            \n",
    "            W2 += -learning_rate * np.dot(layer1.T, layer2_delta)\n",
    "            W1 += -learning_rate * np.dot(layer0.T, layer1_delta)\n",
    "            B2 += -learning_rate * np.sum(layer2_delta, axis=0)\n",
    "            B1 += -learning_rate * np.sum(layer1_delta, axis=0)"
   ]
  },
  {
   "cell_type": "code",
   "execution_count": 12,
   "metadata": {},
   "outputs": [
    {
     "name": "stdout",
     "output_type": "stream",
     "text": [
      "[[0 0]] [0] [[0.49937625]\n",
      " [0.49937898]\n",
      " [0.49937898]\n",
      " [0.49937898]]\n",
      "[[0 1]] [1] [[0.49937625]\n",
      " [0.49937898]\n",
      " [0.49937898]\n",
      " [0.49937898]]\n",
      "[[1 0]] [1] [[0.49937625]\n",
      " [0.49937898]\n",
      " [0.49937898]\n",
      " [0.49937898]]\n",
      "[[1 1]] [0] [[0.49937625]\n",
      " [0.49937898]\n",
      " [0.49937898]\n",
      " [0.49937898]]\n"
     ]
    }
   ],
   "source": [
    "def test():\n",
    "    for x, y in zip(X,T):\n",
    "        x = np.reshape(x, (1, -1))\n",
    "        layer0, layer1, layer2 = predict(x)\n",
    "        print(x, y, layer2)\n",
    "fit()\n",
    "test()"
   ]
  },
  {
   "cell_type": "code",
   "execution_count": null,
   "metadata": {},
   "outputs": [],
   "source": []
  }
 ],
 "metadata": {
  "kernelspec": {
   "display_name": "Python 3",
   "language": "python",
   "name": "python3"
  },
  "language_info": {
   "codemirror_mode": {
    "name": "ipython",
    "version": 3
   },
   "file_extension": ".py",
   "mimetype": "text/x-python",
   "name": "python",
   "nbconvert_exporter": "python",
   "pygments_lexer": "ipython3",
   "version": "3.7.10"
  }
 },
 "nbformat": 4,
 "nbformat_minor": 4
}
