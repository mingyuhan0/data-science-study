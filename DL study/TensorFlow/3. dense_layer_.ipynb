{
  "nbformat": 4,
  "nbformat_minor": 0,
  "metadata": {
    "colab": {
      "name": "dense layer .ipynb",
      "provenance": [],
      "collapsed_sections": []
    },
    "kernelspec": {
      "name": "python3",
      "display_name": "Python 3"
    },
    "language_info": {
      "name": "python"
    }
  },
  "cells": [
    {
      "cell_type": "markdown",
      "metadata": {
        "id": "aSCAi9OMhEy8"
      },
      "source": [
        "## Dense Layers"
      ]
    },
    {
      "cell_type": "code",
      "metadata": {
        "id": "Arxc4HokhKB6"
      },
      "source": [
        "#shape of dense layers\n",
        "import tensorflow as tf\n",
        "from tensorflow.keras.layers import Dense"
      ],
      "execution_count": null,
      "outputs": []
    },
    {
      "cell_type": "code",
      "metadata": {
        "colab": {
          "base_uri": "https://localhost:8080/"
        },
        "id": "K-orddbChUBC",
        "outputId": "e90ddb92-8068-4674-b6ff-80cc23a85dbf"
      },
      "source": [
        "N, n_feature = 1, 10\n",
        "tf.random.set_seed(10)\n",
        "x = tf.random.normal(shape=(N, n_feature))\n",
        "\n",
        "n_neuron = 3\n",
        "dense = Dense(units = n_neuron, activation='sigmoid')\n",
        "y = dense(x)\n",
        "\n",
        "w, b = dense.get_weights()\n",
        "print('==== input / weight / bias ====')\n",
        "print('x: ', x.shape)\n",
        "print('w: ', w.shape)\n",
        "print('b: ', b.shape)\n",
        "print('y: ', y.shape)"
      ],
      "execution_count": null,
      "outputs": [
        {
          "output_type": "stream",
          "text": [
            "==== input / weight / bias ====\n",
            "x:  (1, 10)\n",
            "w:  (10, 3)\n",
            "b:  (3,)\n",
            "y:  (1, 3)\n"
          ],
          "name": "stdout"
        }
      ]
    },
    {
      "cell_type": "code",
      "metadata": {
        "colab": {
          "base_uri": "https://localhost:8080/"
        },
        "id": "JaQVCDDNi4cb",
        "outputId": "bb6ff032-c78f-4a54-8709-9a8be6838b3f"
      },
      "source": [
        "#output calculations\n",
        "N, n_feature = 4, 10\n",
        "tf.random.set_seed(10)\n",
        "x = tf.random.normal(shape=(N, n_feature))\n",
        "\n",
        "n_neuron = 3\n",
        "dense = Dense(units = n_neuron, activation='sigmoid')\n",
        "y_tf = dense(x)\n",
        "print('y(Tensorflow): \\n', y_tf.numpy())\n",
        "\n",
        "W, b = dense.get_weights()\n",
        "\n",
        "# calculate with matrix multiplication\n",
        "z = tf.linalg.matmul(x, W) + b\n",
        "y_man = 1 / (1+tf.math.exp(-z))\n",
        "print('y(with matrix multiplocation: \\n', y_man.numpy())\n",
        "\n",
        "import numpy as np\n",
        "# calculate with dot products(옛날 방식)\n",
        "y_man_vec = np.zeros(shape=(N, n_neuron))\n",
        "for x_idx in range(N):\n",
        "  x_ = x[x_idx]\n",
        "  for nu_idx in range(n_neuron):\n",
        "    w, b_ = W[:, nu_idx], b[nu_idx]\n",
        "    z = tf.reduce_sum(x_ * w) + b_\n",
        "    a = 1 / (1+np.exp(-z))\n",
        "    y_man_vec[x_idx, nu_idx] = a\n",
        "print('y(with got product): \\n', y_man_vec)\n"
      ],
      "execution_count": null,
      "outputs": [
        {
          "output_type": "stream",
          "text": [
            "y(Tensorflow): \n",
            " [[0.88741076 0.28992727 0.35931098]\n",
            " [0.7775674  0.6703929  0.20458943]\n",
            " [0.4281316  0.61795133 0.45941862]\n",
            " [0.87215537 0.18618417 0.49994683]]\n",
            "y(with matrix multiplocation: \n",
            " [[0.8874107  0.28992724 0.35931098]\n",
            " [0.7775674  0.6703928  0.20458944]\n",
            " [0.42813158 0.61795133 0.4594186 ]\n",
            " [0.8721554  0.18618418 0.49994683]]\n",
            "y(with got product): \n",
            " [[0.8874107  0.28992724 0.35931102]\n",
            " [0.7775674  0.67039287 0.20458942]\n",
            " [0.4281316  0.61795135 0.45941861]\n",
            " [0.87215541 0.1861842  0.49994681]]\n"
          ],
          "name": "stdout"
        }
      ]
    },
    {
      "cell_type": "markdown",
      "metadata": {
        "id": "0-R5rJ5bnLZf"
      },
      "source": [
        "## Model Implementation"
      ]
    },
    {
      "cell_type": "code",
      "metadata": {
        "id": "iUmobGaTnJV_"
      },
      "source": [
        "# Model Implementation with Sequential Method\n",
        "from tensorflow.keras.layers import Dense\n",
        "from tensorflow.keras.models import Sequential"
      ],
      "execution_count": null,
      "outputs": []
    },
    {
      "cell_type": "code",
      "metadata": {
        "id": "RII_wMZ9n-LR"
      },
      "source": [
        "model = Sequential()\n",
        "model.add(Dense(units=10, activation='sigmoid')) #activation 지정 안하면 none임\n",
        "model.add(Dense(units=20, activation='sigmoid'))"
      ],
      "execution_count": null,
      "outputs": []
    },
    {
      "cell_type": "code",
      "metadata": {
        "id": "V22LPrQxoR5Y"
      },
      "source": [
        "n_neurons = [3,4,5,6]\n",
        "model = list()\n",
        "for n_neuron in n_neurons:\n",
        "  model.apped(Dense(units=n_neuron, activation='sigmoid'))\n",
        "\n",
        "model = Sequential()\n",
        "for n_neuron in n_neurons:\n",
        "  model.apped(Dense(units=n_neuron, activation='sigmoid'))\n",
        "\n",
        "# 기본적으로 list나 sequential을 사용하는 것은 비슷\n",
        "# sequential 클래스를 이용하면 여러가지 부가 기능이 있어서 좋음"
      ],
      "execution_count": null,
      "outputs": []
    },
    {
      "cell_type": "code",
      "metadata": {
        "id": "tMiy7Vo4qyzL"
      },
      "source": [
        "#model implementation with model-subclassing\n",
        "from tensorflow.keras.layers import Dense\n",
        "from tensorflow.keras.models import Model"
      ],
      "execution_count": null,
      "outputs": []
    },
    {
      "cell_type": "code",
      "metadata": {
        "colab": {
          "base_uri": "https://localhost:8080/"
        },
        "id": "Fu6bcjFeq92u",
        "outputId": "9a2a8ea8-462e-43a1-feb9-5883ec106f2e"
      },
      "source": [
        "class TestModel(Model):\n",
        "  def __init__(self):\n",
        "    super(TestModel, self).__init__()\n",
        "    self.dense1 = Dense(units=10, activation='sigmoid')\n",
        "    self.dense2 = Dense(units=20, activation='sigmoid')\n",
        "model = TestModel()\n",
        "print(model.dense1)\n",
        "print(model.dense2)"
      ],
      "execution_count": null,
      "outputs": [
        {
          "output_type": "stream",
          "text": [
            "<tensorflow.python.keras.layers.core.Dense object at 0x7f736c547050>\n",
            "<tensorflow.python.keras.layers.core.Dense object at 0x7f736c565e90>\n"
          ],
          "name": "stdout"
        }
      ]
    },
    {
      "cell_type": "code",
      "metadata": {
        "id": "kY-f0GgBuZDC"
      },
      "source": [
        "# forward Propagation od models\n",
        "from tensorflow.keras.layers import Dense\n",
        "from tensorflow.keras.models import Model\n",
        "from tensorflow.keras.models import Sequential"
      ],
      "execution_count": null,
      "outputs": []
    },
    {
      "cell_type": "code",
      "metadata": {
        "colab": {
          "base_uri": "https://localhost:8080/"
        },
        "id": "LspQm6bcunZb",
        "outputId": "6c4cb7ba-5f05-47dd-9d9b-0ee3b270c2d7"
      },
      "source": [
        "tf.random.set_seed(10)\n",
        "X = tf.random.normal(shape=(4,10))\n",
        "\n",
        "#sequential method\n",
        "model = Sequential()\n",
        "model.add(Dense(units=10, activation='sigmoid'))\n",
        "model.add(Dense(units=20, activation='sigmoid'))\n",
        "\n",
        "Y = model(X)\n",
        "print(Y.numpy())\n",
        "\n",
        "#model-subclassing\n",
        "class TestModel(Model): # 이 시점 w, b는 초기화 됨(기본은 랜덤)\n",
        "  def __init__(self):\n",
        "    super(TestModel, self).__init__() #class의 init method 호출 -> 초기화\n",
        "    self.dense1 = Dense(units=10, activation='sigmoid')\n",
        "    self.dense2 = Dense(units=20, activation='sigmoid')\n",
        "\n",
        "  def call(self, x):\n",
        "    x = self.dense1(x)\n",
        "    x = self.dense2(x)\n",
        "    return x\n",
        "\n",
        "model = TestModel()\n",
        "Y = model(x) # 이 시점 w, b는 초기화 됨(기본은 랜덤)\n",
        "print(Y.numpy())"
      ],
      "execution_count": null,
      "outputs": [
        {
          "output_type": "stream",
          "text": [
            "[[0.55650467 0.5736378  0.5630582  0.38230422 0.5800853  0.46750382\n",
            "  0.5453265  0.572396   0.577736   0.5092679  0.63902617 0.41740972\n",
            "  0.4959601  0.48987812 0.37868184 0.6252993  0.50767297 0.5675629\n",
            "  0.4415443  0.5643339 ]\n",
            " [0.542635   0.5824134  0.55322725 0.41820836 0.45012072 0.4604416\n",
            "  0.5349409  0.56532025 0.5037934  0.5493765  0.62485325 0.48017088\n",
            "  0.4684742  0.44895202 0.44587284 0.58404434 0.40546966 0.5525067\n",
            "  0.48883936 0.5321424 ]\n",
            " [0.5514741  0.54305255 0.5955268  0.39230984 0.49052256 0.4777674\n",
            "  0.5909605  0.60162765 0.5510731  0.53855234 0.6518259  0.36644483\n",
            "  0.46875128 0.42796102 0.42704153 0.62905306 0.47941467 0.5476874\n",
            "  0.45441562 0.5198266 ]\n",
            " [0.55018824 0.6035677  0.54334694 0.37710547 0.553181   0.46198446\n",
            "  0.5360454  0.57856405 0.5902688  0.49926516 0.6641064  0.46451893\n",
            "  0.4757576  0.51785564 0.3944179  0.58145726 0.4373687  0.54021823\n",
            "  0.46061313 0.6211433 ]]\n",
            "[[0.40813234 0.42172378 0.41616654 0.61241937 0.52082723 0.4728814\n",
            "  0.45194685 0.55067974 0.48239452 0.5269487  0.3425702  0.56788254\n",
            "  0.53683674 0.45116064 0.57737255 0.3745749  0.50302655 0.47585034\n",
            "  0.4644284  0.48717836]\n",
            " [0.39427668 0.42261708 0.4263922  0.6321027  0.58425653 0.41423166\n",
            "  0.45535088 0.5650285  0.47298375 0.57162035 0.3792034  0.5789773\n",
            "  0.55008554 0.46743047 0.6278701  0.38443872 0.4465076  0.44824985\n",
            "  0.44269803 0.4882121 ]\n",
            " [0.43187022 0.43135217 0.42389897 0.6220153  0.5373775  0.40323654\n",
            "  0.44183812 0.59052485 0.54286927 0.5861168  0.36018002 0.5679879\n",
            "  0.5985896  0.50855976 0.6440172  0.35895765 0.51136065 0.42516217\n",
            "  0.46972218 0.45307997]\n",
            " [0.34408414 0.41604787 0.37800354 0.63106114 0.550605   0.49759394\n",
            "  0.40622115 0.53566176 0.40989125 0.5805914  0.30071315 0.6019247\n",
            "  0.46417215 0.385768   0.57098013 0.35501045 0.47410986 0.41021484\n",
            "  0.43562746 0.4727015 ]]\n"
          ],
          "name": "stdout"
        }
      ]
    }
  ]
}