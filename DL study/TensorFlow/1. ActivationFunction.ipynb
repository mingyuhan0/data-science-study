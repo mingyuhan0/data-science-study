{
 "cells": [
  {
   "cell_type": "markdown",
   "id": "81a7c833-9cda-4a8c-a2fa-0e68f9824109",
   "metadata": {
    "tags": []
   },
   "source": [
    "# Activation Functions"
   ]
  },
  {
   "cell_type": "code",
   "execution_count": 4,
   "id": "b4c00aca-0b4a-4d9c-94b5-484e13d06d33",
   "metadata": {},
   "outputs": [
    {
     "data": {
      "text/plain": [
       "'2.1.0'"
      ]
     },
     "execution_count": 4,
     "metadata": {},
     "output_type": "execute_result"
    }
   ],
   "source": [
    "tf.__version__"
   ]
  },
  {
   "cell_type": "code",
   "execution_count": 7,
   "id": "10860b7a-4858-43dc-83a0-633b2bc84f6e",
   "metadata": {},
   "outputs": [],
   "source": [
    "import tensorflow as tf\n",
    "# from tensorflow.math import exp, maximum\n",
    "from tensorflow.keras.layers import Activation"
   ]
  },
  {
   "cell_type": "code",
   "execution_count": 14,
   "id": "c1e7f73e-802c-4c86-aaf9-f3c0ad50d78e",
   "metadata": {},
   "outputs": [
    {
     "name": "stdout",
     "output_type": "stream",
     "text": [
      "x: (1, 5)\n",
      "[[-0.8757808   0.3356369  -0.35219625 -0.30314562 -0.03882965]]\n",
      "sigmoid(Tensorflow): (1, 5)\n",
      "[[0.29405284 0.5831303  0.41284993 0.42478868 0.49029383]]\n",
      "tanh(Tensorflow): (1, 5)\n",
      "[[-0.70429933  0.32357663 -0.33832183 -0.29418862 -0.03881015]]\n",
      "relu(Tensorflow): (1, 5)\n",
      "[[0.        0.3356369 0.        0.        0.       ]]\n"
     ]
    }
   ],
   "source": [
    "tf.random.set_seed(10)\n",
    "x = tf.random.normal(shape=(1, 5))\n",
    "\n",
    "sigmoid = Activation('sigmoid')\n",
    "tanh = Activation('tanh')\n",
    "relu = Activation('relu')\n",
    "\n",
    "# forwad propagation(tensorflow)\n",
    "y_sigmoid_tf = sigmoid(x)\n",
    "y_tanh_tf = tanh(x)\n",
    "y_relu_tf = relu(x)\n",
    "\n",
    "print('x: {}\\n{}'.format(x.shape, x.numpy()))\n",
    "print('sigmoid(Tensorflow): {}\\n{}'.format(y_sigmoid_tf.shape, y_sigmoid_tf.numpy()))\n",
    "print('tanh(Tensorflow): {}\\n{}'.format(y_tanh_tf.shape, y_tanh_tf.numpy()))\n",
    "print('relu(Tensorflow): {}\\n{}'.format(y_relu_tf.shape, y_relu_tf.numpy()))"
   ]
  },
  {
   "cell_type": "code",
   "execution_count": 16,
   "id": "c625facc-6b74-4406-9557-ffc8c1f11ec0",
   "metadata": {},
   "outputs": [
    {
     "name": "stdout",
     "output_type": "stream",
     "text": [
      "x: (1, 5)\n",
      "[[-0.8757808   0.3356369  -0.35219625 -0.30314562 -0.03882965]]\n",
      "sigmoid(manual): (1, 5)\n",
      "[[0.29405284 0.5831303  0.41284993 0.42478868 0.49029383]]\n",
      "tanh(manual): (1, 5)\n",
      "[[-0.70429933  0.32357663 -0.33832183 -0.29418865 -0.03881014]]\n",
      "relu(manual): (1, 5)\n",
      "[[0.        0.3356369 0.        0.        0.       ]]\n"
     ]
    }
   ],
   "source": [
    "# forwad propagation(manual)\n",
    "y_sigmoid_man = 1 / (1+tf.math.exp(-x))\n",
    "y_tanh_man = (tf.math.exp(x) - tf.math.exp(-x)) / (tf.math.exp(x) + tf.math.exp(-x))\n",
    "y_relu_man = tf.math.maximum(x, 0)\n",
    "\n",
    "print('x: {}\\n{}'.format(x.shape, x.numpy()))\n",
    "print('sigmoid(manual): {}\\n{}'.format(y_sigmoid_man.shape, y_sigmoid_man.numpy()))\n",
    "print('tanh(manual): {}\\n{}'.format(y_tanh_man.shape, y_tanh_man.numpy()))\n",
    "print('relu(manual): {}\\n{}'.format(y_relu_man.shape, y_relu_man.numpy()))"
   ]
  },
  {
   "cell_type": "code",
   "execution_count": 9,
   "id": "d8705913-1ae3-4c41-bafc-0cbf335ad5ad",
   "metadata": {},
   "outputs": [
    {
     "name": "stdout",
     "output_type": "stream",
     "text": [
      "AN with sigmoid: (1, 1)\n",
      "[[0.498436]]\n",
      "AN with thah: (1, 1)\n",
      "[[0.32123712]]\n",
      "AN with relu: (1, 1)\n",
      "[[0.]]\n"
     ]
    }
   ],
   "source": [
    "# Activation in Dense Layer\n",
    "from tensorflow.keras.layers import Dense\n",
    "tf.random.set_seed(10)\n",
    "x = tf.random.normal(shape=(1, 5))\n",
    "\n",
    "# imp. Artifical neurons\n",
    "dense_sigmoid = Dense(units=1, activation='sigmoid')\n",
    "dense_tanh = Dense(units=1, activation='tanh')\n",
    "dense_relu = Dense(units=1, activation='relu')\n",
    "\n",
    "# forward propagation\n",
    "y_sigmoid = dense_sigmoid(x)\n",
    "y_tanh = dense_tanh(x)\n",
    "y_relu = dense_relu(x)\n",
    "\n",
    "print('AN with sigmoid: {}\\n{}'.format(y_sigmoid.shape, y_sigmoid.numpy()))\n",
    "print('AN with thah: {}\\n{}'.format(y_tanh.shape, y_tanh.numpy()))\n",
    "print('AN with relu: {}\\n{}'.format(y_relu.shape, y_relu.numpy()))"
   ]
  },
  {
   "cell_type": "code",
   "execution_count": 11,
   "id": "bd5d46f4-2380-4acc-96f1-50e123da4b9f",
   "metadata": {},
   "outputs": [
    {
     "name": "stdout",
     "output_type": "stream",
     "text": [
      "Activation value(Tensorflow): (1, 1)\n",
      "[[0.498436]]\n",
      "Activation value(Manual): (1, 1)\n",
      "[[0.498436]]\n"
     ]
    }
   ],
   "source": [
    "# forward propagation(manual)\n",
    "W, b = dense_sigmoid.get_weights()\n",
    "z = tf.linalg.matmul(x, W) + b\n",
    "a = 1 / (1 + tf.exp(-z))\n",
    "\n",
    "print('Activation value(Tensorflow): {}\\n{}'.format(y_sigmoid.shape, y_sigmoid.numpy()))\n",
    "print('Activation value(Manual): {}\\n{}'.format(a.shape, a.numpy()))"
   ]
  },
  {
   "cell_type": "code",
   "execution_count": 17,
   "id": "13ccbffb-7411-471b-bd0a-36bf2993da06",
   "metadata": {},
   "outputs": [
    {
     "name": "stdout",
     "output_type": "stream",
     "text": [
      "Shape of x:  (8, 10)\n",
      "Shape of W:  (10, 1)\n",
      "Shape of b:  (1,)\n"
     ]
    }
   ],
   "source": [
    "# Minibatches, Shapes of Dense Layers\n",
    "N, n_features = 8, 10\n",
    "tf.random.set_seed(10)\n",
    "x = tf.random.normal(shape=(N, n_features))\n",
    "\n",
    "dense = Dense(units=1, activation='relu')\n",
    "y = dense(x)\n",
    "W, b = dense.get_weights()\n",
    "\n",
    "print('Shape of x: ', x.shape)\n",
    "print('Shape of W: ', W.shape)\n",
    "print('Shape of b: ', b.shape)"
   ]
  },
  {
   "cell_type": "code",
   "execution_count": 18,
   "id": "81126128-cc75-4f03-986e-8a52bc8fe353",
   "metadata": {},
   "outputs": [
    {
     "name": "stdout",
     "output_type": "stream",
     "text": [
      "Output(Tensorflow): (8, 1)\n",
      "[[0.46854383]\n",
      " [0.5895974 ]\n",
      " [0.10466997]\n",
      " [0.8744324 ]\n",
      " [0.7818612 ]\n",
      " [0.47610277]\n",
      " [0.33888915]\n",
      " [0.7424137 ]]\n",
      "\n",
      "Output(Manual): (8, 1)\n",
      "[[0.46854383]\n",
      " [0.5895974 ]\n",
      " [0.10466997]\n",
      " [0.8744324 ]\n",
      " [0.7818612 ]\n",
      " [0.47610277]\n",
      " [0.33888915]\n",
      " [0.7424137 ]]\n",
      "\n"
     ]
    }
   ],
   "source": [
    "# Output Calculations\n",
    "N, n_features = 8, 10\n",
    "tf.random.set_seed(10)\n",
    "x = tf.random.normal(shape=(N, n_features))\n",
    "\n",
    "dense = Dense(units=1, activation='sigmoid')\n",
    "y_tf = dense(x)\n",
    "W, b = dense.get_weights()\n",
    "\n",
    "y_man = tf.linalg.matmul(x, W) + b\n",
    "y_man = 1 / (1+tf.math.exp(-y_man))\n",
    "\n",
    "print('Output(Tensorflow): {}\\n{}\\n'.format(y_tf.shape, y_tf.numpy()))\n",
    "print('Output(Manual): {}\\n{}\\n'.format(y_man.shape, y_man.numpy()))"
   ]
  },
  {
   "cell_type": "code",
   "execution_count": null,
   "id": "fd18fc1b-25e7-4a32-879f-86fb85878264",
   "metadata": {},
   "outputs": [],
   "source": []
  }
 ],
 "metadata": {
  "kernelspec": {
   "display_name": "Python 3",
   "language": "python",
   "name": "python3"
  },
  "language_info": {
   "codemirror_mode": {
    "name": "ipython",
    "version": 3
   },
   "file_extension": ".py",
   "mimetype": "text/x-python",
   "name": "python",
   "nbconvert_exporter": "python",
   "pygments_lexer": "ipython3",
   "version": "3.7.10"
  }
 },
 "nbformat": 4,
 "nbformat_minor": 5
}
