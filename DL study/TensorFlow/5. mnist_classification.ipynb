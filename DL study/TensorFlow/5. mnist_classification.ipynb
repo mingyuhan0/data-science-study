{
  "nbformat": 4,
  "nbformat_minor": 0,
  "metadata": {
    "kernelspec": {
      "display_name": "Python 3",
      "language": "python",
      "name": "python3"
    },
    "language_info": {
      "codemirror_mode": {
        "name": "ipython",
        "version": 3
      },
      "file_extension": ".py",
      "mimetype": "text/x-python",
      "name": "python",
      "nbconvert_exporter": "python",
      "pygments_lexer": "ipython3",
      "version": "3.8.5"
    },
    "colab": {
      "name": "mnist_classification.ipynb",
      "provenance": [],
      "collapsed_sections": []
    }
  },
  "cells": [
    {
      "cell_type": "markdown",
      "metadata": {
        "id": "pGmPs1Di3JAQ"
      },
      "source": [
        "# Mnist Classification"
      ]
    },
    {
      "cell_type": "code",
      "metadata": {
        "id": "oEHlJxCX3JAR"
      },
      "source": [
        "import tensorflow as tf\n",
        "import numpy as np"
      ],
      "execution_count": 54,
      "outputs": []
    },
    {
      "cell_type": "markdown",
      "metadata": {
        "id": "jMPCBS_I3JAS"
      },
      "source": [
        "## 케라스 내장 데이터 셋\n",
        "- boston_housing : 보스톤 주택 가격\n",
        "- clfar10 : 이미지 분류\n",
        "- clfar100 : 이미지 분류\n",
        "- mnist : 손글씨\n",
        "- fashio_mnist : 의류 이미지 데이터\n",
        "- imdb : 영화 데이터(평가글)\n",
        "- reuters : 뉴스 토픽\n"
      ]
    },
    {
      "cell_type": "code",
      "metadata": {
        "id": "T3K4d5uu3JAU"
      },
      "source": [
        "mnist = tf.keras.datasets.mnist"
      ],
      "execution_count": 55,
      "outputs": []
    },
    {
      "cell_type": "code",
      "metadata": {
        "colab": {
          "base_uri": "https://localhost:8080/"
        },
        "id": "cXR8Vvsb3JAU",
        "outputId": "d36be605-e09d-4e88-a562-2239d8ef383c"
      },
      "source": [
        "print(type(mnist))"
      ],
      "execution_count": 56,
      "outputs": [
        {
          "output_type": "stream",
          "text": [
            "<class 'module'>\n"
          ],
          "name": "stdout"
        }
      ]
    },
    {
      "cell_type": "code",
      "metadata": {
        "id": "LwBAmPrU3JAV"
      },
      "source": [
        "(x_train, y_train), (x_test, y_test) = mnist.load_data()  # 알아서 train test로 나누어 줌 "
      ],
      "execution_count": 57,
      "outputs": []
    },
    {
      "cell_type": "code",
      "metadata": {
        "colab": {
          "base_uri": "https://localhost:8080/"
        },
        "id": "ErP33RHm3JAW",
        "outputId": "ac593a7f-c65f-4f52-a278-52784b73df2c"
      },
      "source": [
        "print('train set : ', x_train.shape, y_train.shape)\n",
        "print('test set : ', x_test.shape, y_test.shape)"
      ],
      "execution_count": 58,
      "outputs": [
        {
          "output_type": "stream",
          "text": [
            "train set :  (60000, 28, 28) (60000,)\n",
            "test set :  (10000, 28, 28) (10000,)\n"
          ],
          "name": "stdout"
        }
      ]
    },
    {
      "cell_type": "code",
      "metadata": {
        "colab": {
          "base_uri": "https://localhost:8080/",
          "height": 371
        },
        "id": "zwbYbD9P3JAX",
        "outputId": "e5d474b5-86de-48f8-c1db-0d86926a57c7"
      },
      "source": [
        "# 데이터 시각화\n",
        "import matplotlib.pyplot as plt\n",
        "fig, axes = plt.subplots(3,5)  # 화면의 크기 3 * 5\n",
        "fig.set_size_inches(8,5)\n",
        "\n",
        "for i in range(15):\n",
        "    ax = axes[i//5, i%5]\n",
        "    ax.imshow(x_train[i], cmap='gray')\n",
        "    ax.axis('off')\n",
        "    ax.set_title(str(y_train[i]))\n",
        "\n",
        "plt.tight_layout()\n",
        "plt.show()"
      ],
      "execution_count": 59,
      "outputs": [
        {
          "output_type": "display_data",
          "data": {
            "image/png": "[encoded data removed]",
            "text/plain": [
              "<Figure size 576x360 with 15 Axes>"
            ]
          },
          "metadata": {
            "tags": [],
            "needs_background": "light"
          }
        }
      ]
    },
    {
      "cell_type": "code",
      "metadata": {
        "colab": {
          "base_uri": "https://localhost:8080/"
        },
        "id": "ln2BO-no3JAZ",
        "outputId": "b3e6d152-3eb7-43b6-b584-09573785a0ab"
      },
      "source": [
        "# 데이터 전처리\n",
        "x_train[0,10:15,10:15]"
      ],
      "execution_count": 60,
      "outputs": [
        {
          "output_type": "execute_result",
          "data": {
            "text/plain": [
              "array([[  1, 154, 253,  90,   0],\n",
              "       [  0, 139, 253, 190,   2],\n",
              "       [  0,  11, 190, 253,  70],\n",
              "       [  0,   0,  35, 241, 225],\n",
              "       [  0,   0,   0,  81, 240]], dtype=uint8)"
            ]
          },
          "metadata": {
            "tags": []
          },
          "execution_count": 60
        }
      ]
    },
    {
      "cell_type": "code",
      "metadata": {
        "colab": {
          "base_uri": "https://localhost:8080/"
        },
        "id": "qZmsra8A3JAb",
        "outputId": "8b1ffac0-970a-4b79-bab3-e876e13602a7"
      },
      "source": [
        "# 픽셀 값의 최소 / 최대 값 확인\n",
        "\n",
        "print(f'정규화 전 최소값: {x_train.min()}.최대값: {x_train.max()}')"
      ],
      "execution_count": 61,
      "outputs": [
        {
          "output_type": "stream",
          "text": [
            "정규화 전 최소값: 0.최대값: 255\n"
          ],
          "name": "stdout"
        }
      ]
    },
    {
      "cell_type": "code",
      "metadata": {
        "id": "ir_Uv9Ll3JAb"
      },
      "source": [
        "# 데이터 정규화\n",
        "x_train = x_train / x_train.max()"
      ],
      "execution_count": 62,
      "outputs": []
    },
    {
      "cell_type": "code",
      "metadata": {
        "colab": {
          "base_uri": "https://localhost:8080/"
        },
        "id": "D-8FHxxo3JAd",
        "outputId": "c15b8c9f-2d72-4181-9783-7824ebcaeee8"
      },
      "source": [
        "print(f'정규화 후 최소값: {x_train.min()}.최대값: {x_train.max()}')"
      ],
      "execution_count": 63,
      "outputs": [
        {
          "output_type": "stream",
          "text": [
            "정규화 후 최소값: 0.0.최대값: 1.0\n"
          ],
          "name": "stdout"
        }
      ]
    },
    {
      "cell_type": "code",
      "metadata": {
        "id": "iXPZOvd83JAe"
      },
      "source": [
        "x_test = x_test / x_test.max()"
      ],
      "execution_count": 64,
      "outputs": []
    },
    {
      "cell_type": "code",
      "metadata": {
        "colab": {
          "base_uri": "https://localhost:8080/"
        },
        "id": "2vhAdoJQ3JAf",
        "outputId": "d202de91-8c5c-490e-c0b0-9c26f929fbdd"
      },
      "source": [
        "print(f'정규화 후 최소값: {x_test.min()}.최대값: {x_test.max()}')"
      ],
      "execution_count": 65,
      "outputs": [
        {
          "output_type": "stream",
          "text": [
            "정규화 후 최소값: 0.0.최대값: 1.0\n"
          ],
          "name": "stdout"
        }
      ]
    },
    {
      "cell_type": "code",
      "metadata": {
        "colab": {
          "base_uri": "https://localhost:8080/"
        },
        "id": "ZLB2l3fi3JAh",
        "outputId": "a2f97dbf-b43c-4f08-8ccc-e68602f2ed8c"
      },
      "source": [
        "x_train[0,10:15,10:15]"
      ],
      "execution_count": 66,
      "outputs": [
        {
          "output_type": "execute_result",
          "data": {
            "text/plain": [
              "array([[0.00392157, 0.60392157, 0.99215686, 0.35294118, 0.        ],\n",
              "       [0.        , 0.54509804, 0.99215686, 0.74509804, 0.00784314],\n",
              "       [0.        , 0.04313725, 0.74509804, 0.99215686, 0.2745098 ],\n",
              "       [0.        , 0.        , 0.1372549 , 0.94509804, 0.88235294],\n",
              "       [0.        , 0.        , 0.        , 0.31764706, 0.94117647]])"
            ]
          },
          "metadata": {
            "tags": []
          },
          "execution_count": 66
        }
      ]
    },
    {
      "cell_type": "code",
      "metadata": {
        "colab": {
          "base_uri": "https://localhost:8080/"
        },
        "id": "Y7ydZsG63JAi",
        "outputId": "bf68a345-bfa9-46d7-8681-1130f61a75c7"
      },
      "source": [
        "# Flatten 레이어\n",
        "print(f'변경전 shape {x_train.shape}')\n",
        "print(f'10로 shape 변경 후 {x_train.reshape(60000,-1).shape}')  # 끝에 하나 자름 -1"
      ],
      "execution_count": 67,
      "outputs": [
        {
          "output_type": "stream",
          "text": [
            "변경전 shape (60000, 28, 28)\n",
            "10로 shape 변경 후 (60000, 784)\n"
          ],
          "name": "stdout"
        }
      ]
    },
    {
      "cell_type": "code",
      "metadata": {
        "colab": {
          "base_uri": "https://localhost:8080/"
        },
        "id": "LZjYaPFU3JAj",
        "outputId": "6975dda6-3fbe-49a5-b498-42a09a73ba16"
      },
      "source": [
        "print(f'Flatten 적용 후 : {tf.keras.layers.Flatten()(x_train).shape}')"
      ],
      "execution_count": 68,
      "outputs": [
        {
          "output_type": "stream",
          "text": [
            "Flatten 적용 후 : (60000, 784)\n"
          ],
          "name": "stdout"
        }
      ]
    },
    {
      "cell_type": "code",
      "metadata": {
        "colab": {
          "base_uri": "https://localhost:8080/"
        },
        "id": "BJpgBqvC3JAj",
        "outputId": "9ffa616d-854f-4dd4-93a0-83563fff65ff"
      },
      "source": [
        "# 활성화 함수\n",
        "tf.keras.layers.Dense(units=128, activation='relu')"
      ],
      "execution_count": 69,
      "outputs": [
        {
          "output_type": "execute_result",
          "data": {
            "text/plain": [
              "<tensorflow.python.keras.layers.core.Dense at 0x7f628a688090>"
            ]
          },
          "metadata": {
            "tags": []
          },
          "execution_count": 69
        }
      ]
    },
    {
      "cell_type": "code",
      "metadata": {
        "id": "a9nHtndJ3JAk"
      },
      "source": [
        "model = tf.keras.Sequential([\n",
        "                            tf.keras.layers.Dense(128),\n",
        "                            tf.keras.layers.Activation('relu')\n",
        "                            ])"
      ],
      "execution_count": 70,
      "outputs": []
    },
    {
      "cell_type": "code",
      "metadata": {
        "id": "7GFIq0nA3JAk"
      },
      "source": [
        "# 입출력 (DNN 딥뉴런 네트워크 .. 5개 이상이어야 deep)\n",
        "model = tf.keras.Sequential([\n",
        "                                    tf.keras.layers.Flatten(input_shape =(28,28)),\n",
        "                                    tf.keras.layers.Dense(255, activation='relu'),\n",
        "                                    tf.keras.layers.Dense(64, activation='relu'),\n",
        "                                    tf.keras.layers.Dense(32, activation='relu'),\n",
        "                                    tf.keras.layers.Dense(16, activation='relu'),\n",
        "                                    # 마지막 출력노드 = 10 (분류개수)\n",
        "                                    tf.keras.layers.Dense(10, activation='softmax')\n",
        "                                    ])"
      ],
      "execution_count": 71,
      "outputs": []
    },
    {
      "cell_type": "code",
      "metadata": {
        "colab": {
          "base_uri": "https://localhost:8080/"
        },
        "id": "d9EP2EZH3JAl",
        "outputId": "24790057-c614-4278-b10b-315d279346e0"
      },
      "source": [
        "# 마지막 출력층 노드 = 1 인 경우, sigmoid\n",
        "tf.keras.layers.Dense(1, activation='sigmoid')\n",
        "\n",
        "# 마지막 출력층 노드가 = 10인 경우( 다중 ), softmax\n",
        "tf.keras.layers.Dense(10, activation='softmax')\n",
        "\n",
        "# 입력층, 출력층 중요 데이터 모양의 갯수 맞추는 것(처음) , 몇개로 분류할 건지 (마지막)"
      ],
      "execution_count": 72,
      "outputs": [
        {
          "output_type": "execute_result",
          "data": {
            "text/plain": [
              "<tensorflow.python.keras.layers.core.Dense at 0x7f6292bef310>"
            ]
          },
          "metadata": {
            "tags": []
          },
          "execution_count": 72
        }
      ]
    },
    {
      "cell_type": "code",
      "metadata": {
        "id": "hvRAjpVT3JAm"
      },
      "source": [
        "# 손실함수\n",
        "# 마지막 출력층 노드 = 1 인 경우\n",
        "model.compile(loss='binary_crossentropy')\n",
        "\n",
        "# 마지막 출력층 노드 = 10 인 경우(여러 개), 원 핫 벡터인 경우 [0., 1., 0., ...] \n",
        "model.compile(loss= 'categorical_crossentropy')\n",
        "\n",
        "# 마지막 출력층 노드 = 10 인 경우(여러 개), 원 핫 벡터가 아닌 경우\n",
        "model.compile(loss= 'sparse_categorical_crossentropy')"
      ],
      "execution_count": 73,
      "outputs": []
    },
    {
      "cell_type": "code",
      "metadata": {
        "colab": {
          "base_uri": "https://localhost:8080/"
        },
        "id": "vo-q0MAy3JAm",
        "outputId": "d9ce7657-adc9-4f59-e746-cd2c9b595763"
      },
      "source": [
        "# 밑에 두 방법중 편한거 쓰셈\n",
        "# Optimizer (경사 하강, Adam..추천) - gradient 가 필요 하이퍼파라미터\n",
        "adam = tf.keras.optimizers.Adam(lr=0.001)\n",
        "model.compile(optimizer=adam)\n",
        "\n",
        "# 문자열 지정\n",
        "model.compile(optimizer='adam')"
      ],
      "execution_count": 74,
      "outputs": [
        {
          "output_type": "stream",
          "text": [
            "/usr/local/lib/python3.7/dist-packages/tensorflow/python/keras/optimizer_v2/optimizer_v2.py:375: UserWarning: The `lr` argument is deprecated, use `learning_rate` instead.\n",
            "  \"The `lr` argument is deprecated, use `learning_rate` instead.\")\n"
          ],
          "name": "stderr"
        }
      ]
    },
    {
      "cell_type": "code",
      "metadata": {
        "id": "Up2r0crb3JAm"
      },
      "source": [
        "# 평가지표 (어떤 것을 볼지 정해야 함.. 업무 성격에 따라 )\n",
        "acc = tf.keras.metrics.SparseCategoricalAccuracy()\n",
        "model.compile(optimizer='adam', loss='sparse_categorical_crossentropy', metrics=[acc])\n",
        "\n",
        "\n",
        "# 문자열 지정\n",
        "model.compile(optimizer='adam', loss ='sparse_categorical_crossentropy', metrics=['accuracy'])"
      ],
      "execution_count": 75,
      "outputs": []
    },
    {
      "cell_type": "code",
      "metadata": {
        "colab": {
          "base_uri": "https://localhost:8080/"
        },
        "id": "RoJBzruS3JAm",
        "outputId": "3cfab0b5-f49d-4bbc-d376-06429e4b069f"
      },
      "source": [
        "# 훈련 ( train, validation, test data 로 구분해서 )\n",
        "model.fit(x_train, y_train,\n",
        "        # 검증 셋 지정\n",
        "          validation_data =(x_test, y_test),\n",
        "          epochs=10\n",
        "          )"
      ],
      "execution_count": 76,
      "outputs": [
        {
          "output_type": "stream",
          "text": [
            "Epoch 1/10\n",
            "1875/1875 [==============================] - 8s 4ms/step - loss: 0.2443 - accuracy: 0.9258 - val_loss: 0.1160 - val_accuracy: 0.9658\n",
            "Epoch 2/10\n",
            "1875/1875 [==============================] - 7s 4ms/step - loss: 0.0960 - accuracy: 0.9705 - val_loss: 0.0937 - val_accuracy: 0.9700\n",
            "Epoch 3/10\n",
            "1875/1875 [==============================] - 7s 4ms/step - loss: 0.0686 - accuracy: 0.9784 - val_loss: 0.0780 - val_accuracy: 0.9786\n",
            "Epoch 4/10\n",
            "1875/1875 [==============================] - 7s 4ms/step - loss: 0.0520 - accuracy: 0.9840 - val_loss: 0.0883 - val_accuracy: 0.9742\n",
            "Epoch 5/10\n",
            "1875/1875 [==============================] - 7s 4ms/step - loss: 0.0429 - accuracy: 0.9864 - val_loss: 0.0745 - val_accuracy: 0.9792\n",
            "Epoch 6/10\n",
            "1875/1875 [==============================] - 7s 4ms/step - loss: 0.0359 - accuracy: 0.9887 - val_loss: 0.0860 - val_accuracy: 0.9775\n",
            "Epoch 7/10\n",
            "1875/1875 [==============================] - 7s 4ms/step - loss: 0.0306 - accuracy: 0.9904 - val_loss: 0.0822 - val_accuracy: 0.9783\n",
            "Epoch 8/10\n",
            "1875/1875 [==============================] - 7s 4ms/step - loss: 0.0290 - accuracy: 0.9909 - val_loss: 0.0873 - val_accuracy: 0.9772\n",
            "Epoch 9/10\n",
            "1875/1875 [==============================] - 8s 4ms/step - loss: 0.0239 - accuracy: 0.9925 - val_loss: 0.0851 - val_accuracy: 0.9783\n",
            "Epoch 10/10\n",
            "1875/1875 [==============================] - 7s 4ms/step - loss: 0.0222 - accuracy: 0.9929 - val_loss: 0.0825 - val_accuracy: 0.9806\n"
          ],
          "name": "stdout"
        },
        {
          "output_type": "execute_result",
          "data": {
            "text/plain": [
              "<tensorflow.python.keras.callbacks.History at 0x7f628a6afc90>"
            ]
          },
          "metadata": {
            "tags": []
          },
          "execution_count": 76
        }
      ]
    },
    {
      "cell_type": "code",
      "metadata": {
        "colab": {
          "base_uri": "https://localhost:8080/"
        },
        "id": "YbgszmhD3JAn",
        "outputId": "38808af5-1de5-48f7-a036-914ccee10bd6"
      },
      "source": [
        "# 검증, 평가 (evaluate 로 검증)\n",
        "test_loss, test_acc = model.evaluate(x_test, y_test)\n",
        "print('검증셋 정확도 : ', test_acc, test_loss)"
      ],
      "execution_count": 77,
      "outputs": [
        {
          "output_type": "stream",
          "text": [
            "313/313 [==============================] - 1s 2ms/step - loss: 0.0825 - accuracy: 0.9806\n",
            "검증셋 정확도 :  0.9805999994277954 0.08246935904026031\n"
          ],
          "name": "stdout"
        }
      ]
    },
    {
      "cell_type": "code",
      "metadata": {
        "id": "cQ9cotFE3JAn"
      },
      "source": [
        "# 예측\n",
        "predictions = model.predict(x_test)"
      ],
      "execution_count": 78,
      "outputs": []
    },
    {
      "cell_type": "code",
      "metadata": {
        "colab": {
          "base_uri": "https://localhost:8080/"
        },
        "id": "ZSyeE9wf3Qvz",
        "outputId": "2705697d-355c-436d-d46f-1923a09431c1"
      },
      "source": [
        "predictions.shape"
      ],
      "execution_count": 79,
      "outputs": [
        {
          "output_type": "execute_result",
          "data": {
            "text/plain": [
              "(10000, 10)"
            ]
          },
          "metadata": {
            "tags": []
          },
          "execution_count": 79
        }
      ]
    },
    {
      "cell_type": "code",
      "metadata": {
        "colab": {
          "base_uri": "https://localhost:8080/"
        },
        "id": "XVa09LIB3VRW",
        "outputId": "aa16e087-f83f-4cf0-87f5-8a22a7f77468"
      },
      "source": [
        "print(predictions[0])"
      ],
      "execution_count": 81,
      "outputs": [
        {
          "output_type": "stream",
          "text": [
            "[5.1530709e-09 1.0082804e-05 1.6295369e-06 2.4999524e-04 2.0188918e-07\n",
            " 1.4512745e-05 1.2105700e-09 9.9970108e-01 7.8870823e-07 2.1679265e-05]\n"
          ],
          "name": "stdout"
        }
      ]
    },
    {
      "cell_type": "code",
      "metadata": {
        "colab": {
          "base_uri": "https://localhost:8080/"
        },
        "id": "3tRjHX1737Js",
        "outputId": "3edf9d5c-b85f-4e13-a936-133654846eea"
      },
      "source": [
        "print(np.argmax(predictions[0]))"
      ],
      "execution_count": 82,
      "outputs": [
        {
          "output_type": "stream",
          "text": [
            "7\n"
          ],
          "name": "stdout"
        }
      ]
    },
    {
      "cell_type": "code",
      "metadata": {
        "colab": {
          "base_uri": "https://localhost:8080/"
        },
        "id": "Ar7B0-4H4DG5",
        "outputId": "4116c3a1-aba2-4d3d-8452-1f4c3269d324"
      },
      "source": [
        "print(np.argmax(predictions[:10], axis = 1))"
      ],
      "execution_count": 84,
      "outputs": [
        {
          "output_type": "stream",
          "text": [
            "[7 2 1 0 4 1 4 9 5 9]\n"
          ],
          "name": "stdout"
        }
      ]
    },
    {
      "cell_type": "code",
      "metadata": {
        "colab": {
          "base_uri": "https://localhost:8080/",
          "height": 536
        },
        "id": "eLExprI54b5f",
        "outputId": "ced4f6aa-bae8-45bb-9169-cfaf4a1211c4"
      },
      "source": [
        "# 예측 결과 시각화\n",
        "import matplotlib.pyplot as plt\n",
        "\n",
        "def get_one_result(idx):\n",
        "  img, y_true, y_pred, confidence = x_test[idx], y_test[idx], np.argmax(predictions[idx]), 100*np.max(predictions[idx])\n",
        "  return img, y_true, y_pred, confidence\n",
        "\n",
        "fig, axes = plt.subplots(3,5)\n",
        "fig.set_size_inches(12,10)\n",
        "\n",
        "for i in range(15):\n",
        "  ax = axes[i//5, i%5]\n",
        "  img, y_true, y_pred, confidence = get_one_result(i)\n",
        "  ax.imshow(img, cmap='gray')\n",
        "  ax.set_xticks([])\n",
        "  ax.set_yticks([])\n",
        "  ax.set_title(f'True: {y_true}')\n",
        "  ax.set_xlabel(f'Precision: {y_pred} \\n Confidence: ({confidence:.2f} %)')\n",
        "plt.tight_layout\n",
        "plt.show()"
      ],
      "execution_count": 89,
      "outputs": [
        {
          "output_type": "display_data",
          "data": {
            "image/png": "[encoded data removed]",
            "text/plain": [
              "<Figure size 864x720 with 15 Axes>"
            ]
          },
          "metadata": {
            "tags": []
          }
        }
      ]
    }
  ]
}