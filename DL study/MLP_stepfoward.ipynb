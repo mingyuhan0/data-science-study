{
 "cells": [
  {
   "cell_type": "markdown",
   "metadata": {},
   "source": [
    "# 멀티 퍼셉트론 순방향 패스"
   ]
  },
  {
   "cell_type": "code",
   "execution_count": 2,
   "metadata": {},
   "outputs": [],
   "source": [
    "import numpy as np"
   ]
  },
  {
   "cell_type": "markdown",
   "metadata": {},
   "source": [
    "### 활성화 함수 : 시그모이드"
   ]
  },
  {
   "cell_type": "code",
   "execution_count": 5,
   "metadata": {},
   "outputs": [],
   "source": [
    "def actf(x):\n",
    "    return 1 / ( 1 + np.exp(-x))"
   ]
  },
  {
   "cell_type": "markdown",
   "metadata": {},
   "source": [
    "### 시그모이드 함수의 미분치(역함수)"
   ]
  },
  {
   "cell_type": "code",
   "execution_count": 7,
   "metadata": {},
   "outputs": [],
   "source": [
    "def actf_deriv(x):\n",
    "    return x * (1-x)"
   ]
  },
  {
   "cell_type": "markdown",
   "metadata": {},
   "source": [
    "### 입력유닛 개수, 은닉유닛 개수, 출려유닛 개수"
   ]
  },
  {
   "cell_type": "code",
   "execution_count": 10,
   "metadata": {},
   "outputs": [],
   "source": [
    "inputs, hiddens, outputs = 2, 2, 1\n",
    "learning_rate = 0.2"
   ]
  },
  {
   "cell_type": "code",
   "execution_count": 16,
   "metadata": {},
   "outputs": [],
   "source": [
    "#학습 샘플과 정답(XOR)\n",
    "X = np.array([[0,0], [0,1], [1,0], [1,1]])\n",
    "T = np.array([[0], [1], [1], [0]])\n",
    "\n",
    "#훈련 데이터\n",
    "W1 = np.array([[0.10, 0.20], [0.30, 0.40]])\n",
    "W2 = np.array([[0.50], [0.60]])\n",
    "B1 = np.array([0.1, 0.2])\n",
    "B2 = np.array([0.3])"
   ]
  },
  {
   "cell_type": "code",
   "execution_count": 20,
   "metadata": {},
   "outputs": [],
   "source": [
    "#순방향 전파 계산 \n",
    "def predict(x):\n",
    "    layer0 = X                   #입력값을 layer0에 대입\n",
    "    Z1 = np.dot(layer0, W1) + B1 # 입력값에 대한 affine function계산 : 행렬곱\n",
    "    layer1 = actf(Z1)            # 활성화 함수(시그모이드)\n",
    "    Z2 = np.dot(layer1, W2) + B2 # layer1dp 대한 affine function계산 : 행렬곱\n",
    "    layer2 = actf(Z2)            # 활성화 함수(시그모이드)\n",
    "    return layer0, layer1, layer2"
   ]
  },
  {
   "cell_type": "code",
   "execution_count": 23,
   "metadata": {},
   "outputs": [],
   "source": [
    "def test():\n",
    "    for x, y in zip(X, T):\n",
    "        x = np.reshape(x, (1, -1))\n",
    "        layer0, layer1, layer2 = predict(x)\n",
    "        print(x, y, layer2)"
   ]
  },
  {
   "cell_type": "code",
   "execution_count": 24,
   "metadata": {},
   "outputs": [
    {
     "name": "stdout",
     "output_type": "stream",
     "text": [
      "[[0 0]] [0] [[0.70938314]\n",
      " [0.72844306]\n",
      " [0.71791234]\n",
      " [0.73598705]]\n",
      "[[0 1]] [1] [[0.70938314]\n",
      " [0.72844306]\n",
      " [0.71791234]\n",
      " [0.73598705]]\n",
      "[[1 0]] [1] [[0.70938314]\n",
      " [0.72844306]\n",
      " [0.71791234]\n",
      " [0.73598705]]\n",
      "[[1 1]] [0] [[0.70938314]\n",
      " [0.72844306]\n",
      " [0.71791234]\n",
      " [0.73598705]]\n"
     ]
    }
   ],
   "source": [
    "test()"
   ]
  },
  {
   "cell_type": "code",
   "execution_count": 25,
   "metadata": {},
   "outputs": [],
   "source": [
    "def test():\n",
    "    for x, y in zip(X, T):\n",
    "        x = np.reshape(x, (1, -1))\n",
    "        layer0, layer1, layer2 = predict(x)\n",
    "        print(x, y, actf_deriv(layer2))"
   ]
  },
  {
   "cell_type": "code",
   "execution_count": 26,
   "metadata": {},
   "outputs": [
    {
     "name": "stdout",
     "output_type": "stream",
     "text": [
      "[[0 0]] [0] [[0.2061587 ]\n",
      " [0.19781377]\n",
      " [0.20251421]\n",
      " [0.19431011]]\n",
      "[[0 1]] [1] [[0.2061587 ]\n",
      " [0.19781377]\n",
      " [0.20251421]\n",
      " [0.19431011]]\n",
      "[[1 0]] [1] [[0.2061587 ]\n",
      " [0.19781377]\n",
      " [0.20251421]\n",
      " [0.19431011]]\n",
      "[[1 1]] [0] [[0.2061587 ]\n",
      " [0.19781377]\n",
      " [0.20251421]\n",
      " [0.19431011]]\n"
     ]
    }
   ],
   "source": [
    "test()"
   ]
  }
 ],
 "metadata": {
  "kernelspec": {
   "display_name": "Python 3",
   "language": "python",
   "name": "python3"
  },
  "language_info": {
   "codemirror_mode": {
    "name": "ipython",
    "version": 3
   },
   "file_extension": ".py",
   "mimetype": "text/x-python",
   "name": "python",
   "nbconvert_exporter": "python",
   "pygments_lexer": "ipython3",
   "version": "3.7.10"
  }
 },
 "nbformat": 4,
 "nbformat_minor": 4
}
