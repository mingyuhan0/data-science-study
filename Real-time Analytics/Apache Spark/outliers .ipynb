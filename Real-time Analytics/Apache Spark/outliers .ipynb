{
 "cells": [
  {
   "cell_type": "code",
   "execution_count": 1,
   "metadata": {},
   "outputs": [],
   "source": [
    "import findspark\n",
    "import pyspark\n",
    "findspark.init()\n",
    "findspark.find()\n",
    "from pyspark.sql import SparkSession"
   ]
  },
  {
   "cell_type": "code",
   "execution_count": 2,
   "metadata": {},
   "outputs": [],
   "source": [
    "spark = SparkSession.builder.master('spark://172.27.80.1:7077').appName('outlier').getOrCreate()"
   ]
  },
  {
   "cell_type": "code",
   "execution_count": 3,
   "metadata": {},
   "outputs": [],
   "source": [
    "dataF = spark.createDataFrame([('1', 2400, 32, '9', 3, 'PHILIPS', '1XZFG')\n",
    "                            , ('2', 2400, 23, '13', 3, 'Apple', '2XZFG')\n",
    "                            , ('3', 2400, 22, '2.5', 5, 'LG', '3XZFG')\n",
    "                            , ('4', 1, 23, '16.5', 3, None, '4XZFG')\n",
    "                            , ('8', 3500, 33, '23', 5, 'LG', '8XZFG')\n",
    "                            , ('6', 2400, 23, '9', 3, 'SONY', '6XZFG')\n",
    "                            , ('7', 3500, 34, '23', None, 'PHILIPS', '7XZFG')\n",
    "                            , ('8', 2500, 33, '23', 5, 'LG', '8XZFG')\n",
    "                            , ('9', 2400, 22, '2.5', 0, 'Apple', '9XZFG')\n",
    "                            , ('18', 2400, 22, '2.5', 0, 'Apple', '9XZFG')\n",
    "                            , ('10', None, 23, '6', 4, None, None)\n",
    "                            , ('15', 2750, 27, '8', 1, 'SONY', 'DCEZX15')\n",
    "                            , ('11', 2, 20, '6', 3, 'SONY', '11XZFG')\n",
    "                            , ('12', 3500, 32, '6', 3, 'LG', '12XZFG')\n",
    "                            , ('17', 3500, 39, '6', 3, 'LG', '12XZFG')\n",
    "                            , ('13', 2400, 24, '16.5', 5, 'Apple', '13XZFG')\n",
    "                            , ('14', 3500, 34, '6', 6, 'DELL', '14XZFG')\n",
    "                            , ('15', 2400, 22, '6', 4, 'SONY', '15XZFG')],\n",
    "                              ['Id', 'Salary', 'age', 'experience', 'Coef', 'TV ', 'CODE_ID'])"
   ]
  },
  {
   "cell_type": "markdown",
   "metadata": {},
   "source": [
    "이상치 처리 기준은 관계자들과 회의를 통해 정하는게 제일 이상적 -> 모두가 공감 가능하게"
   ]
  },
  {
   "cell_type": "code",
   "execution_count": 11,
   "metadata": {},
   "outputs": [],
   "source": [
    "#col selection\n",
    "features = ['Salary','age','Coef']"
   ]
  },
  {
   "cell_type": "code",
   "execution_count": 6,
   "metadata": {},
   "outputs": [],
   "source": [
    "#4분위값 사용\n",
    "quantiles = [0.25, 0.75]"
   ]
  },
  {
   "cell_type": "code",
   "execution_count": 9,
   "metadata": {},
   "outputs": [],
   "source": [
    "from py.path import local\n",
    "from pyspark.sql.types import *\n",
    "from pyspark.sql import Row as row\n",
    "from pyspark.sql import DataFrameStatFunctions as statFunc"
   ]
  },
  {
   "cell_type": "code",
   "execution_count": 7,
   "metadata": {},
   "outputs": [],
   "source": [
    "#극단치 경계\n",
    "cutoffpoints = []"
   ]
  },
  {
   "cell_type": "code",
   "execution_count": 31,
   "metadata": {},
   "outputs": [],
   "source": [
    "#극단치 경계 구하는 for문 작성\n",
    "for feature in features:  #roof 3번 돌려라\n",
    "    qts = statFunc(dataF).approxQuantile(feature, quantiles, 0.05)\n",
    "    IQR = qts[1] - qts[0]\n",
    "    cutoffpoints.append((feature, [qts[0] - 1.5 * IQR, qts[1] + 1.5 * IQR]))\n",
    "cutoffpoints = dict(cutoffpoints)"
   ]
  },
  {
   "cell_type": "code",
   "execution_count": 32,
   "metadata": {},
   "outputs": [
    {
     "data": {
      "text/plain": [
       "{'Salary': [750.0, 5150.0], 'age': [5.5, 49.5], 'Coef': [0.0, 8.0]}"
      ]
     },
     "execution_count": 32,
     "metadata": {},
     "output_type": "execute_result"
    }
   ],
   "source": [
    "#극단치 경계 확인\n",
    "cutoffpoints"
   ]
  },
  {
   "cell_type": "code",
   "execution_count": 35,
   "metadata": {},
   "outputs": [],
   "source": [
    "#이상치 확인\n",
    "aberrant_value = dataF.select(*['Id'] + [\n",
    "    (\n",
    "        (dataF[f] < cutoffpoints[f][0]) |\n",
    "        (dataF[f] > cutoffpoints[f][1])\n",
    "    ).alias(f + \"_b\") for f in features\n",
    "])"
   ]
  },
  {
   "cell_type": "code",
   "execution_count": 36,
   "metadata": {},
   "outputs": [
    {
     "name": "stdout",
     "output_type": "stream",
     "text": [
      "+---+--------+-----+------+\n",
      "| Id|Salary_b|age_b|Coef_b|\n",
      "+---+--------+-----+------+\n",
      "|  1|   false|false| false|\n",
      "|  2|   false|false| false|\n",
      "|  3|   false|false| false|\n",
      "|  4|    true|false| false|\n",
      "|  8|   false|false| false|\n",
      "|  6|   false|false| false|\n",
      "|  7|   false|false|  null|\n",
      "|  8|   false|false| false|\n",
      "|  9|   false|false| false|\n",
      "| 18|   false|false| false|\n",
      "| 10|    null|false| false|\n",
      "| 15|   false|false| false|\n",
      "| 11|    true|false| false|\n",
      "| 12|   false|false| false|\n",
      "| 17|   false|false| false|\n",
      "| 13|   false|false| false|\n",
      "| 14|   false|false| false|\n",
      "| 15|   false|false| false|\n",
      "+---+--------+-----+------+\n",
      "\n"
     ]
    }
   ],
   "source": [
    "aberrant_value.show()"
   ]
  },
  {
   "cell_type": "code",
   "execution_count": 39,
   "metadata": {},
   "outputs": [],
   "source": [
    "#합치기\n",
    "withaberrant_value = dataF.join(aberrant_value, on='Id')"
   ]
  },
  {
   "cell_type": "code",
   "execution_count": 41,
   "metadata": {},
   "outputs": [
    {
     "name": "stdout",
     "output_type": "stream",
     "text": [
      "+---+------+----+\n",
      "| Id|Salary|Coef|\n",
      "+---+------+----+\n",
      "| 11|     2|   3|\n",
      "|  4|     1|   3|\n",
      "+---+------+----+\n",
      "\n"
     ]
    }
   ],
   "source": [
    "#outlier 확인\n",
    "(\n",
    "    withaberrant_value.filter('Salary_b').select('Id','Salary','Coef').show()\n",
    ")"
   ]
  },
  {
   "cell_type": "code",
   "execution_count": 42,
   "metadata": {},
   "outputs": [],
   "source": [
    "#outlier 제외\n",
    "df_no_aberrant_value = (\n",
    "    withaberrant_value.filter('!Salary_b').select(dataF.columns)\n",
    ")"
   ]
  },
  {
   "cell_type": "code",
   "execution_count": 43,
   "metadata": {},
   "outputs": [
    {
     "name": "stdout",
     "output_type": "stream",
     "text": [
      "+---+------+---+----------+----+-------+-------+\n",
      "| Id|Salary|age|experience|Coef|    TV |CODE_ID|\n",
      "+---+------+---+----------+----+-------+-------+\n",
      "|  7|  3500| 34|        23|null|PHILIPS|  7XZFG|\n",
      "| 15|  2750| 27|         8|   1|   SONY|DCEZX15|\n",
      "| 15|  2750| 27|         8|   1|   SONY|DCEZX15|\n",
      "| 15|  2400| 22|         6|   4|   SONY| 15XZFG|\n",
      "| 15|  2400| 22|         6|   4|   SONY| 15XZFG|\n",
      "|  3|  2400| 22|       2.5|   5|     LG|  3XZFG|\n",
      "|  8|  3500| 33|        23|   5|     LG|  8XZFG|\n",
      "|  8|  3500| 33|        23|   5|     LG|  8XZFG|\n",
      "|  8|  2500| 33|        23|   5|     LG|  8XZFG|\n",
      "|  8|  2500| 33|        23|   5|     LG|  8XZFG|\n",
      "| 18|  2400| 22|       2.5|   0|  Apple|  9XZFG|\n",
      "| 17|  3500| 39|         6|   3|     LG| 12XZFG|\n",
      "|  6|  2400| 23|         9|   3|   SONY|  6XZFG|\n",
      "|  9|  2400| 22|       2.5|   0|  Apple|  9XZFG|\n",
      "|  1|  2400| 32|         9|   3|PHILIPS|  1XZFG|\n",
      "| 12|  3500| 32|         6|   3|     LG| 12XZFG|\n",
      "| 13|  2400| 24|      16.5|   5|  Apple| 13XZFG|\n",
      "| 14|  3500| 34|         6|   6|   DELL| 14XZFG|\n",
      "|  2|  2400| 23|        13|   3|  Apple|  2XZFG|\n",
      "+---+------+---+----------+----+-------+-------+\n",
      "\n"
     ]
    }
   ],
   "source": [
    "#outlier 제외 출력\n",
    "df_no_aberrant_value.show()"
   ]
  },
  {
   "cell_type": "code",
   "execution_count": 47,
   "metadata": {},
   "outputs": [
    {
     "name": "stdout",
     "output_type": "stream",
     "text": [
      "+-------+------------------+------------------+------------------+\n",
      "|summary|            Salary|               age|              Coef|\n",
      "+-------+------------------+------------------+------------------+\n",
      "|  count|                19|                19|                18|\n",
      "|   mean|2794.7368421052633|28.263157894736842| 3.388888888888889|\n",
      "| stddev| 503.5691326372469| 5.635621875013321|1.8515141304249878|\n",
      "|    min|              2400|                22|                 0|\n",
      "|    max|              3500|                39|                 6|\n",
      "+-------+------------------+------------------+------------------+\n",
      "\n"
     ]
    }
   ],
   "source": [
    "#통계 분석\n",
    "descriptive_stats = df_no_aberrant_value.describe(features)\n",
    "descriptive_stats.show()\n",
    "\n",
    "#빅데이터에서 median을 안 보여주는 이유 = median을 위해서는 sort해야하는데 이는 셔플링이 제일 많이 일어나는 일"
   ]
  },
  {
   "cell_type": "code",
   "execution_count": 46,
   "metadata": {},
   "outputs": [
    {
     "name": "stdout",
     "output_type": "stream",
     "text": [
      "correlation:  0.763983716024124\n"
     ]
    }
   ],
   "source": [
    "#상관계수 구하기\n",
    "corr = df_no_aberrant_value.corr('Salary','age')\n",
    "print('correlation: ', corr)"
   ]
  }
 ],
 "metadata": {
  "kernelspec": {
   "display_name": "Python 3",
   "language": "python",
   "name": "python3"
  },
  "language_info": {
   "codemirror_mode": {
    "name": "ipython",
    "version": 3
   },
   "file_extension": ".py",
   "mimetype": "text/x-python",
   "name": "python",
   "nbconvert_exporter": "python",
   "pygments_lexer": "ipython3",
   "version": "3.7.10"
  }
 },
 "nbformat": 4,
 "nbformat_minor": 2
}
