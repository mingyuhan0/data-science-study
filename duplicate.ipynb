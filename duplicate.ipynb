{
 "cells": [
  {
   "cell_type": "code",
   "execution_count": 1,
   "metadata": {},
   "outputs": [],
   "source": [
    "import findspark\n",
    "import pyspark\n",
    "findspark.init()\n",
    "findspark.find()\n",
    "from pyspark.sql import SparkSession"
   ]
  },
  {
   "cell_type": "code",
   "execution_count": 2,
   "metadata": {},
   "outputs": [],
   "source": [
    "spark = SparkSession.builder.master('spark://172.27.80.1:7077').appName('duplicate').getOrCreate()"
   ]
  },
  {
   "cell_type": "code",
   "execution_count": 3,
   "metadata": {},
   "outputs": [],
   "source": [
    "dataF = spark.createDataFrame([('1','2400','32','9','3','PHILIPS','1XZFG')\n",
    "                            , ('2','2400','23','13','3','Apple','2XZFG')\n",
    "                            , ('3','2400','22','2.5','0','LG','3XZFG')\n",
    "                            , ('4','2400','33','16.5','3','None','4XZFG')\n",
    "                            , ('8','3500','33','23','5.5','LG','8XZFG')\n",
    "                            , ('6','2400','23','9','0','SONY','6XZFG')\n",
    "                            , ('7','3500','33','23','5.5','PHILIPS','7XZFG')\n",
    "                            , ('8','3500','33','23','5.5','LG','8XZFG')\n",
    "                            , ('9','2400','22','2.5','0','Apple','9XZFG')\n",
    "                            , ('18','2400','22','2.5','0','Apple','9XZFG')\n",
    "                            , ('10','2400','23','6','0','None','10XZFG')\n",
    "                            , ('15','2450','23','8','1','SONY','DCEZX15')\n",
    "                            , ('11','1200','23','6','2','SONY','11XZFG')\n",
    "                            , ('12','3500','23','6','2','LG','12XZFG')\n",
    "                            , ('17','3500','23','6','2','LG','12XZFG')\n",
    "                            , ('13','2400','33','16.5','5.5','Apple','13XZFG')\n",
    "                            , ('14','3500','23','6','0','DELL','14XZFG')\n",
    "                            , ('15','2400','22','6','1','SONY','15XZFG')],\n",
    "                              ['Id','Salary','age','experience','Coef','TV ','CODE_ID'])"
   ]
  },
  {
   "cell_type": "code",
   "execution_count": 5,
   "metadata": {},
   "outputs": [
    {
     "data": {
      "text/plain": [
       "(18, 17)"
      ]
     },
     "execution_count": 5,
     "metadata": {},
     "output_type": "execute_result"
    }
   ],
   "source": [
    "#중복값 확인\n",
    "dataF.count(), dataF.distinct().count()"
   ]
  },
  {
   "cell_type": "code",
   "execution_count": 6,
   "metadata": {},
   "outputs": [],
   "source": [
    "all_deleted = dataF.dropDuplicates()"
   ]
  },
  {
   "cell_type": "code",
   "execution_count": 7,
   "metadata": {},
   "outputs": [
    {
     "name": "stdout",
     "output_type": "stream",
     "text": [
      "+---+------+---+----------+----+---+-------+-----+\n",
      "| Id|Salary|age|experience|Coef|TV |CODE_ID|count|\n",
      "+---+------+---+----------+----+---+-------+-----+\n",
      "|  8|  3500| 33|        23| 5.5| LG|  8XZFG|    2|\n",
      "+---+------+---+----------+----+---+-------+-----+\n",
      "\n"
     ]
    }
   ],
   "source": [
    "(dataF.groupBy(dataF.columns).count().filter('count > 1').show())"
   ]
  },
  {
   "cell_type": "code",
   "execution_count": 8,
   "metadata": {},
   "outputs": [
    {
     "name": "stdout",
     "output_type": "stream",
     "text": [
      "+------+---+----------+----+-----+-------+-----+\n",
      "|Salary|age|experience|Coef|  TV |CODE_ID|count|\n",
      "+------+---+----------+----+-----+-------+-----+\n",
      "|  2400| 22|       2.5|   0|Apple|  9XZFG|    2|\n",
      "|  3500| 23|         6|   2|   LG| 12XZFG|    2|\n",
      "+------+---+----------+----+-----+-------+-----+\n",
      "\n"
     ]
    }
   ],
   "source": [
    "#col중 id가 아닌 것들 리턴 -> 그중 2건씩 나오는 것들\n",
    "(all_deleted.groupBy([col for col in all_deleted.columns if col != 'Id']).count().filter('count > 1').show())"
   ]
  },
  {
   "cell_type": "code",
   "execution_count": 9,
   "metadata": {},
   "outputs": [],
   "source": [
    "#subset조건에 맞는 col 리턴\n",
    "# id col빼고 중복되는값 제외 리턴\n",
    "id_deleted = all_deleted.dropDuplicates(subset=[col for col in all_deleted.columns if col != 'Id'])"
   ]
  },
  {
   "cell_type": "code",
   "execution_count": 10,
   "metadata": {},
   "outputs": [
    {
     "data": {
      "text/plain": [
       "(15, 15)"
      ]
     },
     "execution_count": 10,
     "metadata": {},
     "output_type": "execute_result"
    }
   ],
   "source": [
    "#같아지면 중복된거 해결\n",
    "id_deleted.count(), id_deleted.distinct().count()"
   ]
  },
  {
   "cell_type": "markdown",
   "metadata": {},
   "source": [
    "[agg로 중복값 처리]"
   ]
  },
  {
   "cell_type": "code",
   "execution_count": 12,
   "metadata": {},
   "outputs": [],
   "source": [
    "import pyspark.sql.functions as sqlfunct"
   ]
  },
  {
   "cell_type": "code",
   "execution_count": 13,
   "metadata": {},
   "outputs": [
    {
     "name": "stdout",
     "output_type": "stream",
     "text": [
      "+---------+------------------+\n",
      "|Count_Ids|Count_Distinct_Ids|\n",
      "+---------+------------------+\n",
      "|       15|                14|\n",
      "+---------+------------------+\n",
      "\n"
     ]
    }
   ],
   "source": [
    "id_deleted.agg(\n",
    "    sqlfunct.count('Id').alias('Count_Ids'),\n",
    "    sqlfunct.countDistinct('Id').alias('Count_Distinct_Ids')\n",
    ").show()\n",
    "# 전체 count / 중복 제거 count -> 중복값이 1개 있다 확인"
   ]
  },
  {
   "cell_type": "code",
   "execution_count": 14,
   "metadata": {},
   "outputs": [
    {
     "name": "stdout",
     "output_type": "stream",
     "text": [
      "+---+-----+\n",
      "| Id|count|\n",
      "+---+-----+\n",
      "| 15|    2|\n",
      "+---+-----+\n",
      "\n"
     ]
    }
   ],
   "source": [
    "#중복된 값 확인\n",
    "(id_deleted.groupBy('Id').count().filter('count > 1').show())"
   ]
  },
  {
   "cell_type": "code",
   "execution_count": 15,
   "metadata": {},
   "outputs": [],
   "source": [
    "#빅데이터에선 spark 내장 함수를 안 쓰면 중복값 생길 수 있음\n",
    "new_id = (\n",
    "    id_deleted.select(\n",
    "    [sqlfunct.monotonically_increasing_id().alias('Id')]+\n",
    "    [col for col in id_deleted.columns if col != 'Id']\n",
    "    )\n",
    ")"
   ]
  },
  {
   "cell_type": "code",
   "execution_count": 16,
   "metadata": {},
   "outputs": [
    {
     "name": "stdout",
     "output_type": "stream",
     "text": [
      "+-------------+------+---+----------+----+-------+-------+\n",
      "|           Id|Salary|age|experience|Coef|    TV |CODE_ID|\n",
      "+-------------+------+---+----------+----+-------+-------+\n",
      "|  25769803776|  3500| 23|         6|   2|     LG| 12XZFG|\n",
      "|  51539607552|  3500| 33|        23| 5.5|PHILIPS|  7XZFG|\n",
      "| 249108103168|  2400| 32|         9|   3|PHILIPS|  1XZFG|\n",
      "| 412316860416|  2400| 22|       2.5|   0|  Apple|  9XZFG|\n",
      "| 498216206336|  2400| 23|         6|   0|   None| 10XZFG|\n",
      "| 566935683072|  2400| 23|        13|   3|  Apple|  2XZFG|\n",
      "| 704374636544|  1200| 23|         6|   2|   SONY| 11XZFG|\n",
      "| 721554505728|  2400| 33|      16.5|   3|   None|  4XZFG|\n",
      "| 893353197568|  3500| 23|         6|   0|   DELL| 14XZFG|\n",
      "| 962072674304|  2400| 33|      16.5| 5.5|  Apple| 13XZFG|\n",
      "| 970662608896|  2400| 22|         6|   1|   SONY| 15XZFG|\n",
      "|1133871366144|  3500| 33|        23| 5.5|     LG|  8XZFG|\n",
      "|1142461300736|  2400| 23|         9|   0|   SONY|  6XZFG|\n",
      "|1503238553600|  2400| 22|       2.5|   0|     LG|  3XZFG|\n",
      "|1606317768704|  2450| 23|         8|   1|   SONY|DCEZX15|\n",
      "+-------------+------+---+----------+----+-------+-------+\n",
      "\n"
     ]
    }
   ],
   "source": [
    "new_id.show()"
   ]
  }
 ],
 "metadata": {
  "kernelspec": {
   "display_name": "Python 3",
   "language": "python",
   "name": "python3"
  },
  "language_info": {
   "codemirror_mode": {
    "name": "ipython",
    "version": 3
   },
   "file_extension": ".py",
   "mimetype": "text/x-python",
   "name": "python",
   "nbconvert_exporter": "python",
   "pygments_lexer": "ipython3",
   "version": "3.7.10"
  }
 },
 "nbformat": 4,
 "nbformat_minor": 2
}
