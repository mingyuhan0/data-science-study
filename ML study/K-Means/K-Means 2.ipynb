{
 "cells": [
  {
   "cell_type": "markdown",
   "metadata": {},
   "source": [
    "### 모듈 및 데이터 로딩"
   ]
  },
  {
   "cell_type": "code",
   "execution_count": 1,
   "metadata": {},
   "outputs": [],
   "source": [
    "import pandas as pd\n",
    "import numpy as np\n",
    "import matplotlib.pyplot as plt\n",
    "import seaborn as sns"
   ]
  },
  {
   "cell_type": "code",
   "execution_count": 5,
   "metadata": {},
   "outputs": [],
   "source": [
    "data = pd.read_csv('Mall_Customers.csv', index_col=0)"
   ]
  },
  {
   "cell_type": "markdown",
   "metadata": {},
   "source": [
    "### 데이터 특성 확인"
   ]
  },
  {
   "cell_type": "code",
   "execution_count": 6,
   "metadata": {},
   "outputs": [
    {
     "data": {
      "text/plain": [
       "(200, 4)"
      ]
     },
     "execution_count": 6,
     "metadata": {},
     "output_type": "execute_result"
    }
   ],
   "source": [
    "data.shape"
   ]
  },
  {
   "cell_type": "code",
   "execution_count": 7,
   "metadata": {},
   "outputs": [
    {
     "data": {
      "text/html": [
       "<div>\n",
       "<style scoped>\n",
       "    .dataframe tbody tr th:only-of-type {\n",
       "        vertical-align: middle;\n",
       "    }\n",
       "\n",
       "    .dataframe tbody tr th {\n",
       "        vertical-align: top;\n",
       "    }\n",
       "\n",
       "    .dataframe thead th {\n",
       "        text-align: right;\n",
       "    }\n",
       "</style>\n",
       "<table border=\"1\" class=\"dataframe\">\n",
       "  <thead>\n",
       "    <tr style=\"text-align: right;\">\n",
       "      <th></th>\n",
       "      <th>Gender</th>\n",
       "      <th>Age</th>\n",
       "      <th>Annual Income (k$)</th>\n",
       "      <th>Spending Score (1-100)</th>\n",
       "    </tr>\n",
       "    <tr>\n",
       "      <th>CustomerID</th>\n",
       "      <th></th>\n",
       "      <th></th>\n",
       "      <th></th>\n",
       "      <th></th>\n",
       "    </tr>\n",
       "  </thead>\n",
       "  <tbody>\n",
       "    <tr>\n",
       "      <th>1</th>\n",
       "      <td>Male</td>\n",
       "      <td>19</td>\n",
       "      <td>15</td>\n",
       "      <td>39</td>\n",
       "    </tr>\n",
       "    <tr>\n",
       "      <th>2</th>\n",
       "      <td>Male</td>\n",
       "      <td>21</td>\n",
       "      <td>15</td>\n",
       "      <td>81</td>\n",
       "    </tr>\n",
       "    <tr>\n",
       "      <th>3</th>\n",
       "      <td>Female</td>\n",
       "      <td>20</td>\n",
       "      <td>16</td>\n",
       "      <td>6</td>\n",
       "    </tr>\n",
       "    <tr>\n",
       "      <th>4</th>\n",
       "      <td>Female</td>\n",
       "      <td>23</td>\n",
       "      <td>16</td>\n",
       "      <td>77</td>\n",
       "    </tr>\n",
       "    <tr>\n",
       "      <th>5</th>\n",
       "      <td>Female</td>\n",
       "      <td>31</td>\n",
       "      <td>17</td>\n",
       "      <td>40</td>\n",
       "    </tr>\n",
       "  </tbody>\n",
       "</table>\n",
       "</div>"
      ],
      "text/plain": [
       "            Gender  Age  Annual Income (k$)  Spending Score (1-100)\n",
       "CustomerID                                                         \n",
       "1             Male   19                  15                      39\n",
       "2             Male   21                  15                      81\n",
       "3           Female   20                  16                       6\n",
       "4           Female   23                  16                      77\n",
       "5           Female   31                  17                      40"
      ]
     },
     "execution_count": 7,
     "metadata": {},
     "output_type": "execute_result"
    }
   ],
   "source": [
    "data.head()"
   ]
  },
  {
   "cell_type": "code",
   "execution_count": 8,
   "metadata": {},
   "outputs": [
    {
     "name": "stdout",
     "output_type": "stream",
     "text": [
      "<class 'pandas.core.frame.DataFrame'>\n",
      "Int64Index: 200 entries, 1 to 200\n",
      "Data columns (total 4 columns):\n",
      " #   Column                  Non-Null Count  Dtype \n",
      "---  ------                  --------------  ----- \n",
      " 0   Gender                  200 non-null    object\n",
      " 1   Age                     200 non-null    int64 \n",
      " 2   Annual Income (k$)      200 non-null    int64 \n",
      " 3   Spending Score (1-100)  200 non-null    int64 \n",
      "dtypes: int64(3), object(1)\n",
      "memory usage: 7.8+ KB\n"
     ]
    }
   ],
   "source": [
    "data.info()"
   ]
  },
  {
   "cell_type": "code",
   "execution_count": 9,
   "metadata": {},
   "outputs": [
    {
     "data": {
      "text/html": [
       "<div>\n",
       "<style scoped>\n",
       "    .dataframe tbody tr th:only-of-type {\n",
       "        vertical-align: middle;\n",
       "    }\n",
       "\n",
       "    .dataframe tbody tr th {\n",
       "        vertical-align: top;\n",
       "    }\n",
       "\n",
       "    .dataframe thead th {\n",
       "        text-align: right;\n",
       "    }\n",
       "</style>\n",
       "<table border=\"1\" class=\"dataframe\">\n",
       "  <thead>\n",
       "    <tr style=\"text-align: right;\">\n",
       "      <th></th>\n",
       "      <th>Age</th>\n",
       "      <th>Annual Income (k$)</th>\n",
       "      <th>Spending Score (1-100)</th>\n",
       "    </tr>\n",
       "  </thead>\n",
       "  <tbody>\n",
       "    <tr>\n",
       "      <th>count</th>\n",
       "      <td>200.000000</td>\n",
       "      <td>200.000000</td>\n",
       "      <td>200.000000</td>\n",
       "    </tr>\n",
       "    <tr>\n",
       "      <th>mean</th>\n",
       "      <td>38.850000</td>\n",
       "      <td>60.560000</td>\n",
       "      <td>50.200000</td>\n",
       "    </tr>\n",
       "    <tr>\n",
       "      <th>std</th>\n",
       "      <td>13.969007</td>\n",
       "      <td>26.264721</td>\n",
       "      <td>25.823522</td>\n",
       "    </tr>\n",
       "    <tr>\n",
       "      <th>min</th>\n",
       "      <td>18.000000</td>\n",
       "      <td>15.000000</td>\n",
       "      <td>1.000000</td>\n",
       "    </tr>\n",
       "    <tr>\n",
       "      <th>25%</th>\n",
       "      <td>28.750000</td>\n",
       "      <td>41.500000</td>\n",
       "      <td>34.750000</td>\n",
       "    </tr>\n",
       "    <tr>\n",
       "      <th>50%</th>\n",
       "      <td>36.000000</td>\n",
       "      <td>61.500000</td>\n",
       "      <td>50.000000</td>\n",
       "    </tr>\n",
       "    <tr>\n",
       "      <th>75%</th>\n",
       "      <td>49.000000</td>\n",
       "      <td>78.000000</td>\n",
       "      <td>73.000000</td>\n",
       "    </tr>\n",
       "    <tr>\n",
       "      <th>max</th>\n",
       "      <td>70.000000</td>\n",
       "      <td>137.000000</td>\n",
       "      <td>99.000000</td>\n",
       "    </tr>\n",
       "  </tbody>\n",
       "</table>\n",
       "</div>"
      ],
      "text/plain": [
       "              Age  Annual Income (k$)  Spending Score (1-100)\n",
       "count  200.000000          200.000000              200.000000\n",
       "mean    38.850000           60.560000               50.200000\n",
       "std     13.969007           26.264721               25.823522\n",
       "min     18.000000           15.000000                1.000000\n",
       "25%     28.750000           41.500000               34.750000\n",
       "50%     36.000000           61.500000               50.000000\n",
       "75%     49.000000           78.000000               73.000000\n",
       "max     70.000000          137.000000               99.000000"
      ]
     },
     "execution_count": 9,
     "metadata": {},
     "output_type": "execute_result"
    }
   ],
   "source": [
    "data.describe()"
   ]
  },
  {
   "cell_type": "code",
   "execution_count": 10,
   "metadata": {},
   "outputs": [],
   "source": [
    "data = pd.get_dummies(data, columns=['Gender'], drop_first=True)"
   ]
  },
  {
   "cell_type": "code",
   "execution_count": 31,
   "metadata": {},
   "outputs": [
    {
     "data": {
      "text/html": [
       "<div>\n",
       "<style scoped>\n",
       "    .dataframe tbody tr th:only-of-type {\n",
       "        vertical-align: middle;\n",
       "    }\n",
       "\n",
       "    .dataframe tbody tr th {\n",
       "        vertical-align: top;\n",
       "    }\n",
       "\n",
       "    .dataframe thead th {\n",
       "        text-align: right;\n",
       "    }\n",
       "</style>\n",
       "<table border=\"1\" class=\"dataframe\">\n",
       "  <thead>\n",
       "    <tr style=\"text-align: right;\">\n",
       "      <th></th>\n",
       "      <th>Age</th>\n",
       "      <th>Annual Income (k$)</th>\n",
       "      <th>Spending Score (1-100)</th>\n",
       "      <th>Gender_Male</th>\n",
       "      <th>label</th>\n",
       "    </tr>\n",
       "    <tr>\n",
       "      <th>CustomerID</th>\n",
       "      <th></th>\n",
       "      <th></th>\n",
       "      <th></th>\n",
       "      <th></th>\n",
       "      <th></th>\n",
       "    </tr>\n",
       "  </thead>\n",
       "  <tbody>\n",
       "    <tr>\n",
       "      <th>1</th>\n",
       "      <td>19</td>\n",
       "      <td>15</td>\n",
       "      <td>39</td>\n",
       "      <td>1</td>\n",
       "      <td>1</td>\n",
       "    </tr>\n",
       "    <tr>\n",
       "      <th>2</th>\n",
       "      <td>21</td>\n",
       "      <td>15</td>\n",
       "      <td>81</td>\n",
       "      <td>1</td>\n",
       "      <td>3</td>\n",
       "    </tr>\n",
       "    <tr>\n",
       "      <th>3</th>\n",
       "      <td>20</td>\n",
       "      <td>16</td>\n",
       "      <td>6</td>\n",
       "      <td>0</td>\n",
       "      <td>1</td>\n",
       "    </tr>\n",
       "    <tr>\n",
       "      <th>4</th>\n",
       "      <td>23</td>\n",
       "      <td>16</td>\n",
       "      <td>77</td>\n",
       "      <td>0</td>\n",
       "      <td>3</td>\n",
       "    </tr>\n",
       "    <tr>\n",
       "      <th>5</th>\n",
       "      <td>31</td>\n",
       "      <td>17</td>\n",
       "      <td>40</td>\n",
       "      <td>0</td>\n",
       "      <td>1</td>\n",
       "    </tr>\n",
       "    <tr>\n",
       "      <th>...</th>\n",
       "      <td>...</td>\n",
       "      <td>...</td>\n",
       "      <td>...</td>\n",
       "      <td>...</td>\n",
       "      <td>...</td>\n",
       "    </tr>\n",
       "    <tr>\n",
       "      <th>196</th>\n",
       "      <td>35</td>\n",
       "      <td>120</td>\n",
       "      <td>79</td>\n",
       "      <td>0</td>\n",
       "      <td>4</td>\n",
       "    </tr>\n",
       "    <tr>\n",
       "      <th>197</th>\n",
       "      <td>45</td>\n",
       "      <td>126</td>\n",
       "      <td>28</td>\n",
       "      <td>0</td>\n",
       "      <td>2</td>\n",
       "    </tr>\n",
       "    <tr>\n",
       "      <th>198</th>\n",
       "      <td>32</td>\n",
       "      <td>126</td>\n",
       "      <td>74</td>\n",
       "      <td>1</td>\n",
       "      <td>4</td>\n",
       "    </tr>\n",
       "    <tr>\n",
       "      <th>199</th>\n",
       "      <td>32</td>\n",
       "      <td>137</td>\n",
       "      <td>18</td>\n",
       "      <td>1</td>\n",
       "      <td>2</td>\n",
       "    </tr>\n",
       "    <tr>\n",
       "      <th>200</th>\n",
       "      <td>30</td>\n",
       "      <td>137</td>\n",
       "      <td>83</td>\n",
       "      <td>1</td>\n",
       "      <td>4</td>\n",
       "    </tr>\n",
       "  </tbody>\n",
       "</table>\n",
       "<p>200 rows × 5 columns</p>\n",
       "</div>"
      ],
      "text/plain": [
       "            Age  Annual Income (k$)  Spending Score (1-100)  Gender_Male  \\\n",
       "CustomerID                                                                 \n",
       "1            19                  15                      39            1   \n",
       "2            21                  15                      81            1   \n",
       "3            20                  16                       6            0   \n",
       "4            23                  16                      77            0   \n",
       "5            31                  17                      40            0   \n",
       "...         ...                 ...                     ...          ...   \n",
       "196          35                 120                      79            0   \n",
       "197          45                 126                      28            0   \n",
       "198          32                 126                      74            1   \n",
       "199          32                 137                      18            1   \n",
       "200          30                 137                      83            1   \n",
       "\n",
       "            label  \n",
       "CustomerID         \n",
       "1               1  \n",
       "2               3  \n",
       "3               1  \n",
       "4               3  \n",
       "5               1  \n",
       "...           ...  \n",
       "196             4  \n",
       "197             2  \n",
       "198             4  \n",
       "199             2  \n",
       "200             4  \n",
       "\n",
       "[200 rows x 5 columns]"
      ]
     },
     "execution_count": 31,
     "metadata": {},
     "output_type": "execute_result"
    }
   ],
   "source": [
    "data"
   ]
  },
  {
   "cell_type": "markdown",
   "metadata": {},
   "source": [
    "### KMeans Clustering Modeling"
   ]
  },
  {
   "cell_type": "code",
   "execution_count": 11,
   "metadata": {},
   "outputs": [],
   "source": [
    "from sklearn.cluster import KMeans"
   ]
  },
  {
   "cell_type": "code",
   "execution_count": 12,
   "metadata": {},
   "outputs": [],
   "source": [
    "model = KMeans(n_clusters=3)"
   ]
  },
  {
   "cell_type": "code",
   "execution_count": 13,
   "metadata": {},
   "outputs": [
    {
     "data": {
      "text/plain": [
       "KMeans(n_clusters=3)"
      ]
     },
     "execution_count": 13,
     "metadata": {},
     "output_type": "execute_result"
    }
   ],
   "source": [
    "model.fit(data)"
   ]
  },
  {
   "cell_type": "code",
   "execution_count": 14,
   "metadata": {},
   "outputs": [
    {
     "data": {
      "text/plain": [
       "array([2, 2, 2, 2, 2, 2, 2, 2, 2, 2, 2, 2, 2, 2, 2, 2, 2, 2, 2, 2, 2, 2,\n",
       "       2, 2, 2, 2, 2, 2, 2, 2, 2, 2, 2, 2, 2, 2, 2, 2, 2, 2, 2, 2, 2, 2,\n",
       "       2, 2, 2, 2, 2, 2, 2, 2, 2, 2, 2, 2, 2, 2, 2, 2, 2, 2, 2, 2, 2, 2,\n",
       "       2, 2, 2, 2, 2, 2, 2, 2, 2, 2, 2, 2, 2, 2, 2, 2, 2, 2, 2, 2, 2, 2,\n",
       "       2, 2, 2, 2, 2, 2, 2, 2, 2, 2, 2, 2, 2, 2, 2, 2, 2, 2, 2, 2, 2, 2,\n",
       "       2, 2, 2, 2, 2, 2, 2, 2, 2, 2, 2, 2, 2, 0, 1, 0, 1, 0, 1, 0, 1, 0,\n",
       "       1, 0, 1, 0, 1, 0, 1, 0, 1, 0, 1, 0, 1, 0, 1, 0, 1, 0, 1, 0, 1, 0,\n",
       "       1, 0, 1, 0, 1, 0, 1, 0, 1, 0, 1, 0, 1, 0, 1, 0, 1, 0, 1, 0, 1, 0,\n",
       "       1, 0, 1, 0, 1, 0, 1, 0, 1, 0, 1, 0, 1, 0, 1, 0, 1, 0, 1, 0, 1, 0,\n",
       "       1, 0])"
      ]
     },
     "execution_count": 14,
     "metadata": {},
     "output_type": "execute_result"
    }
   ],
   "source": [
    "#분류된 것 확인\n",
    "model.labels_"
   ]
  },
  {
   "cell_type": "code",
   "execution_count": 15,
   "metadata": {},
   "outputs": [],
   "source": [
    "result_df = data.copy()"
   ]
  },
  {
   "cell_type": "code",
   "execution_count": 16,
   "metadata": {},
   "outputs": [],
   "source": [
    "result_df['label'] = model.labels_"
   ]
  },
  {
   "cell_type": "code",
   "execution_count": 17,
   "metadata": {},
   "outputs": [
    {
     "data": {
      "text/html": [
       "<div>\n",
       "<style scoped>\n",
       "    .dataframe tbody tr th:only-of-type {\n",
       "        vertical-align: middle;\n",
       "    }\n",
       "\n",
       "    .dataframe tbody tr th {\n",
       "        vertical-align: top;\n",
       "    }\n",
       "\n",
       "    .dataframe thead th {\n",
       "        text-align: right;\n",
       "    }\n",
       "</style>\n",
       "<table border=\"1\" class=\"dataframe\">\n",
       "  <thead>\n",
       "    <tr style=\"text-align: right;\">\n",
       "      <th></th>\n",
       "      <th>Age</th>\n",
       "      <th>Annual Income (k$)</th>\n",
       "      <th>Spending Score (1-100)</th>\n",
       "      <th>Gender_Male</th>\n",
       "      <th>label</th>\n",
       "    </tr>\n",
       "    <tr>\n",
       "      <th>CustomerID</th>\n",
       "      <th></th>\n",
       "      <th></th>\n",
       "      <th></th>\n",
       "      <th></th>\n",
       "      <th></th>\n",
       "    </tr>\n",
       "  </thead>\n",
       "  <tbody>\n",
       "    <tr>\n",
       "      <th>1</th>\n",
       "      <td>19</td>\n",
       "      <td>15</td>\n",
       "      <td>39</td>\n",
       "      <td>1</td>\n",
       "      <td>2</td>\n",
       "    </tr>\n",
       "    <tr>\n",
       "      <th>2</th>\n",
       "      <td>21</td>\n",
       "      <td>15</td>\n",
       "      <td>81</td>\n",
       "      <td>1</td>\n",
       "      <td>2</td>\n",
       "    </tr>\n",
       "    <tr>\n",
       "      <th>3</th>\n",
       "      <td>20</td>\n",
       "      <td>16</td>\n",
       "      <td>6</td>\n",
       "      <td>0</td>\n",
       "      <td>2</td>\n",
       "    </tr>\n",
       "    <tr>\n",
       "      <th>4</th>\n",
       "      <td>23</td>\n",
       "      <td>16</td>\n",
       "      <td>77</td>\n",
       "      <td>0</td>\n",
       "      <td>2</td>\n",
       "    </tr>\n",
       "    <tr>\n",
       "      <th>5</th>\n",
       "      <td>31</td>\n",
       "      <td>17</td>\n",
       "      <td>40</td>\n",
       "      <td>0</td>\n",
       "      <td>2</td>\n",
       "    </tr>\n",
       "  </tbody>\n",
       "</table>\n",
       "</div>"
      ],
      "text/plain": [
       "            Age  Annual Income (k$)  Spending Score (1-100)  Gender_Male  \\\n",
       "CustomerID                                                                 \n",
       "1            19                  15                      39            1   \n",
       "2            21                  15                      81            1   \n",
       "3            20                  16                       6            0   \n",
       "4            23                  16                      77            0   \n",
       "5            31                  17                      40            0   \n",
       "\n",
       "            label  \n",
       "CustomerID         \n",
       "1               2  \n",
       "2               2  \n",
       "3               2  \n",
       "4               2  \n",
       "5               2  "
      ]
     },
     "execution_count": 17,
     "metadata": {},
     "output_type": "execute_result"
    }
   ],
   "source": [
    "result_df.head()"
   ]
  },
  {
   "cell_type": "markdown",
   "metadata": {},
   "source": [
    "### groupby를 통해 각 클러스터별 통계량 확인"
   ]
  },
  {
   "cell_type": "code",
   "execution_count": 18,
   "metadata": {},
   "outputs": [
    {
     "data": {
      "text/html": [
       "<div>\n",
       "<style scoped>\n",
       "    .dataframe tbody tr th:only-of-type {\n",
       "        vertical-align: middle;\n",
       "    }\n",
       "\n",
       "    .dataframe tbody tr th {\n",
       "        vertical-align: top;\n",
       "    }\n",
       "\n",
       "    .dataframe thead th {\n",
       "        text-align: right;\n",
       "    }\n",
       "</style>\n",
       "<table border=\"1\" class=\"dataframe\">\n",
       "  <thead>\n",
       "    <tr style=\"text-align: right;\">\n",
       "      <th></th>\n",
       "      <th>Age</th>\n",
       "      <th>Annual Income (k$)</th>\n",
       "      <th>Spending Score (1-100)</th>\n",
       "      <th>Gender_Male</th>\n",
       "    </tr>\n",
       "    <tr>\n",
       "      <th>label</th>\n",
       "      <th></th>\n",
       "      <th></th>\n",
       "      <th></th>\n",
       "      <th></th>\n",
       "    </tr>\n",
       "  </thead>\n",
       "  <tbody>\n",
       "    <tr>\n",
       "      <th>0</th>\n",
       "      <td>32.692308</td>\n",
       "      <td>86.538462</td>\n",
       "      <td>82.128205</td>\n",
       "      <td>0.461538</td>\n",
       "    </tr>\n",
       "    <tr>\n",
       "      <th>1</th>\n",
       "      <td>40.394737</td>\n",
       "      <td>87.000000</td>\n",
       "      <td>18.631579</td>\n",
       "      <td>0.526316</td>\n",
       "    </tr>\n",
       "    <tr>\n",
       "      <th>2</th>\n",
       "      <td>40.325203</td>\n",
       "      <td>44.154472</td>\n",
       "      <td>49.829268</td>\n",
       "      <td>0.406504</td>\n",
       "    </tr>\n",
       "  </tbody>\n",
       "</table>\n",
       "</div>"
      ],
      "text/plain": [
       "             Age  Annual Income (k$)  Spending Score (1-100)  Gender_Male\n",
       "label                                                                    \n",
       "0      32.692308           86.538462               82.128205     0.461538\n",
       "1      40.394737           87.000000               18.631579     0.526316\n",
       "2      40.325203           44.154472               49.829268     0.406504"
      ]
     },
     "execution_count": 18,
     "metadata": {},
     "output_type": "execute_result"
    }
   ],
   "source": [
    "result_df.groupby('label').mean()"
   ]
  },
  {
   "cell_type": "markdown",
   "metadata": {},
   "source": [
    "### cluster별 관측치 갯수"
   ]
  },
  {
   "cell_type": "code",
   "execution_count": 19,
   "metadata": {},
   "outputs": [
    {
     "data": {
      "text/plain": [
       "2    123\n",
       "0     39\n",
       "1     38\n",
       "Name: label, dtype: int64"
      ]
     },
     "execution_count": 19,
     "metadata": {},
     "output_type": "execute_result"
    }
   ],
   "source": [
    "result_df['label'].value_counts()"
   ]
  },
  {
   "cell_type": "markdown",
   "metadata": {},
   "source": [
    "### Elbow method"
   ]
  },
  {
   "cell_type": "code",
   "execution_count": 20,
   "metadata": {},
   "outputs": [],
   "source": [
    "distance = []\n",
    "for i in range(2,11):\n",
    "    model = KMeans(n_clusters=i)\n",
    "    model.fit(data)\n",
    "    distance.append(model.inertia_)"
   ]
  },
  {
   "cell_type": "code",
   "execution_count": 21,
   "metadata": {},
   "outputs": [
    {
     "data": {
      "text/plain": [
       "<matplotlib.axes._subplots.AxesSubplot at 0x17ff6c5f988>"
      ]
     },
     "execution_count": 21,
     "metadata": {},
     "output_type": "execute_result"
    },
    {
     "data": {
      "image/png": "[encoded data removed]",
      "text/plain": [
       "<Figure size 432x288 with 1 Axes>"
      ]
     },
     "metadata": {
      "needs_background": "light"
     },
     "output_type": "display_data"
    }
   ],
   "source": [
    "sns.lineplot(x=list(range(2,11)), y=distance)"
   ]
  },
  {
   "cell_type": "markdown",
   "metadata": {},
   "source": [
    "-> elbow method가 완만해서 판단이 애매할 땐 silhotte score 사용"
   ]
  },
  {
   "cell_type": "code",
   "execution_count": 22,
   "metadata": {},
   "outputs": [],
   "source": [
    "from sklearn.metrics import silhouette_score"
   ]
  },
  {
   "cell_type": "code",
   "execution_count": 23,
   "metadata": {},
   "outputs": [
    {
     "data": {
      "text/plain": [
       "0.383184564192097"
      ]
     },
     "execution_count": 23,
     "metadata": {},
     "output_type": "execute_result"
    }
   ],
   "source": [
    "silhouette_score(data, model.labels_)"
   ]
  },
  {
   "cell_type": "code",
   "execution_count": 24,
   "metadata": {},
   "outputs": [],
   "source": [
    "sil = []\n",
    "for i in range(2,11):\n",
    "    model = KMeans(n_clusters=i)\n",
    "    model.fit(data)\n",
    "    sil.append(silhouette_score(data, model.labels_))"
   ]
  },
  {
   "cell_type": "code",
   "execution_count": 25,
   "metadata": {},
   "outputs": [
    {
     "data": {
      "text/plain": [
       "<matplotlib.axes._subplots.AxesSubplot at 0x17ff7884548>"
      ]
     },
     "execution_count": 25,
     "metadata": {},
     "output_type": "execute_result"
    },
    {
     "data": {
      "image/png": "[encoded data removed]",
      "text/plain": [
       "<Figure size 432x288 with 1 Axes>"
      ]
     },
     "metadata": {
      "needs_background": "light"
     },
     "output_type": "display_data"
    }
   ],
   "source": [
    "#높을수록 좋음\n",
    "#id를 안 뺴서 이렇게 생긴 듯\n",
    "sns.lineplot(x=list(range(2,11)), y=sil)"
   ]
  },
  {
   "cell_type": "code",
   "execution_count": 27,
   "metadata": {},
   "outputs": [],
   "source": [
    "model = KMeans(n_clusters=5)\n",
    "model.fit(data)\n",
    "data['label'] = model.labels_"
   ]
  },
  {
   "cell_type": "code",
   "execution_count": 28,
   "metadata": {},
   "outputs": [
    {
     "data": {
      "text/html": [
       "<div>\n",
       "<style scoped>\n",
       "    .dataframe tbody tr th:only-of-type {\n",
       "        vertical-align: middle;\n",
       "    }\n",
       "\n",
       "    .dataframe tbody tr th {\n",
       "        vertical-align: top;\n",
       "    }\n",
       "\n",
       "    .dataframe thead th {\n",
       "        text-align: right;\n",
       "    }\n",
       "</style>\n",
       "<table border=\"1\" class=\"dataframe\">\n",
       "  <thead>\n",
       "    <tr style=\"text-align: right;\">\n",
       "      <th></th>\n",
       "      <th>Age</th>\n",
       "      <th>Annual Income (k$)</th>\n",
       "      <th>Spending Score (1-100)</th>\n",
       "      <th>Gender_Male</th>\n",
       "    </tr>\n",
       "    <tr>\n",
       "      <th>label</th>\n",
       "      <th></th>\n",
       "      <th></th>\n",
       "      <th></th>\n",
       "      <th></th>\n",
       "    </tr>\n",
       "  </thead>\n",
       "  <tbody>\n",
       "    <tr>\n",
       "      <th>0</th>\n",
       "      <td>43.088608</td>\n",
       "      <td>55.291139</td>\n",
       "      <td>49.569620</td>\n",
       "      <td>0.417722</td>\n",
       "    </tr>\n",
       "    <tr>\n",
       "      <th>1</th>\n",
       "      <td>45.217391</td>\n",
       "      <td>26.304348</td>\n",
       "      <td>20.913043</td>\n",
       "      <td>0.391304</td>\n",
       "    </tr>\n",
       "    <tr>\n",
       "      <th>2</th>\n",
       "      <td>40.666667</td>\n",
       "      <td>87.750000</td>\n",
       "      <td>17.583333</td>\n",
       "      <td>0.527778</td>\n",
       "    </tr>\n",
       "    <tr>\n",
       "      <th>3</th>\n",
       "      <td>25.521739</td>\n",
       "      <td>26.304348</td>\n",
       "      <td>78.565217</td>\n",
       "      <td>0.391304</td>\n",
       "    </tr>\n",
       "    <tr>\n",
       "      <th>4</th>\n",
       "      <td>32.692308</td>\n",
       "      <td>86.538462</td>\n",
       "      <td>82.128205</td>\n",
       "      <td>0.461538</td>\n",
       "    </tr>\n",
       "  </tbody>\n",
       "</table>\n",
       "</div>"
      ],
      "text/plain": [
       "             Age  Annual Income (k$)  Spending Score (1-100)  Gender_Male\n",
       "label                                                                    \n",
       "0      43.088608           55.291139               49.569620     0.417722\n",
       "1      45.217391           26.304348               20.913043     0.391304\n",
       "2      40.666667           87.750000               17.583333     0.527778\n",
       "3      25.521739           26.304348               78.565217     0.391304\n",
       "4      32.692308           86.538462               82.128205     0.461538"
      ]
     },
     "execution_count": 28,
     "metadata": {},
     "output_type": "execute_result"
    }
   ],
   "source": [
    "data.groupby('label').mean()"
   ]
  },
  {
   "cell_type": "code",
   "execution_count": 29,
   "metadata": {},
   "outputs": [
    {
     "data": {
      "text/plain": [
       "<matplotlib.axes._subplots.AxesSubplot at 0x17ff8ad2548>"
      ]
     },
     "execution_count": 29,
     "metadata": {},
     "output_type": "execute_result"
    },
    {
     "data": {
      "image/png": "[encoded data removed]",
      "text/plain": [
       "<Figure size 432x288 with 1 Axes>"
      ]
     },
     "metadata": {
      "needs_background": "light"
     },
     "output_type": "display_data"
    }
   ],
   "source": [
    "sns.boxplot(x='label',y='Age',data=data)"
   ]
  },
  {
   "cell_type": "code",
   "execution_count": 30,
   "metadata": {},
   "outputs": [
    {
     "data": {
      "text/plain": [
       "<matplotlib.axes._subplots.AxesSubplot at 0x17ff8b6d308>"
      ]
     },
     "execution_count": 30,
     "metadata": {},
     "output_type": "execute_result"
    },
    {
     "data": {
      "image/png": "[encoded data removed]",
      "text/plain": [
       "<Figure size 432x288 with 1 Axes>"
      ]
     },
     "metadata": {
      "needs_background": "light"
     },
     "output_type": "display_data"
    }
   ],
   "source": [
    "sns.boxplot(x='label', y='Annual Income (k$)', data=data)"
   ]
  },
  {
   "cell_type": "markdown",
   "metadata": {},
   "source": [
    "### PCA를 활용한 변수를 중리고 scatter plot그리기"
   ]
  },
  {
   "cell_type": "code",
   "execution_count": 52,
   "metadata": {},
   "outputs": [],
   "source": [
    "data.drop('label', axis=1, inplace=True)"
   ]
  },
  {
   "cell_type": "code",
   "execution_count": 53,
   "metadata": {},
   "outputs": [],
   "source": [
    "from sklearn.decomposition import PCA"
   ]
  },
  {
   "cell_type": "code",
   "execution_count": 54,
   "metadata": {},
   "outputs": [],
   "source": [
    "#n_components : 몇개로 줄일거냐\n",
    "pca = PCA(n_components=2)"
   ]
  },
  {
   "cell_type": "code",
   "execution_count": 55,
   "metadata": {},
   "outputs": [],
   "source": [
    "pca.fit(data)\n",
    "pca_df = pca.transform(data)"
   ]
  },
  {
   "cell_type": "code",
   "execution_count": 56,
   "metadata": {
    "collapsed": true,
    "jupyter": {
     "outputs_hidden": true
    },
    "tags": []
   },
   "outputs": [
    {
     "data": {
      "text/plain": [
       "array([[-1.09383941e+02,  5.47845404e+00],\n",
       "       [-1.08202857e+02, -3.49317649e+01],\n",
       "       [-1.07376292e+02,  3.78408717e+01],\n",
       "       [-1.06007807e+02, -3.05626965e+01],\n",
       "       [-1.04980323e+02,  7.29674715e+00],\n",
       "       [-1.03774723e+02, -2.98012381e+01],\n",
       "       [-1.02996481e+02,  4.13227699e+01],\n",
       "       [-1.01426745e+02, -4.70713035e+01],\n",
       "       [-1.00952191e+02,  5.09237382e+01],\n",
       "       [-9.93805223e+01, -2.40346077e+01],\n",
       "       [-9.90706564e+01,  4.09178725e+01],\n",
       "       [-9.74040858e+01, -4.91523683e+01],\n",
       "       [-9.67777825e+01,  3.78938689e+01],\n",
       "       [-9.52523148e+01, -3.02508027e+01],\n",
       "       [-9.48417033e+01,  3.50274282e+01],\n",
       "       [-9.34009908e+01, -3.26452221e+01],\n",
       "       [-9.24499251e+01,  1.31741290e+01],\n",
       "       [-9.12420152e+01, -2.04349779e+01],\n",
       "       [-8.99471970e+01,  2.29456992e+01],\n",
       "       [-8.84752130e+01, -4.81072460e+01],\n",
       "       [-8.75736418e+01,  1.32190190e+01],\n",
       "       [-8.63488497e+01, -2.60551150e+01],\n",
       "       [-8.56046385e+01,  4.49591024e+01],\n",
       "       [-8.41501483e+01, -2.46587601e+01],\n",
       "       [-8.25415544e+01,  3.80714828e+01],\n",
       "       [-8.10284260e+01, -3.38436742e+01],\n",
       "       [-8.05430035e+01,  1.84963963e+01],\n",
       "       [-7.93777413e+01, -1.20176440e+01],\n",
       "       [-7.82864644e+01,  1.83389368e+01],\n",
       "       [-7.69006676e+01, -4.00610763e+01],\n",
       "       [-7.63493444e+01,  4.92293707e+01],\n",
       "       [-7.47483563e+01, -2.68776225e+01],\n",
       "       [-7.32582819e+01,  4.76546958e+01],\n",
       "       [-7.15536778e+01, -4.60231551e+01],\n",
       "       [-7.13428138e+01,  3.70127264e+01],\n",
       "       [-6.98192074e+01, -3.46196165e+01],\n",
       "       [-6.90478898e+01,  3.25029695e+01],\n",
       "       [-6.76914121e+01, -2.47483963e+01],\n",
       "       [-6.59027122e+01,  2.23991376e+01],\n",
       "       [-6.45694296e+01, -2.89586788e+01],\n",
       "       [-6.37788997e+01,  2.03203835e+01],\n",
       "       [-6.22452579e+01, -4.45651391e+01],\n",
       "       [-6.14382171e+01,  1.54609584e+01],\n",
       "       [-6.02594636e+01, -1.27707639e+01],\n",
       "       [-5.96720260e+01,  2.34854093e+01],\n",
       "       [-5.83659410e+01, -1.82614569e+01],\n",
       "       [-5.72640686e+01, -2.54354260e+00],\n",
       "       [-5.62696061e+01, -3.65173926e-02],\n",
       "       [-5.54017461e+01,  5.29411538e+00],\n",
       "       [-5.45005644e+01,  5.75870011e+00],\n",
       "       [-5.28104292e+01,  1.82313125e-01],\n",
       "       [-5.17499351e+01, -1.12727021e+01],\n",
       "       [-5.04576675e+01, -5.88125813e+00],\n",
       "       [-4.96685101e+01, -5.28175811e+00],\n",
       "       [-4.88032404e+01,  7.25273965e+00],\n",
       "       [-4.78989479e+01,  1.04627226e+01],\n",
       "       [-4.65418983e+01,  2.63439923e+00],\n",
       "       [-4.57607461e+01,  1.06687008e+01],\n",
       "       [-4.37525523e+01, -3.82661261e+00],\n",
       "       [-4.30249749e+01,  7.01873422e+00],\n",
       "       [-4.21451073e+01,  1.19716468e+00],\n",
       "       [-4.09398074e+01, -9.54070216e+00],\n",
       "       [-3.99207379e+01,  4.41758582e+00],\n",
       "       [-3.88849486e+01, -5.37623857e+00],\n",
       "       [-3.76696136e+01,  4.49106288e+00],\n",
       "       [-3.64395177e+01, -1.36273137e+01],\n",
       "       [-3.57336320e+01,  8.78727891e-01],\n",
       "       [-3.49806469e+01,  8.57350933e+00],\n",
       "       [-3.37066536e+01, -1.33822068e+01],\n",
       "       [-3.29503950e+01,  1.28671014e+00],\n",
       "       [-3.17984815e+01,  2.24481205e+00],\n",
       "       [-3.08377897e+01,  9.61667821e+00],\n",
       "       [-2.95463941e+01,  5.80354622e+00],\n",
       "       [-2.85868345e+01, -1.00379524e+00],\n",
       "       [-2.60953285e+01,  7.56260092e+00],\n",
       "       [-2.49422628e+01, -6.82581260e+00],\n",
       "       [-2.41478795e+01, -1.48382461e+00],\n",
       "       [-2.32385236e+01,  2.23990908e+00],\n",
       "       [-2.21997211e+01, -5.55441141e+00],\n",
       "       [-2.15059145e+01,  1.01557764e+01],\n",
       "       [-2.05794877e+01,  3.24105843e+00],\n",
       "       [-1.95285085e+01, -5.01151387e+00],\n",
       "       [-1.88789506e+01,  1.52807007e+01],\n",
       "       [-1.78233572e+01,  7.54067202e+00],\n",
       "       [-1.66772160e+01, -1.08491635e+01],\n",
       "       [-1.59954885e+01,  6.06517043e+00],\n",
       "       [-1.38199059e+01, -3.97814034e+00],\n",
       "       [-1.27334835e+01, -8.63445775e+00],\n",
       "       [-1.14495527e+01, -1.07309000e+01],\n",
       "       [-1.07237652e+01,  6.57483169e+00],\n",
       "       [-9.44836001e+00,  1.96392777e+00],\n",
       "       [-8.33511124e+00,  4.10872242e+00],\n",
       "       [-7.13673622e+00,  3.22778159e+00],\n",
       "       [-6.23734440e+00,  1.01527511e+01],\n",
       "       [-5.26419587e+00,  6.37362208e+00],\n",
       "       [-4.23728363e+00, -5.18997676e+00],\n",
       "       [-3.49301293e+00,  4.96376749e+00],\n",
       "       [-2.44283422e+00, -2.54532465e+00],\n",
       "       [-1.29786504e+00,  1.00787303e+01],\n",
       "       [-1.74118443e-01, -3.16103596e+00],\n",
       "       [ 1.07550138e+00,  5.32547456e+00],\n",
       "       [ 1.88260165e+00,  4.49109895e+00],\n",
       "       [ 2.76371888e+00, -2.07274365e+00],\n",
       "       [ 3.89038751e+00, -7.59368709e+00],\n",
       "       [ 4.67509326e+00, -3.27799340e+00],\n",
       "       [ 5.65843985e+00,  3.91843508e+00],\n",
       "       [ 6.76885755e+00,  6.48343609e+00],\n",
       "       [ 7.72592445e+00,  7.62585397e+00],\n",
       "       [ 8.53674726e+00,  1.37668210e+01],\n",
       "       [ 9.49470586e+00,  8.44643984e+00],\n",
       "       [ 1.04401363e+01,  4.32899775e+00],\n",
       "       [ 1.16356610e+01, -8.18105774e+00],\n",
       "       [ 1.27652514e+01,  7.87516962e+00],\n",
       "       [ 1.38166797e+01, -3.76195581e-01],\n",
       "       [ 1.51563981e+01, -2.54069900e+00],\n",
       "       [ 1.60767722e+01, -4.25226295e+00],\n",
       "       [ 1.66850231e+01,  1.26734262e+01],\n",
       "       [ 1.77866552e+01, -6.10901414e+00],\n",
       "       [ 1.93973389e+01,  9.94237746e+00],\n",
       "       [ 2.04094127e+01, -3.90716074e+00],\n",
       "       [ 2.14509746e+01, -8.21139571e+00],\n",
       "       [ 2.21923035e+01,  9.89090079e+00],\n",
       "       [ 2.40295745e+01, -7.14683438e+00],\n",
       "       [ 2.51687196e+01, -3.94861481e+01],\n",
       "       [ 2.61698782e+01,  1.71888218e+01],\n",
       "       [ 2.73557648e+01, -2.76822781e+01],\n",
       "       [ 2.83269211e+01,  1.59633385e+01],\n",
       "       [ 2.96572817e+01, -4.31133007e+01],\n",
       "       [ 2.98989746e+01,  4.30062921e+01],\n",
       "       [ 3.13615413e+01, -2.40983158e+01],\n",
       "       [ 3.17818304e+01,  4.22062094e+01],\n",
       "       [ 3.31814961e+01, -2.38583347e+01],\n",
       "       [ 3.43108780e+01,  1.28386922e+01],\n",
       "       [ 3.54351846e+01, -2.17865608e+01],\n",
       "       [ 3.63812648e+01,  3.99323089e+01],\n",
       "       [ 3.77940901e+01, -3.87726050e+01],\n",
       "       [ 3.80792313e+01,  4.35084412e+01],\n",
       "       [ 3.95028014e+01, -2.34738137e+01],\n",
       "       [ 4.04801532e+01,  3.48647612e+01],\n",
       "       [ 4.17119808e+01, -2.17946447e+01],\n",
       "       [ 4.24574416e+01,  4.84772996e+01],\n",
       "       [ 4.41038566e+01, -4.29020496e+01],\n",
       "       [ 4.50946283e+01,  7.77078722e+00],\n",
       "       [ 4.62973058e+01, -3.70460208e+01],\n",
       "       [ 4.71599518e+01,  3.43506532e+01],\n",
       "       [ 4.86217378e+01, -4.76778495e+01],\n",
       "       [ 4.90108465e+01,  1.62876517e+01],\n",
       "       [ 5.02703724e+01, -2.43660661e+01],\n",
       "       [ 5.12330746e+01,  2.67131449e+01],\n",
       "       [ 5.25996074e+01, -3.94587757e+01],\n",
       "       [ 5.29732462e+01,  3.36582168e+01],\n",
       "       [ 5.43827783e+01, -3.63534576e+01],\n",
       "       [ 5.48127449e+01,  3.09773619e+01],\n",
       "       [ 5.61340396e+01, -2.48956272e+01],\n",
       "       [ 5.65943147e+01,  3.55696404e+01],\n",
       "       [ 5.81109966e+01, -4.00641245e+01],\n",
       "       [ 5.83792556e+01,  4.78819487e+01],\n",
       "       [ 5.98459161e+01, -2.86593788e+01],\n",
       "       [ 6.02226657e+01,  4.72030119e+01],\n",
       "       [ 6.16384130e+01, -2.37830791e+01],\n",
       "       [ 6.25536841e+01,  1.91847043e+01],\n",
       "       [ 6.39448044e+01, -3.37269265e+01],\n",
       "       [ 6.52131146e+01,  3.99079146e+01],\n",
       "       [ 6.66416701e+01, -4.29738590e+01],\n",
       "       [ 6.86293685e+01,  2.66332837e+01],\n",
       "       [ 6.99504744e+01, -2.42662809e+01],\n",
       "       [ 7.08701774e+01,  3.06526839e+01],\n",
       "       [ 7.23352368e+01, -4.44016833e+01],\n",
       "       [ 7.31854458e+01,  2.24786110e+01],\n",
       "       [ 7.43621754e+01, -1.34695199e+01],\n",
       "       [ 7.48949576e+01,  3.70339221e+01],\n",
       "       [ 7.62914212e+01, -2.60567015e+01],\n",
       "       [ 7.67242385e+01,  3.90448847e+01],\n",
       "       [ 7.81836229e+01, -4.07531776e+01],\n",
       "       [ 7.88838456e+01,  3.98176982e+01],\n",
       "       [ 8.04122551e+01, -3.62755256e+01],\n",
       "       [ 8.06882590e+01,  3.92611145e+01],\n",
       "       [ 8.21428206e+01, -2.04086918e+01],\n",
       "       [ 8.45418779e+01,  4.05129379e+01],\n",
       "       [ 8.61020080e+01, -3.89593736e+01],\n",
       "       [ 8.82484722e+01,  1.79810676e+01],\n",
       "       [ 8.95505745e+01, -3.57157728e+01],\n",
       "       [ 9.03167375e+01,  3.66123814e+01],\n",
       "       [ 9.18153789e+01, -3.83334023e+01],\n",
       "       [ 9.27394358e+01,  1.21234745e+01],\n",
       "       [ 9.41038274e+01, -4.68433740e+01],\n",
       "       [ 9.52051912e+01,  2.97338063e+01],\n",
       "       [ 9.65642394e+01, -1.90540495e+01],\n",
       "       [ 9.78767205e+01,  3.35854954e+01],\n",
       "       [ 9.92721234e+01, -3.37362796e+01],\n",
       "       [ 9.97835718e+01,  2.61483832e+01],\n",
       "       [ 1.01014768e+02, -1.90735920e+01],\n",
       "       [ 1.05596395e+02,  4.06055221e+01],\n",
       "       [ 1.07032676e+02, -3.90183096e+01],\n",
       "       [ 1.10249446e+02,  3.60991880e+01],\n",
       "       [ 1.11652574e+02, -2.79646451e+01],\n",
       "       [ 1.14615358e+02,  2.40178247e+01],\n",
       "       [ 1.15911505e+02, -2.37299674e+01],\n",
       "       [ 1.20939935e+02,  3.08598887e+01],\n",
       "       [ 1.22297753e+02, -3.28530691e+01]])"
      ]
     },
     "execution_count": 56,
     "metadata": {},
     "output_type": "execute_result"
    }
   ],
   "source": [
    "pca_df"
   ]
  },
  {
   "cell_type": "code",
   "execution_count": 57,
   "metadata": {},
   "outputs": [],
   "source": [
    "pca_df = pd.DataFrame(pca_df, columns=['PC1', 'PC2'])"
   ]
  },
  {
   "cell_type": "code",
   "execution_count": 60,
   "metadata": {},
   "outputs": [
    {
     "data": {
      "text/plain": [
       "<matplotlib.axes._subplots.AxesSubplot at 0x204638a3188>"
      ]
     },
     "execution_count": 60,
     "metadata": {},
     "output_type": "execute_result"
    },
    {
     "data": {
      "image/png": "[encoded data removed]",
      "text/plain": [
       "<Figure size 1440x720 with 1 Axes>"
      ]
     },
     "metadata": {
      "needs_background": "light"
     },
     "output_type": "display_data"
    }
   ],
   "source": [
    "plt.figure(figsize=(20,10))\n",
    "sns.scatterplot(x=pca_df['PC1'], y=pca_df['PC2'], hue=model.labels_, palette='Set2', s=100)"
   ]
  }
 ],
 "metadata": {
  "kernelspec": {
   "display_name": "Python 3",
   "language": "python",
   "name": "python3"
  },
  "language_info": {
   "codemirror_mode": {
    "name": "ipython",
    "version": 3
   },
   "file_extension": ".py",
   "mimetype": "text/x-python",
   "name": "python",
   "nbconvert_exporter": "python",
   "pygments_lexer": "ipython3",
   "version": "3.7.10"
  }
 },
 "nbformat": 4,
 "nbformat_minor": 4
}
