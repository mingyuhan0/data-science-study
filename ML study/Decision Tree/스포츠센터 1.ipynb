{
 "cells": [
  {
   "cell_type": "markdown",
   "metadata": {},
   "source": [
    "### 고객 데이터 전체 모습 파악"
   ]
  },
  {
   "cell_type": "markdown",
   "metadata": {},
   "source": [
    "#### VOC\n",
    "- 제가 운영하는 스포츠센터가 트레이닝 붐으로 성황이었다.\n",
    "- 최근 1년간 고객 수가 늘지 않는거 같다\n",
    "- 자주 이용하는 고객만 계속 오는 느낌\n",
    "- 회원 데이터를 분석한 적이 없어 어떤 고객이 계속 이용하고 있는지 모름\n",
    "- 데이터 분석을 통해 원인을 알 수 있을까?"
   ]
  },
  {
   "cell_type": "markdown",
   "metadata": {},
   "source": [
    "#### 현 데이터 상황\n",
    "- 회원권 : 주간 / 야간 / 종일\n",
    "- 비정기적 입회비 할인, 반액, 무료 행사, 신규 회원 유치\n",
    "- 탈퇴는 월말까지 신청 그 다음달 말에 탈퇴"
   ]
  },
  {
   "cell_type": "markdown",
   "metadata": {},
   "source": [
    "#### 사용 데이터\n",
    "- use_log.csv : 센터 이용 이력 2018.4 ~ 2019.3 1년치\n",
    "- class_master.csv : 회원구분(주간, 야간, 종일)\n",
    "- campaign_master.csv : 행사 종류 데이터(입회비 유무)\n",
    "- custumer_master.csv : 2019년 3월 말 시점 회원 데이터"
   ]
  },
  {
   "cell_type": "markdown",
   "metadata": {},
   "source": [
    "--------------------------------------------------------"
   ]
  },
  {
   "cell_type": "markdown",
   "metadata": {},
   "source": [
    "### 모듈 및 데이터 로딩"
   ]
  },
  {
   "cell_type": "code",
   "execution_count": 8,
   "metadata": {},
   "outputs": [],
   "source": [
    "import pandas as pd"
   ]
  },
  {
   "cell_type": "code",
   "execution_count": 10,
   "metadata": {},
   "outputs": [],
   "source": [
    "uselog = pd.read_csv('use_log.csv')"
   ]
  },
  {
   "cell_type": "code",
   "execution_count": 12,
   "metadata": {},
   "outputs": [
    {
     "data": {
      "text/plain": [
       "(197428, 3)"
      ]
     },
     "execution_count": 12,
     "metadata": {},
     "output_type": "execute_result"
    }
   ],
   "source": [
    "#회원이 들어왔다 나갔다한 데이터\n",
    "uselog.shape"
   ]
  },
  {
   "cell_type": "code",
   "execution_count": 13,
   "metadata": {},
   "outputs": [
    {
     "data": {
      "text/html": [
       "<div>\n",
       "<style scoped>\n",
       "    .dataframe tbody tr th:only-of-type {\n",
       "        vertical-align: middle;\n",
       "    }\n",
       "\n",
       "    .dataframe tbody tr th {\n",
       "        vertical-align: top;\n",
       "    }\n",
       "\n",
       "    .dataframe thead th {\n",
       "        text-align: right;\n",
       "    }\n",
       "</style>\n",
       "<table border=\"1\" class=\"dataframe\">\n",
       "  <thead>\n",
       "    <tr style=\"text-align: right;\">\n",
       "      <th></th>\n",
       "      <th>log_id</th>\n",
       "      <th>customer_id</th>\n",
       "      <th>usedate</th>\n",
       "    </tr>\n",
       "  </thead>\n",
       "  <tbody>\n",
       "    <tr>\n",
       "      <th>0</th>\n",
       "      <td>L00000049012330</td>\n",
       "      <td>AS009373</td>\n",
       "      <td>2018-04-01</td>\n",
       "    </tr>\n",
       "    <tr>\n",
       "      <th>1</th>\n",
       "      <td>L00000049012331</td>\n",
       "      <td>AS015315</td>\n",
       "      <td>2018-04-01</td>\n",
       "    </tr>\n",
       "    <tr>\n",
       "      <th>2</th>\n",
       "      <td>L00000049012332</td>\n",
       "      <td>AS040841</td>\n",
       "      <td>2018-04-01</td>\n",
       "    </tr>\n",
       "  </tbody>\n",
       "</table>\n",
       "</div>"
      ],
      "text/plain": [
       "            log_id customer_id     usedate\n",
       "0  L00000049012330    AS009373  2018-04-01\n",
       "1  L00000049012331    AS015315  2018-04-01\n",
       "2  L00000049012332    AS040841  2018-04-01"
      ]
     },
     "execution_count": 13,
     "metadata": {},
     "output_type": "execute_result"
    }
   ],
   "source": [
    "uselog.head(3)"
   ]
  },
  {
   "cell_type": "code",
   "execution_count": 14,
   "metadata": {},
   "outputs": [],
   "source": [
    "customer = pd.read_csv('customer_master.csv')"
   ]
  },
  {
   "cell_type": "code",
   "execution_count": 15,
   "metadata": {},
   "outputs": [
    {
     "data": {
      "text/plain": [
       "(4192, 8)"
      ]
     },
     "execution_count": 15,
     "metadata": {},
     "output_type": "execute_result"
    }
   ],
   "source": [
    "customer.shape"
   ]
  },
  {
   "cell_type": "code",
   "execution_count": 16,
   "metadata": {},
   "outputs": [
    {
     "data": {
      "text/html": [
       "<div>\n",
       "<style scoped>\n",
       "    .dataframe tbody tr th:only-of-type {\n",
       "        vertical-align: middle;\n",
       "    }\n",
       "\n",
       "    .dataframe tbody tr th {\n",
       "        vertical-align: top;\n",
       "    }\n",
       "\n",
       "    .dataframe thead th {\n",
       "        text-align: right;\n",
       "    }\n",
       "</style>\n",
       "<table border=\"1\" class=\"dataframe\">\n",
       "  <thead>\n",
       "    <tr style=\"text-align: right;\">\n",
       "      <th></th>\n",
       "      <th>customer_id</th>\n",
       "      <th>name</th>\n",
       "      <th>class</th>\n",
       "      <th>gender</th>\n",
       "      <th>start_date</th>\n",
       "      <th>end_date</th>\n",
       "      <th>campaign_id</th>\n",
       "      <th>is_deleted</th>\n",
       "    </tr>\n",
       "  </thead>\n",
       "  <tbody>\n",
       "    <tr>\n",
       "      <th>0</th>\n",
       "      <td>OA832399</td>\n",
       "      <td>XXXX</td>\n",
       "      <td>C01</td>\n",
       "      <td>F</td>\n",
       "      <td>2015-05-01 00:00:00</td>\n",
       "      <td>NaN</td>\n",
       "      <td>CA1</td>\n",
       "      <td>0</td>\n",
       "    </tr>\n",
       "    <tr>\n",
       "      <th>1</th>\n",
       "      <td>PL270116</td>\n",
       "      <td>XXXXX</td>\n",
       "      <td>C01</td>\n",
       "      <td>M</td>\n",
       "      <td>2015-05-01 00:00:00</td>\n",
       "      <td>NaN</td>\n",
       "      <td>CA1</td>\n",
       "      <td>0</td>\n",
       "    </tr>\n",
       "    <tr>\n",
       "      <th>2</th>\n",
       "      <td>OA974876</td>\n",
       "      <td>XXXXX</td>\n",
       "      <td>C01</td>\n",
       "      <td>M</td>\n",
       "      <td>2015-05-01 00:00:00</td>\n",
       "      <td>NaN</td>\n",
       "      <td>CA1</td>\n",
       "      <td>0</td>\n",
       "    </tr>\n",
       "  </tbody>\n",
       "</table>\n",
       "</div>"
      ],
      "text/plain": [
       "  customer_id   name class gender           start_date end_date campaign_id  \\\n",
       "0    OA832399   XXXX   C01      F  2015-05-01 00:00:00      NaN         CA1   \n",
       "1    PL270116  XXXXX   C01      M  2015-05-01 00:00:00      NaN         CA1   \n",
       "2    OA974876  XXXXX   C01      M  2015-05-01 00:00:00      NaN         CA1   \n",
       "\n",
       "   is_deleted  \n",
       "0           0  \n",
       "1           0  \n",
       "2           0  "
      ]
     },
     "execution_count": 16,
     "metadata": {},
     "output_type": "execute_result"
    }
   ],
   "source": [
    "customer.head(3)"
   ]
  },
  {
   "cell_type": "code",
   "execution_count": 17,
   "metadata": {},
   "outputs": [],
   "source": [
    "class_master = pd.read_csv('class_master.csv')"
   ]
  },
  {
   "cell_type": "code",
   "execution_count": 18,
   "metadata": {},
   "outputs": [
    {
     "data": {
      "text/plain": [
       "(3, 3)"
      ]
     },
     "execution_count": 18,
     "metadata": {},
     "output_type": "execute_result"
    }
   ],
   "source": [
    "class_master.shape"
   ]
  },
  {
   "cell_type": "code",
   "execution_count": 19,
   "metadata": {},
   "outputs": [
    {
     "data": {
      "text/html": [
       "<div>\n",
       "<style scoped>\n",
       "    .dataframe tbody tr th:only-of-type {\n",
       "        vertical-align: middle;\n",
       "    }\n",
       "\n",
       "    .dataframe tbody tr th {\n",
       "        vertical-align: top;\n",
       "    }\n",
       "\n",
       "    .dataframe thead th {\n",
       "        text-align: right;\n",
       "    }\n",
       "</style>\n",
       "<table border=\"1\" class=\"dataframe\">\n",
       "  <thead>\n",
       "    <tr style=\"text-align: right;\">\n",
       "      <th></th>\n",
       "      <th>class</th>\n",
       "      <th>class_name</th>\n",
       "      <th>price</th>\n",
       "    </tr>\n",
       "  </thead>\n",
       "  <tbody>\n",
       "    <tr>\n",
       "      <th>0</th>\n",
       "      <td>C01</td>\n",
       "      <td>0_종일</td>\n",
       "      <td>10500</td>\n",
       "    </tr>\n",
       "    <tr>\n",
       "      <th>1</th>\n",
       "      <td>C02</td>\n",
       "      <td>1_주간</td>\n",
       "      <td>7500</td>\n",
       "    </tr>\n",
       "    <tr>\n",
       "      <th>2</th>\n",
       "      <td>C03</td>\n",
       "      <td>2_야간</td>\n",
       "      <td>6000</td>\n",
       "    </tr>\n",
       "  </tbody>\n",
       "</table>\n",
       "</div>"
      ],
      "text/plain": [
       "  class class_name  price\n",
       "0   C01       0_종일  10500\n",
       "1   C02       1_주간   7500\n",
       "2   C03       2_야간   6000"
      ]
     },
     "execution_count": 19,
     "metadata": {},
     "output_type": "execute_result"
    }
   ],
   "source": [
    "class_master"
   ]
  },
  {
   "cell_type": "code",
   "execution_count": 20,
   "metadata": {},
   "outputs": [],
   "source": [
    "campaign_master = pd.read_csv('campaign_master.csv')"
   ]
  },
  {
   "cell_type": "code",
   "execution_count": 21,
   "metadata": {},
   "outputs": [
    {
     "data": {
      "text/plain": [
       "(3, 2)"
      ]
     },
     "execution_count": 21,
     "metadata": {},
     "output_type": "execute_result"
    }
   ],
   "source": [
    "campaign_master.shape"
   ]
  },
  {
   "cell_type": "code",
   "execution_count": 22,
   "metadata": {},
   "outputs": [
    {
     "data": {
      "text/html": [
       "<div>\n",
       "<style scoped>\n",
       "    .dataframe tbody tr th:only-of-type {\n",
       "        vertical-align: middle;\n",
       "    }\n",
       "\n",
       "    .dataframe tbody tr th {\n",
       "        vertical-align: top;\n",
       "    }\n",
       "\n",
       "    .dataframe thead th {\n",
       "        text-align: right;\n",
       "    }\n",
       "</style>\n",
       "<table border=\"1\" class=\"dataframe\">\n",
       "  <thead>\n",
       "    <tr style=\"text-align: right;\">\n",
       "      <th></th>\n",
       "      <th>campaign_id</th>\n",
       "      <th>campaign_name</th>\n",
       "    </tr>\n",
       "  </thead>\n",
       "  <tbody>\n",
       "    <tr>\n",
       "      <th>0</th>\n",
       "      <td>CA1</td>\n",
       "      <td>2_일반</td>\n",
       "    </tr>\n",
       "    <tr>\n",
       "      <th>1</th>\n",
       "      <td>CA2</td>\n",
       "      <td>0_입회비반액할인</td>\n",
       "    </tr>\n",
       "    <tr>\n",
       "      <th>2</th>\n",
       "      <td>CA3</td>\n",
       "      <td>1_입회비무료</td>\n",
       "    </tr>\n",
       "  </tbody>\n",
       "</table>\n",
       "</div>"
      ],
      "text/plain": [
       "  campaign_id campaign_name\n",
       "0         CA1          2_일반\n",
       "1         CA2     0_입회비반액할인\n",
       "2         CA3       1_입회비무료"
      ]
     },
     "execution_count": 22,
     "metadata": {},
     "output_type": "execute_result"
    }
   ],
   "source": [
    "campaign_master"
   ]
  },
  {
   "cell_type": "markdown",
   "metadata": {},
   "source": [
    "### 고객데이터 가공"
   ]
  },
  {
   "cell_type": "code",
   "execution_count": 24,
   "metadata": {},
   "outputs": [],
   "source": [
    "customer_join = pd.merge(customer, class_master, on='class', how='left')"
   ]
  },
  {
   "cell_type": "code",
   "execution_count": 25,
   "metadata": {},
   "outputs": [],
   "source": [
    "customer_join = pd.merge(customer_join, campaign_master, on='campaign_id', how='left')"
   ]
  },
  {
   "cell_type": "code",
   "execution_count": 26,
   "metadata": {},
   "outputs": [
    {
     "data": {
      "text/html": [
       "<div>\n",
       "<style scoped>\n",
       "    .dataframe tbody tr th:only-of-type {\n",
       "        vertical-align: middle;\n",
       "    }\n",
       "\n",
       "    .dataframe tbody tr th {\n",
       "        vertical-align: top;\n",
       "    }\n",
       "\n",
       "    .dataframe thead th {\n",
       "        text-align: right;\n",
       "    }\n",
       "</style>\n",
       "<table border=\"1\" class=\"dataframe\">\n",
       "  <thead>\n",
       "    <tr style=\"text-align: right;\">\n",
       "      <th></th>\n",
       "      <th>customer_id</th>\n",
       "      <th>name</th>\n",
       "      <th>class</th>\n",
       "      <th>gender</th>\n",
       "      <th>start_date</th>\n",
       "      <th>end_date</th>\n",
       "      <th>campaign_id</th>\n",
       "      <th>is_deleted</th>\n",
       "      <th>class_name</th>\n",
       "      <th>price</th>\n",
       "      <th>campaign_name</th>\n",
       "    </tr>\n",
       "  </thead>\n",
       "  <tbody>\n",
       "    <tr>\n",
       "      <th>0</th>\n",
       "      <td>OA832399</td>\n",
       "      <td>XXXX</td>\n",
       "      <td>C01</td>\n",
       "      <td>F</td>\n",
       "      <td>2015-05-01 00:00:00</td>\n",
       "      <td>NaN</td>\n",
       "      <td>CA1</td>\n",
       "      <td>0</td>\n",
       "      <td>0_종일</td>\n",
       "      <td>10500</td>\n",
       "      <td>2_일반</td>\n",
       "    </tr>\n",
       "    <tr>\n",
       "      <th>1</th>\n",
       "      <td>PL270116</td>\n",
       "      <td>XXXXX</td>\n",
       "      <td>C01</td>\n",
       "      <td>M</td>\n",
       "      <td>2015-05-01 00:00:00</td>\n",
       "      <td>NaN</td>\n",
       "      <td>CA1</td>\n",
       "      <td>0</td>\n",
       "      <td>0_종일</td>\n",
       "      <td>10500</td>\n",
       "      <td>2_일반</td>\n",
       "    </tr>\n",
       "    <tr>\n",
       "      <th>2</th>\n",
       "      <td>OA974876</td>\n",
       "      <td>XXXXX</td>\n",
       "      <td>C01</td>\n",
       "      <td>M</td>\n",
       "      <td>2015-05-01 00:00:00</td>\n",
       "      <td>NaN</td>\n",
       "      <td>CA1</td>\n",
       "      <td>0</td>\n",
       "      <td>0_종일</td>\n",
       "      <td>10500</td>\n",
       "      <td>2_일반</td>\n",
       "    </tr>\n",
       "  </tbody>\n",
       "</table>\n",
       "</div>"
      ],
      "text/plain": [
       "  customer_id   name class gender           start_date end_date campaign_id  \\\n",
       "0    OA832399   XXXX   C01      F  2015-05-01 00:00:00      NaN         CA1   \n",
       "1    PL270116  XXXXX   C01      M  2015-05-01 00:00:00      NaN         CA1   \n",
       "2    OA974876  XXXXX   C01      M  2015-05-01 00:00:00      NaN         CA1   \n",
       "\n",
       "   is_deleted class_name  price campaign_name  \n",
       "0           0       0_종일  10500          2_일반  \n",
       "1           0       0_종일  10500          2_일반  \n",
       "2           0       0_종일  10500          2_일반  "
      ]
     },
     "execution_count": 26,
     "metadata": {},
     "output_type": "execute_result"
    }
   ],
   "source": [
    "customer_join.head(3)"
   ]
  },
  {
   "cell_type": "code",
   "execution_count": 27,
   "metadata": {},
   "outputs": [
    {
     "data": {
      "text/plain": [
       "(4192, 11)"
      ]
     },
     "execution_count": 27,
     "metadata": {},
     "output_type": "execute_result"
    }
   ],
   "source": [
    "#merge 후에는 건수 확인 다시\n",
    "customer_join.shape"
   ]
  },
  {
   "cell_type": "code",
   "execution_count": 28,
   "metadata": {},
   "outputs": [
    {
     "name": "stdout",
     "output_type": "stream",
     "text": [
      "<class 'pandas.core.frame.DataFrame'>\n",
      "Int64Index: 4192 entries, 0 to 4191\n",
      "Data columns (total 11 columns):\n",
      " #   Column         Non-Null Count  Dtype \n",
      "---  ------         --------------  ----- \n",
      " 0   customer_id    4192 non-null   object\n",
      " 1   name           4192 non-null   object\n",
      " 2   class          4192 non-null   object\n",
      " 3   gender         4192 non-null   object\n",
      " 4   start_date     4192 non-null   object\n",
      " 5   end_date       1350 non-null   object\n",
      " 6   campaign_id    4192 non-null   object\n",
      " 7   is_deleted     4192 non-null   int64 \n",
      " 8   class_name     4192 non-null   object\n",
      " 9   price          4192 non-null   int64 \n",
      " 10  campaign_name  4192 non-null   object\n",
      "dtypes: int64(2), object(9)\n",
      "memory usage: 393.0+ KB\n"
     ]
    }
   ],
   "source": [
    "customer_join.info()\n",
    "#date가 obj인 것 확인"
   ]
  },
  {
   "cell_type": "code",
   "execution_count": 30,
   "metadata": {},
   "outputs": [
    {
     "data": {
      "text/plain": [
       "customer_id      0.000000\n",
       "name             0.000000\n",
       "class            0.000000\n",
       "gender           0.000000\n",
       "start_date       0.000000\n",
       "end_date         0.677958\n",
       "campaign_id      0.000000\n",
       "is_deleted       0.000000\n",
       "class_name       0.000000\n",
       "price            0.000000\n",
       "campaign_name    0.000000\n",
       "dtype: float64"
      ]
     },
     "execution_count": 30,
     "metadata": {},
     "output_type": "execute_result"
    }
   ],
   "source": [
    "customer_join.isnull().sum()/len(customer_join)"
   ]
  },
  {
   "cell_type": "code",
   "execution_count": 31,
   "metadata": {},
   "outputs": [
    {
     "data": {
      "text/plain": [
       "customer_id      0.000000\n",
       "name             0.000000\n",
       "class            0.000000\n",
       "gender           0.000000\n",
       "start_date       0.000000\n",
       "end_date         0.677958\n",
       "campaign_id      0.000000\n",
       "is_deleted       0.000000\n",
       "class_name       0.000000\n",
       "price            0.000000\n",
       "campaign_name    0.000000\n",
       "dtype: float64"
      ]
     },
     "execution_count": 31,
     "metadata": {},
     "output_type": "execute_result"
    }
   ],
   "source": [
    "customer_join.isna().sum()/len(customer_join)"
   ]
  },
  {
   "cell_type": "markdown",
   "metadata": {},
   "source": [
    "-> 결측치 처리 따로 필요없음 확인(end_date는 특성상 존재)"
   ]
  },
  {
   "cell_type": "markdown",
   "metadata": {},
   "source": [
    "### 고객 데이터 집계"
   ]
  },
  {
   "cell_type": "code",
   "execution_count": 36,
   "metadata": {},
   "outputs": [
    {
     "data": {
      "text/plain": [
       "class_name\n",
       "0_종일    2045\n",
       "1_주간    1019\n",
       "2_야간    1128\n",
       "Name: customer_id, dtype: int64"
      ]
     },
     "execution_count": 36,
     "metadata": {},
     "output_type": "execute_result"
    }
   ],
   "source": [
    "#회원권\n",
    "customer_join.groupby('class_name').count()['customer_id']"
   ]
  },
  {
   "cell_type": "code",
   "execution_count": 37,
   "metadata": {},
   "outputs": [
    {
     "data": {
      "text/plain": [
       "campaign_name\n",
       "0_입회비반액할인     650\n",
       "1_입회비무료       492\n",
       "2_일반         3050\n",
       "Name: customer_id, dtype: int64"
      ]
     },
     "execution_count": 37,
     "metadata": {},
     "output_type": "execute_result"
    }
   ],
   "source": [
    "#가입경로\n",
    "customer_join.groupby('campaign_name').count()['customer_id']"
   ]
  },
  {
   "cell_type": "code",
   "execution_count": 38,
   "metadata": {},
   "outputs": [
    {
     "data": {
      "text/plain": [
       "gender\n",
       "F    1983\n",
       "M    2209\n",
       "Name: customer_id, dtype: int64"
      ]
     },
     "execution_count": 38,
     "metadata": {},
     "output_type": "execute_result"
    }
   ],
   "source": [
    "#남녀비율\n",
    "customer_join.groupby('gender').count()['customer_id']"
   ]
  },
  {
   "cell_type": "code",
   "execution_count": 39,
   "metadata": {},
   "outputs": [
    {
     "data": {
      "text/plain": [
       "is_deleted\n",
       "0    2842\n",
       "1    1350\n",
       "Name: customer_id, dtype: int64"
      ]
     },
     "execution_count": 39,
     "metadata": {},
     "output_type": "execute_result"
    }
   ],
   "source": [
    "customer_join.groupby('is_deleted').count()['customer_id']"
   ]
  },
  {
   "cell_type": "code",
   "execution_count": 59,
   "metadata": {},
   "outputs": [],
   "source": [
    "#가입일(log데이터는 1년치이므로 1년 이상된 고객수 확인)\n",
    "customer_join['start_date'] = pd.to_datetime(customer_join['start_date'])"
   ]
  },
  {
   "cell_type": "code",
   "execution_count": 60,
   "metadata": {},
   "outputs": [],
   "source": [
    "customer_start = customer_join.loc[customer_join['start_date'] >= pd.to_datetime('20180401')]"
   ]
  },
  {
   "cell_type": "markdown",
   "metadata": {},
   "source": [
    "### 최근 고객 데이터"
   ]
  },
  {
   "cell_type": "code",
   "execution_count": 51,
   "metadata": {},
   "outputs": [],
   "source": [
    "customer_join['end_date'] = pd.to_datetime(customer_join['end_date'])"
   ]
  },
  {
   "cell_type": "code",
   "execution_count": 53,
   "metadata": {},
   "outputs": [],
   "source": [
    "customer_newer = customer_join.loc[(customer_join['end_date'] >= pd.to_datetime('20190331'))|(customer_join['end_date'].isna())]"
   ]
  },
  {
   "cell_type": "code",
   "execution_count": 54,
   "metadata": {},
   "outputs": [
    {
     "name": "stdout",
     "output_type": "stream",
     "text": [
      "2953\n"
     ]
    }
   ],
   "source": [
    "print(len(customer_newer))"
   ]
  },
  {
   "cell_type": "markdown",
   "metadata": {},
   "source": [
    "### 샘플링한 데이터 확인"
   ]
  },
  {
   "cell_type": "code",
   "execution_count": 56,
   "metadata": {},
   "outputs": [
    {
     "data": {
      "text/plain": [
       "campaign_name\n",
       "0_입회비반액할인     311\n",
       "1_입회비무료       242\n",
       "2_일반         2400\n",
       "Name: customer_id, dtype: int64"
      ]
     },
     "execution_count": 56,
     "metadata": {},
     "output_type": "execute_result"
    }
   ],
   "source": [
    "customer_newer.groupby('campaign_name').count()['customer_id']"
   ]
  },
  {
   "cell_type": "code",
   "execution_count": 57,
   "metadata": {},
   "outputs": [
    {
     "data": {
      "text/plain": [
       "gender\n",
       "F    1400\n",
       "M    1553\n",
       "Name: customer_id, dtype: int64"
      ]
     },
     "execution_count": 57,
     "metadata": {},
     "output_type": "execute_result"
    }
   ],
   "source": [
    "#성비 비슷\n",
    "customer_newer.groupby('gender').count()['customer_id']"
   ]
  },
  {
   "cell_type": "markdown",
   "metadata": {},
   "source": [
    "### 이용 이력 데이터 집계\n",
    "- 월 이용 횟수\n",
    "- 평균 이용 횟수\n",
    "- 중앙 이용 횟수(일반적으론 사용 x. 연습이니까)\n",
    "- 최소, 최대 이용 횟수"
   ]
  },
  {
   "cell_type": "code",
   "execution_count": 61,
   "metadata": {},
   "outputs": [
    {
     "name": "stdout",
     "output_type": "stream",
     "text": [
      "<class 'pandas.core.frame.DataFrame'>\n",
      "RangeIndex: 197428 entries, 0 to 197427\n",
      "Data columns (total 3 columns):\n",
      " #   Column       Non-Null Count   Dtype \n",
      "---  ------       --------------   ----- \n",
      " 0   log_id       197428 non-null  object\n",
      " 1   customer_id  197428 non-null  object\n",
      " 2   usedate      197428 non-null  object\n",
      "dtypes: object(3)\n",
      "memory usage: 4.5+ MB\n"
     ]
    }
   ],
   "source": [
    "uselog.info()"
   ]
  },
  {
   "cell_type": "code",
   "execution_count": 62,
   "metadata": {},
   "outputs": [],
   "source": [
    "uselog['usedate'] = pd.to_datetime(uselog['usedate'])"
   ]
  },
  {
   "cell_type": "code",
   "execution_count": 64,
   "metadata": {},
   "outputs": [],
   "source": [
    "uselog['연월'] = uselog['usedate'].dt.strftime('%Y%m')"
   ]
  },
  {
   "cell_type": "code",
   "execution_count": 65,
   "metadata": {},
   "outputs": [
    {
     "data": {
      "text/html": [
       "<div>\n",
       "<style scoped>\n",
       "    .dataframe tbody tr th:only-of-type {\n",
       "        vertical-align: middle;\n",
       "    }\n",
       "\n",
       "    .dataframe tbody tr th {\n",
       "        vertical-align: top;\n",
       "    }\n",
       "\n",
       "    .dataframe thead th {\n",
       "        text-align: right;\n",
       "    }\n",
       "</style>\n",
       "<table border=\"1\" class=\"dataframe\">\n",
       "  <thead>\n",
       "    <tr style=\"text-align: right;\">\n",
       "      <th></th>\n",
       "      <th>log_id</th>\n",
       "      <th>customer_id</th>\n",
       "      <th>usedate</th>\n",
       "      <th>연월</th>\n",
       "    </tr>\n",
       "  </thead>\n",
       "  <tbody>\n",
       "    <tr>\n",
       "      <th>0</th>\n",
       "      <td>L00000049012330</td>\n",
       "      <td>AS009373</td>\n",
       "      <td>2018-04-01</td>\n",
       "      <td>201804</td>\n",
       "    </tr>\n",
       "    <tr>\n",
       "      <th>1</th>\n",
       "      <td>L00000049012331</td>\n",
       "      <td>AS015315</td>\n",
       "      <td>2018-04-01</td>\n",
       "      <td>201804</td>\n",
       "    </tr>\n",
       "    <tr>\n",
       "      <th>2</th>\n",
       "      <td>L00000049012332</td>\n",
       "      <td>AS040841</td>\n",
       "      <td>2018-04-01</td>\n",
       "      <td>201804</td>\n",
       "    </tr>\n",
       "  </tbody>\n",
       "</table>\n",
       "</div>"
      ],
      "text/plain": [
       "            log_id customer_id    usedate      연월\n",
       "0  L00000049012330    AS009373 2018-04-01  201804\n",
       "1  L00000049012331    AS015315 2018-04-01  201804\n",
       "2  L00000049012332    AS040841 2018-04-01  201804"
      ]
     },
     "execution_count": 65,
     "metadata": {},
     "output_type": "execute_result"
    }
   ],
   "source": [
    "uselog.head(3)"
   ]
  },
  {
   "cell_type": "code",
   "execution_count": 66,
   "metadata": {},
   "outputs": [],
   "source": [
    "#고객별 월별 이용횟수\n",
    "uselog_months = uselog.groupby(['연월', 'customer_id'], as_index = False).count()"
   ]
  },
  {
   "cell_type": "code",
   "execution_count": 67,
   "metadata": {},
   "outputs": [
    {
     "data": {
      "text/html": [
       "<div>\n",
       "<style scoped>\n",
       "    .dataframe tbody tr th:only-of-type {\n",
       "        vertical-align: middle;\n",
       "    }\n",
       "\n",
       "    .dataframe tbody tr th {\n",
       "        vertical-align: top;\n",
       "    }\n",
       "\n",
       "    .dataframe thead th {\n",
       "        text-align: right;\n",
       "    }\n",
       "</style>\n",
       "<table border=\"1\" class=\"dataframe\">\n",
       "  <thead>\n",
       "    <tr style=\"text-align: right;\">\n",
       "      <th></th>\n",
       "      <th>연월</th>\n",
       "      <th>customer_id</th>\n",
       "      <th>log_id</th>\n",
       "      <th>usedate</th>\n",
       "    </tr>\n",
       "  </thead>\n",
       "  <tbody>\n",
       "    <tr>\n",
       "      <th>0</th>\n",
       "      <td>201804</td>\n",
       "      <td>AS002855</td>\n",
       "      <td>4</td>\n",
       "      <td>4</td>\n",
       "    </tr>\n",
       "    <tr>\n",
       "      <th>1</th>\n",
       "      <td>201804</td>\n",
       "      <td>AS009013</td>\n",
       "      <td>2</td>\n",
       "      <td>2</td>\n",
       "    </tr>\n",
       "    <tr>\n",
       "      <th>2</th>\n",
       "      <td>201804</td>\n",
       "      <td>AS009373</td>\n",
       "      <td>3</td>\n",
       "      <td>3</td>\n",
       "    </tr>\n",
       "    <tr>\n",
       "      <th>3</th>\n",
       "      <td>201804</td>\n",
       "      <td>AS015315</td>\n",
       "      <td>6</td>\n",
       "      <td>6</td>\n",
       "    </tr>\n",
       "    <tr>\n",
       "      <th>4</th>\n",
       "      <td>201804</td>\n",
       "      <td>AS015739</td>\n",
       "      <td>7</td>\n",
       "      <td>7</td>\n",
       "    </tr>\n",
       "  </tbody>\n",
       "</table>\n",
       "</div>"
      ],
      "text/plain": [
       "       연월 customer_id  log_id  usedate\n",
       "0  201804    AS002855       4        4\n",
       "1  201804    AS009013       2        2\n",
       "2  201804    AS009373       3        3\n",
       "3  201804    AS015315       6        6\n",
       "4  201804    AS015739       7        7"
      ]
     },
     "execution_count": 67,
     "metadata": {},
     "output_type": "execute_result"
    }
   ],
   "source": [
    "#log_id, usedate 중복\n",
    "uselog_months.head()"
   ]
  },
  {
   "cell_type": "code",
   "execution_count": 68,
   "metadata": {},
   "outputs": [],
   "source": [
    "uselog_months.rename(columns={'log_id':'count'}, inplace=True)"
   ]
  },
  {
   "cell_type": "code",
   "execution_count": 69,
   "metadata": {},
   "outputs": [],
   "source": [
    "#del 사용법 공부 -> 처음 봤음\n",
    "del uselog_months['usedate']"
   ]
  },
  {
   "cell_type": "code",
   "execution_count": 70,
   "metadata": {},
   "outputs": [
    {
     "data": {
      "text/html": [
       "<div>\n",
       "<style scoped>\n",
       "    .dataframe tbody tr th:only-of-type {\n",
       "        vertical-align: middle;\n",
       "    }\n",
       "\n",
       "    .dataframe tbody tr th {\n",
       "        vertical-align: top;\n",
       "    }\n",
       "\n",
       "    .dataframe thead th {\n",
       "        text-align: right;\n",
       "    }\n",
       "</style>\n",
       "<table border=\"1\" class=\"dataframe\">\n",
       "  <thead>\n",
       "    <tr style=\"text-align: right;\">\n",
       "      <th></th>\n",
       "      <th>연월</th>\n",
       "      <th>customer_id</th>\n",
       "      <th>count</th>\n",
       "    </tr>\n",
       "  </thead>\n",
       "  <tbody>\n",
       "    <tr>\n",
       "      <th>0</th>\n",
       "      <td>201804</td>\n",
       "      <td>AS002855</td>\n",
       "      <td>4</td>\n",
       "    </tr>\n",
       "    <tr>\n",
       "      <th>1</th>\n",
       "      <td>201804</td>\n",
       "      <td>AS009013</td>\n",
       "      <td>2</td>\n",
       "    </tr>\n",
       "    <tr>\n",
       "      <th>2</th>\n",
       "      <td>201804</td>\n",
       "      <td>AS009373</td>\n",
       "      <td>3</td>\n",
       "    </tr>\n",
       "    <tr>\n",
       "      <th>3</th>\n",
       "      <td>201804</td>\n",
       "      <td>AS015315</td>\n",
       "      <td>6</td>\n",
       "    </tr>\n",
       "    <tr>\n",
       "      <th>4</th>\n",
       "      <td>201804</td>\n",
       "      <td>AS015739</td>\n",
       "      <td>7</td>\n",
       "    </tr>\n",
       "  </tbody>\n",
       "</table>\n",
       "</div>"
      ],
      "text/plain": [
       "       연월 customer_id  count\n",
       "0  201804    AS002855      4\n",
       "1  201804    AS009013      2\n",
       "2  201804    AS009373      3\n",
       "3  201804    AS015315      6\n",
       "4  201804    AS015739      7"
      ]
     },
     "execution_count": 70,
     "metadata": {},
     "output_type": "execute_result"
    }
   ],
   "source": [
    "uselog_months.head()"
   ]
  },
  {
   "cell_type": "code",
   "execution_count": 71,
   "metadata": {},
   "outputs": [],
   "source": [
    "uselog_customer = uselog_months.groupby('customer_id').agg(['mean', 'median', 'max', 'min'])['count']"
   ]
  },
  {
   "cell_type": "code",
   "execution_count": 73,
   "metadata": {},
   "outputs": [
    {
     "data": {
      "text/html": [
       "<div>\n",
       "<style scoped>\n",
       "    .dataframe tbody tr th:only-of-type {\n",
       "        vertical-align: middle;\n",
       "    }\n",
       "\n",
       "    .dataframe tbody tr th {\n",
       "        vertical-align: top;\n",
       "    }\n",
       "\n",
       "    .dataframe thead th {\n",
       "        text-align: right;\n",
       "    }\n",
       "</style>\n",
       "<table border=\"1\" class=\"dataframe\">\n",
       "  <thead>\n",
       "    <tr style=\"text-align: right;\">\n",
       "      <th></th>\n",
       "      <th>mean</th>\n",
       "      <th>median</th>\n",
       "      <th>max</th>\n",
       "      <th>min</th>\n",
       "    </tr>\n",
       "    <tr>\n",
       "      <th>customer_id</th>\n",
       "      <th></th>\n",
       "      <th></th>\n",
       "      <th></th>\n",
       "      <th></th>\n",
       "    </tr>\n",
       "  </thead>\n",
       "  <tbody>\n",
       "    <tr>\n",
       "      <th>AS002855</th>\n",
       "      <td>4.500000</td>\n",
       "      <td>5.0</td>\n",
       "      <td>7</td>\n",
       "      <td>2</td>\n",
       "    </tr>\n",
       "    <tr>\n",
       "      <th>AS008805</th>\n",
       "      <td>4.000000</td>\n",
       "      <td>4.0</td>\n",
       "      <td>8</td>\n",
       "      <td>1</td>\n",
       "    </tr>\n",
       "    <tr>\n",
       "      <th>AS009013</th>\n",
       "      <td>2.000000</td>\n",
       "      <td>2.0</td>\n",
       "      <td>2</td>\n",
       "      <td>2</td>\n",
       "    </tr>\n",
       "    <tr>\n",
       "      <th>AS009373</th>\n",
       "      <td>5.083333</td>\n",
       "      <td>5.0</td>\n",
       "      <td>7</td>\n",
       "      <td>3</td>\n",
       "    </tr>\n",
       "    <tr>\n",
       "      <th>AS015233</th>\n",
       "      <td>7.545455</td>\n",
       "      <td>7.0</td>\n",
       "      <td>11</td>\n",
       "      <td>4</td>\n",
       "    </tr>\n",
       "  </tbody>\n",
       "</table>\n",
       "</div>"
      ],
      "text/plain": [
       "                 mean  median  max  min\n",
       "customer_id                            \n",
       "AS002855     4.500000     5.0    7    2\n",
       "AS008805     4.000000     4.0    8    1\n",
       "AS009013     2.000000     2.0    2    2\n",
       "AS009373     5.083333     5.0    7    3\n",
       "AS015233     7.545455     7.0   11    4"
      ]
     },
     "execution_count": 73,
     "metadata": {},
     "output_type": "execute_result"
    }
   ],
   "source": [
    "#customer_id가 index로 잡혀있으니 추후 merge시 귀찮음. 다시 col로 올리기\n",
    "uselog_customer.head()"
   ]
  },
  {
   "cell_type": "code",
   "execution_count": 74,
   "metadata": {},
   "outputs": [
    {
     "data": {
      "text/html": [
       "<div>\n",
       "<style scoped>\n",
       "    .dataframe tbody tr th:only-of-type {\n",
       "        vertical-align: middle;\n",
       "    }\n",
       "\n",
       "    .dataframe tbody tr th {\n",
       "        vertical-align: top;\n",
       "    }\n",
       "\n",
       "    .dataframe thead th {\n",
       "        text-align: right;\n",
       "    }\n",
       "</style>\n",
       "<table border=\"1\" class=\"dataframe\">\n",
       "  <thead>\n",
       "    <tr style=\"text-align: right;\">\n",
       "      <th></th>\n",
       "      <th>customer_id</th>\n",
       "      <th>mean</th>\n",
       "      <th>median</th>\n",
       "      <th>max</th>\n",
       "      <th>min</th>\n",
       "    </tr>\n",
       "  </thead>\n",
       "  <tbody>\n",
       "    <tr>\n",
       "      <th>0</th>\n",
       "      <td>AS002855</td>\n",
       "      <td>4.500000</td>\n",
       "      <td>5.0</td>\n",
       "      <td>7</td>\n",
       "      <td>2</td>\n",
       "    </tr>\n",
       "    <tr>\n",
       "      <th>1</th>\n",
       "      <td>AS008805</td>\n",
       "      <td>4.000000</td>\n",
       "      <td>4.0</td>\n",
       "      <td>8</td>\n",
       "      <td>1</td>\n",
       "    </tr>\n",
       "    <tr>\n",
       "      <th>2</th>\n",
       "      <td>AS009013</td>\n",
       "      <td>2.000000</td>\n",
       "      <td>2.0</td>\n",
       "      <td>2</td>\n",
       "      <td>2</td>\n",
       "    </tr>\n",
       "    <tr>\n",
       "      <th>3</th>\n",
       "      <td>AS009373</td>\n",
       "      <td>5.083333</td>\n",
       "      <td>5.0</td>\n",
       "      <td>7</td>\n",
       "      <td>3</td>\n",
       "    </tr>\n",
       "    <tr>\n",
       "      <th>4</th>\n",
       "      <td>AS015233</td>\n",
       "      <td>7.545455</td>\n",
       "      <td>7.0</td>\n",
       "      <td>11</td>\n",
       "      <td>4</td>\n",
       "    </tr>\n",
       "  </tbody>\n",
       "</table>\n",
       "</div>"
      ],
      "text/plain": [
       "  customer_id      mean  median  max  min\n",
       "0    AS002855  4.500000     5.0    7    2\n",
       "1    AS008805  4.000000     4.0    8    1\n",
       "2    AS009013  2.000000     2.0    2    2\n",
       "3    AS009373  5.083333     5.0    7    3\n",
       "4    AS015233  7.545455     7.0   11    4"
      ]
     },
     "execution_count": 74,
     "metadata": {},
     "output_type": "execute_result"
    }
   ],
   "source": [
    "#drop=False -> 원래 index 지우지 말아라\n",
    "uselog_customer = uselog_customer.reset_index(drop=False)\n",
    "uselog_customer.head()"
   ]
  },
  {
   "cell_type": "markdown",
   "metadata": {},
   "source": [
    "### 이용 이력 데이터로부터 정기 이용 여부 col 생성\n",
    "기준  \n",
    "- 매주 같은 요일에 오는 고객\n",
    "- 최대값 4이상인 요일이 있으면 1처리\n",
    "- 고객마다 월/요일별로 집계"
   ]
  },
  {
   "cell_type": "code",
   "execution_count": 76,
   "metadata": {},
   "outputs": [],
   "source": [
    "uselog['weekday'] = uselog['usedate'].dt.weekday"
   ]
  },
  {
   "cell_type": "code",
   "execution_count": 77,
   "metadata": {},
   "outputs": [
    {
     "data": {
      "text/html": [
       "<div>\n",
       "<style scoped>\n",
       "    .dataframe tbody tr th:only-of-type {\n",
       "        vertical-align: middle;\n",
       "    }\n",
       "\n",
       "    .dataframe tbody tr th {\n",
       "        vertical-align: top;\n",
       "    }\n",
       "\n",
       "    .dataframe thead th {\n",
       "        text-align: right;\n",
       "    }\n",
       "</style>\n",
       "<table border=\"1\" class=\"dataframe\">\n",
       "  <thead>\n",
       "    <tr style=\"text-align: right;\">\n",
       "      <th></th>\n",
       "      <th>log_id</th>\n",
       "      <th>customer_id</th>\n",
       "      <th>usedate</th>\n",
       "      <th>연월</th>\n",
       "      <th>weekday</th>\n",
       "    </tr>\n",
       "  </thead>\n",
       "  <tbody>\n",
       "    <tr>\n",
       "      <th>0</th>\n",
       "      <td>L00000049012330</td>\n",
       "      <td>AS009373</td>\n",
       "      <td>2018-04-01</td>\n",
       "      <td>201804</td>\n",
       "      <td>6</td>\n",
       "    </tr>\n",
       "    <tr>\n",
       "      <th>1</th>\n",
       "      <td>L00000049012331</td>\n",
       "      <td>AS015315</td>\n",
       "      <td>2018-04-01</td>\n",
       "      <td>201804</td>\n",
       "      <td>6</td>\n",
       "    </tr>\n",
       "    <tr>\n",
       "      <th>2</th>\n",
       "      <td>L00000049012332</td>\n",
       "      <td>AS040841</td>\n",
       "      <td>2018-04-01</td>\n",
       "      <td>201804</td>\n",
       "      <td>6</td>\n",
       "    </tr>\n",
       "  </tbody>\n",
       "</table>\n",
       "</div>"
      ],
      "text/plain": [
       "            log_id customer_id    usedate      연월  weekday\n",
       "0  L00000049012330    AS009373 2018-04-01  201804        6\n",
       "1  L00000049012331    AS015315 2018-04-01  201804        6\n",
       "2  L00000049012332    AS040841 2018-04-01  201804        6"
      ]
     },
     "execution_count": 77,
     "metadata": {},
     "output_type": "execute_result"
    }
   ],
   "source": [
    "#숫자로 요일 표시\n",
    "uselog.head(3)"
   ]
  },
  {
   "cell_type": "code",
   "execution_count": 79,
   "metadata": {},
   "outputs": [],
   "source": [
    "uselog_weekday = uselog.groupby(['customer_id', '연월', 'weekday'], as_index=False).count()[['customer_id', '연월', 'weekday', 'log_id']]"
   ]
  },
  {
   "cell_type": "code",
   "execution_count": 80,
   "metadata": {},
   "outputs": [
    {
     "data": {
      "text/html": [
       "<div>\n",
       "<style scoped>\n",
       "    .dataframe tbody tr th:only-of-type {\n",
       "        vertical-align: middle;\n",
       "    }\n",
       "\n",
       "    .dataframe tbody tr th {\n",
       "        vertical-align: top;\n",
       "    }\n",
       "\n",
       "    .dataframe thead th {\n",
       "        text-align: right;\n",
       "    }\n",
       "</style>\n",
       "<table border=\"1\" class=\"dataframe\">\n",
       "  <thead>\n",
       "    <tr style=\"text-align: right;\">\n",
       "      <th></th>\n",
       "      <th>customer_id</th>\n",
       "      <th>연월</th>\n",
       "      <th>weekday</th>\n",
       "      <th>log_id</th>\n",
       "    </tr>\n",
       "  </thead>\n",
       "  <tbody>\n",
       "    <tr>\n",
       "      <th>0</th>\n",
       "      <td>AS002855</td>\n",
       "      <td>201804</td>\n",
       "      <td>5</td>\n",
       "      <td>4</td>\n",
       "    </tr>\n",
       "    <tr>\n",
       "      <th>1</th>\n",
       "      <td>AS002855</td>\n",
       "      <td>201805</td>\n",
       "      <td>2</td>\n",
       "      <td>1</td>\n",
       "    </tr>\n",
       "    <tr>\n",
       "      <th>2</th>\n",
       "      <td>AS002855</td>\n",
       "      <td>201805</td>\n",
       "      <td>5</td>\n",
       "      <td>4</td>\n",
       "    </tr>\n",
       "  </tbody>\n",
       "</table>\n",
       "</div>"
      ],
      "text/plain": [
       "  customer_id      연월  weekday  log_id\n",
       "0    AS002855  201804        5       4\n",
       "1    AS002855  201805        2       1\n",
       "2    AS002855  201805        5       4"
      ]
     },
     "execution_count": 80,
     "metadata": {},
     "output_type": "execute_result"
    }
   ],
   "source": [
    "uselog_weekday.head(3)"
   ]
  },
  {
   "cell_type": "code",
   "execution_count": 81,
   "metadata": {},
   "outputs": [
    {
     "data": {
      "text/html": [
       "<div>\n",
       "<style scoped>\n",
       "    .dataframe tbody tr th:only-of-type {\n",
       "        vertical-align: middle;\n",
       "    }\n",
       "\n",
       "    .dataframe tbody tr th {\n",
       "        vertical-align: top;\n",
       "    }\n",
       "\n",
       "    .dataframe thead th {\n",
       "        text-align: right;\n",
       "    }\n",
       "</style>\n",
       "<table border=\"1\" class=\"dataframe\">\n",
       "  <thead>\n",
       "    <tr style=\"text-align: right;\">\n",
       "      <th></th>\n",
       "      <th>customer_id</th>\n",
       "      <th>연월</th>\n",
       "      <th>weekday</th>\n",
       "      <th>count</th>\n",
       "    </tr>\n",
       "  </thead>\n",
       "  <tbody>\n",
       "    <tr>\n",
       "      <th>0</th>\n",
       "      <td>AS002855</td>\n",
       "      <td>201804</td>\n",
       "      <td>5</td>\n",
       "      <td>4</td>\n",
       "    </tr>\n",
       "    <tr>\n",
       "      <th>1</th>\n",
       "      <td>AS002855</td>\n",
       "      <td>201805</td>\n",
       "      <td>2</td>\n",
       "      <td>1</td>\n",
       "    </tr>\n",
       "    <tr>\n",
       "      <th>2</th>\n",
       "      <td>AS002855</td>\n",
       "      <td>201805</td>\n",
       "      <td>5</td>\n",
       "      <td>4</td>\n",
       "    </tr>\n",
       "  </tbody>\n",
       "</table>\n",
       "</div>"
      ],
      "text/plain": [
       "  customer_id      연월  weekday  count\n",
       "0    AS002855  201804        5      4\n",
       "1    AS002855  201805        2      1\n",
       "2    AS002855  201805        5      4"
      ]
     },
     "execution_count": 81,
     "metadata": {},
     "output_type": "execute_result"
    }
   ],
   "source": [
    "uselog_weekday.rename(columns={'log_id':'count'}, inplace=True)\n",
    "uselog_weekday.head(3)"
   ]
  },
  {
   "cell_type": "code",
   "execution_count": 82,
   "metadata": {},
   "outputs": [],
   "source": [
    "uselog_weekday = uselog_weekday.groupby('customer_id', as_index=False).max()[['customer_id', 'count']]\n",
    "uselog_weekday['routine_flg'] = 0\n",
    "uselog_weekday['routine_flg'] = uselog_weekday['routine_flg'].where(uselog_weekday['count'] < 4, 1) #조건 반대로 줘야함"
   ]
  },
  {
   "cell_type": "code",
   "execution_count": 83,
   "metadata": {},
   "outputs": [
    {
     "data": {
      "text/html": [
       "<div>\n",
       "<style scoped>\n",
       "    .dataframe tbody tr th:only-of-type {\n",
       "        vertical-align: middle;\n",
       "    }\n",
       "\n",
       "    .dataframe tbody tr th {\n",
       "        vertical-align: top;\n",
       "    }\n",
       "\n",
       "    .dataframe thead th {\n",
       "        text-align: right;\n",
       "    }\n",
       "</style>\n",
       "<table border=\"1\" class=\"dataframe\">\n",
       "  <thead>\n",
       "    <tr style=\"text-align: right;\">\n",
       "      <th></th>\n",
       "      <th>customer_id</th>\n",
       "      <th>count</th>\n",
       "      <th>routine_flg</th>\n",
       "    </tr>\n",
       "  </thead>\n",
       "  <tbody>\n",
       "    <tr>\n",
       "      <th>0</th>\n",
       "      <td>AS002855</td>\n",
       "      <td>5</td>\n",
       "      <td>1</td>\n",
       "    </tr>\n",
       "    <tr>\n",
       "      <th>1</th>\n",
       "      <td>AS008805</td>\n",
       "      <td>4</td>\n",
       "      <td>1</td>\n",
       "    </tr>\n",
       "    <tr>\n",
       "      <th>2</th>\n",
       "      <td>AS009013</td>\n",
       "      <td>2</td>\n",
       "      <td>0</td>\n",
       "    </tr>\n",
       "    <tr>\n",
       "      <th>3</th>\n",
       "      <td>AS009373</td>\n",
       "      <td>5</td>\n",
       "      <td>1</td>\n",
       "    </tr>\n",
       "    <tr>\n",
       "      <th>4</th>\n",
       "      <td>AS015233</td>\n",
       "      <td>5</td>\n",
       "      <td>1</td>\n",
       "    </tr>\n",
       "  </tbody>\n",
       "</table>\n",
       "</div>"
      ],
      "text/plain": [
       "  customer_id  count  routine_flg\n",
       "0    AS002855      5            1\n",
       "1    AS008805      4            1\n",
       "2    AS009013      2            0\n",
       "3    AS009373      5            1\n",
       "4    AS015233      5            1"
      ]
     },
     "execution_count": 83,
     "metadata": {},
     "output_type": "execute_result"
    }
   ],
   "source": [
    "uselog_weekday.head()"
   ]
  },
  {
   "cell_type": "markdown",
   "metadata": {},
   "source": [
    "### 고객 데이터와 이용 데이터 결합"
   ]
  },
  {
   "cell_type": "code",
   "execution_count": 86,
   "metadata": {},
   "outputs": [
    {
     "data": {
      "text/html": [
       "<div>\n",
       "<style scoped>\n",
       "    .dataframe tbody tr th:only-of-type {\n",
       "        vertical-align: middle;\n",
       "    }\n",
       "\n",
       "    .dataframe tbody tr th {\n",
       "        vertical-align: top;\n",
       "    }\n",
       "\n",
       "    .dataframe thead th {\n",
       "        text-align: right;\n",
       "    }\n",
       "</style>\n",
       "<table border=\"1\" class=\"dataframe\">\n",
       "  <thead>\n",
       "    <tr style=\"text-align: right;\">\n",
       "      <th></th>\n",
       "      <th>customer_id</th>\n",
       "      <th>name</th>\n",
       "      <th>class</th>\n",
       "      <th>gender</th>\n",
       "      <th>start_date</th>\n",
       "      <th>end_date</th>\n",
       "      <th>campaign_id</th>\n",
       "      <th>is_deleted</th>\n",
       "      <th>class_name</th>\n",
       "      <th>price</th>\n",
       "      <th>...</th>\n",
       "      <th>mean_x</th>\n",
       "      <th>median_x</th>\n",
       "      <th>max_x</th>\n",
       "      <th>min_x</th>\n",
       "      <th>routine_flg_x</th>\n",
       "      <th>mean_y</th>\n",
       "      <th>median_y</th>\n",
       "      <th>max_y</th>\n",
       "      <th>min_y</th>\n",
       "      <th>routine_flg_y</th>\n",
       "    </tr>\n",
       "  </thead>\n",
       "  <tbody>\n",
       "    <tr>\n",
       "      <th>0</th>\n",
       "      <td>OA832399</td>\n",
       "      <td>XXXX</td>\n",
       "      <td>C01</td>\n",
       "      <td>F</td>\n",
       "      <td>2015-05-01</td>\n",
       "      <td>NaT</td>\n",
       "      <td>CA1</td>\n",
       "      <td>0</td>\n",
       "      <td>0_종일</td>\n",
       "      <td>10500</td>\n",
       "      <td>...</td>\n",
       "      <td>4.833333</td>\n",
       "      <td>5.0</td>\n",
       "      <td>8</td>\n",
       "      <td>2</td>\n",
       "      <td>1</td>\n",
       "      <td>4.833333</td>\n",
       "      <td>5.0</td>\n",
       "      <td>8</td>\n",
       "      <td>2</td>\n",
       "      <td>1</td>\n",
       "    </tr>\n",
       "    <tr>\n",
       "      <th>1</th>\n",
       "      <td>PL270116</td>\n",
       "      <td>XXXXX</td>\n",
       "      <td>C01</td>\n",
       "      <td>M</td>\n",
       "      <td>2015-05-01</td>\n",
       "      <td>NaT</td>\n",
       "      <td>CA1</td>\n",
       "      <td>0</td>\n",
       "      <td>0_종일</td>\n",
       "      <td>10500</td>\n",
       "      <td>...</td>\n",
       "      <td>5.083333</td>\n",
       "      <td>5.0</td>\n",
       "      <td>7</td>\n",
       "      <td>3</td>\n",
       "      <td>1</td>\n",
       "      <td>5.083333</td>\n",
       "      <td>5.0</td>\n",
       "      <td>7</td>\n",
       "      <td>3</td>\n",
       "      <td>1</td>\n",
       "    </tr>\n",
       "    <tr>\n",
       "      <th>2</th>\n",
       "      <td>OA974876</td>\n",
       "      <td>XXXXX</td>\n",
       "      <td>C01</td>\n",
       "      <td>M</td>\n",
       "      <td>2015-05-01</td>\n",
       "      <td>NaT</td>\n",
       "      <td>CA1</td>\n",
       "      <td>0</td>\n",
       "      <td>0_종일</td>\n",
       "      <td>10500</td>\n",
       "      <td>...</td>\n",
       "      <td>4.583333</td>\n",
       "      <td>5.0</td>\n",
       "      <td>6</td>\n",
       "      <td>3</td>\n",
       "      <td>1</td>\n",
       "      <td>4.583333</td>\n",
       "      <td>5.0</td>\n",
       "      <td>6</td>\n",
       "      <td>3</td>\n",
       "      <td>1</td>\n",
       "    </tr>\n",
       "  </tbody>\n",
       "</table>\n",
       "<p>3 rows × 22 columns</p>\n",
       "</div>"
      ],
      "text/plain": [
       "  customer_id   name class gender start_date end_date campaign_id  is_deleted  \\\n",
       "0    OA832399   XXXX   C01      F 2015-05-01      NaT         CA1           0   \n",
       "1    PL270116  XXXXX   C01      M 2015-05-01      NaT         CA1           0   \n",
       "2    OA974876  XXXXX   C01      M 2015-05-01      NaT         CA1           0   \n",
       "\n",
       "  class_name  price  ...    mean_x median_x  max_x  min_x  routine_flg_x  \\\n",
       "0       0_종일  10500  ...  4.833333      5.0      8      2              1   \n",
       "1       0_종일  10500  ...  5.083333      5.0      7      3              1   \n",
       "2       0_종일  10500  ...  4.583333      5.0      6      3              1   \n",
       "\n",
       "     mean_y  median_y  max_y  min_y  routine_flg_y  \n",
       "0  4.833333       5.0      8      2              1  \n",
       "1  5.083333       5.0      7      3              1  \n",
       "2  4.583333       5.0      6      3              1  \n",
       "\n",
       "[3 rows x 22 columns]"
      ]
     },
     "execution_count": 86,
     "metadata": {},
     "output_type": "execute_result"
    }
   ],
   "source": [
    "customer_join = pd.merge(customer_join, uselog_customer, on='customer_id', how='left')\n",
    "customer_join = pd.merge(customer_join, uselog_weekday[['customer_id','routine_flg']], on ='customer_id', how='left')\n",
    "customer_join.head(3)"
   ]
  },
  {
   "cell_type": "code",
   "execution_count": 88,
   "metadata": {},
   "outputs": [],
   "source": [
    "customer_join.drop(['mean_y', 'median_y', 'max_y', 'min_y', 'routine_flg_y'], axis=1, inplace=True)"
   ]
  },
  {
   "cell_type": "code",
   "execution_count": 90,
   "metadata": {},
   "outputs": [],
   "source": [
    "customer_join.rename(columns={'mean_x':'mean', 'median_x':'median', 'max_x':'max', 'min_x':'min', 'routine_flg_x':'routine_flg'}, inplace=True)"
   ]
  },
  {
   "cell_type": "code",
   "execution_count": 94,
   "metadata": {},
   "outputs": [],
   "source": [
    "del customer_join['start_data']"
   ]
  },
  {
   "cell_type": "code",
   "execution_count": 95,
   "metadata": {},
   "outputs": [
    {
     "data": {
      "text/plain": [
       "(4192, 16)"
      ]
     },
     "execution_count": 95,
     "metadata": {},
     "output_type": "execute_result"
    }
   ],
   "source": [
    "customer_join.shape"
   ]
  },
  {
   "cell_type": "markdown",
   "metadata": {},
   "source": [
    "### 회원기간 계산\n",
    "- 기간 : end_date ~ start_date\n",
    "- 탈퇴하지 않은 회원은 end 결측값이기에 값 수정 필요"
   ]
  },
  {
   "cell_type": "code",
   "execution_count": 97,
   "metadata": {},
   "outputs": [
    {
     "name": "stdout",
     "output_type": "stream",
     "text": [
      "Collecting package metadata (repodata.json): ...working... done\n",
      "Solving environment: ...working... done\n",
      "\n",
      "## Package Plan ##\n",
      "\n",
      "  environment location: C:\\Users\\admin\\Anaconda3\n",
      "\n",
      "  added / updated specs:\n",
      "    - python-dateutil\n",
      "\n",
      "\n",
      "The following packages will be downloaded:\n",
      "\n",
      "    package                    |            build\n",
      "    ---------------------------|-----------------\n",
      "    python-dateutil-2.8.2      |     pyhd8ed1ab_0         240 KB  conda-forge\n",
      "    ------------------------------------------------------------\n",
      "                                           Total:         240 KB\n",
      "\n",
      "The following packages will be UPDATED:\n",
      "\n",
      "  python-dateutil    pkgs/main/win-64::python-dateutil-2.8~ --> conda-forge/noarch::python-dateutil-2.8.2-pyhd8ed1ab_0\n",
      "\n",
      "\n",
      "\n",
      "Downloading and Extracting Packages\n",
      "\n",
      "python-dateutil-2.8. | 240 KB    |            |   0% \n",
      "python-dateutil-2.8. | 240 KB    | ########## | 100% \n",
      "python-dateutil-2.8. | 240 KB    | ########## | 100% \n",
      "Preparing transaction: ...working... done\n",
      "Verifying transaction: ...working... done\n",
      "Executing transaction: ...working... done\n"
     ]
    }
   ],
   "source": [
    "#relativedelta 설치(날짜계산 라이브러리)\n",
    "!conda install -c conda-forge python-dateutil -y"
   ]
  },
  {
   "cell_type": "code",
   "execution_count": 99,
   "metadata": {},
   "outputs": [],
   "source": [
    "from dateutil.relativedelta import relativedelta"
   ]
  },
  {
   "cell_type": "code",
   "execution_count": 100,
   "metadata": {},
   "outputs": [
    {
     "data": {
      "text/html": [
       "<div>\n",
       "<style scoped>\n",
       "    .dataframe tbody tr th:only-of-type {\n",
       "        vertical-align: middle;\n",
       "    }\n",
       "\n",
       "    .dataframe tbody tr th {\n",
       "        vertical-align: top;\n",
       "    }\n",
       "\n",
       "    .dataframe thead th {\n",
       "        text-align: right;\n",
       "    }\n",
       "</style>\n",
       "<table border=\"1\" class=\"dataframe\">\n",
       "  <thead>\n",
       "    <tr style=\"text-align: right;\">\n",
       "      <th></th>\n",
       "      <th>customer_id</th>\n",
       "      <th>name</th>\n",
       "      <th>class</th>\n",
       "      <th>gender</th>\n",
       "      <th>start_date</th>\n",
       "      <th>end_date</th>\n",
       "      <th>campaign_id</th>\n",
       "      <th>is_deleted</th>\n",
       "      <th>class_name</th>\n",
       "      <th>price</th>\n",
       "      <th>campaign_name</th>\n",
       "      <th>mean</th>\n",
       "      <th>median</th>\n",
       "      <th>max</th>\n",
       "      <th>min</th>\n",
       "      <th>routine_flg</th>\n",
       "      <th>calc_date</th>\n",
       "    </tr>\n",
       "  </thead>\n",
       "  <tbody>\n",
       "    <tr>\n",
       "      <th>0</th>\n",
       "      <td>OA832399</td>\n",
       "      <td>XXXX</td>\n",
       "      <td>C01</td>\n",
       "      <td>F</td>\n",
       "      <td>2015-05-01</td>\n",
       "      <td>NaT</td>\n",
       "      <td>CA1</td>\n",
       "      <td>0</td>\n",
       "      <td>0_종일</td>\n",
       "      <td>10500</td>\n",
       "      <td>2_일반</td>\n",
       "      <td>4.833333</td>\n",
       "      <td>5.0</td>\n",
       "      <td>8</td>\n",
       "      <td>2</td>\n",
       "      <td>1</td>\n",
       "      <td>2019-04-30</td>\n",
       "    </tr>\n",
       "    <tr>\n",
       "      <th>1</th>\n",
       "      <td>PL270116</td>\n",
       "      <td>XXXXX</td>\n",
       "      <td>C01</td>\n",
       "      <td>M</td>\n",
       "      <td>2015-05-01</td>\n",
       "      <td>NaT</td>\n",
       "      <td>CA1</td>\n",
       "      <td>0</td>\n",
       "      <td>0_종일</td>\n",
       "      <td>10500</td>\n",
       "      <td>2_일반</td>\n",
       "      <td>5.083333</td>\n",
       "      <td>5.0</td>\n",
       "      <td>7</td>\n",
       "      <td>3</td>\n",
       "      <td>1</td>\n",
       "      <td>2019-04-30</td>\n",
       "    </tr>\n",
       "    <tr>\n",
       "      <th>2</th>\n",
       "      <td>OA974876</td>\n",
       "      <td>XXXXX</td>\n",
       "      <td>C01</td>\n",
       "      <td>M</td>\n",
       "      <td>2015-05-01</td>\n",
       "      <td>NaT</td>\n",
       "      <td>CA1</td>\n",
       "      <td>0</td>\n",
       "      <td>0_종일</td>\n",
       "      <td>10500</td>\n",
       "      <td>2_일반</td>\n",
       "      <td>4.583333</td>\n",
       "      <td>5.0</td>\n",
       "      <td>6</td>\n",
       "      <td>3</td>\n",
       "      <td>1</td>\n",
       "      <td>2019-04-30</td>\n",
       "    </tr>\n",
       "  </tbody>\n",
       "</table>\n",
       "</div>"
      ],
      "text/plain": [
       "  customer_id   name class gender start_date end_date campaign_id  is_deleted  \\\n",
       "0    OA832399   XXXX   C01      F 2015-05-01      NaT         CA1           0   \n",
       "1    PL270116  XXXXX   C01      M 2015-05-01      NaT         CA1           0   \n",
       "2    OA974876  XXXXX   C01      M 2015-05-01      NaT         CA1           0   \n",
       "\n",
       "  class_name  price campaign_name      mean  median  max  min  routine_flg  \\\n",
       "0       0_종일  10500          2_일반  4.833333     5.0    8    2            1   \n",
       "1       0_종일  10500          2_일반  5.083333     5.0    7    3            1   \n",
       "2       0_종일  10500          2_일반  4.583333     5.0    6    3            1   \n",
       "\n",
       "   calc_date  \n",
       "0 2019-04-30  \n",
       "1 2019-04-30  \n",
       "2 2019-04-30  "
      ]
     },
     "execution_count": 100,
     "metadata": {},
     "output_type": "execute_result"
    }
   ],
   "source": [
    "customer_join['calc_date'] = customer_join['end_date']\n",
    "customer_join['calc_date'] = customer_join['calc_date'].fillna(pd.to_datetime('20190430'))\n",
    "customer_join.head(3)"
   ]
  },
  {
   "cell_type": "code",
   "execution_count": 101,
   "metadata": {},
   "outputs": [],
   "source": [
    "delta = relativedelta(customer_join['calc_date'].iloc[0], customer_join['start_date'].iloc[0])"
   ]
  },
  {
   "cell_type": "code",
   "execution_count": 102,
   "metadata": {},
   "outputs": [
    {
     "data": {
      "text/plain": [
       "(3, 11)"
      ]
     },
     "execution_count": 102,
     "metadata": {},
     "output_type": "execute_result"
    }
   ],
   "source": [
    "delta.years, delta.months"
   ]
  },
  {
   "cell_type": "code",
   "execution_count": 103,
   "metadata": {},
   "outputs": [
    {
     "data": {
      "text/plain": [
       "47"
      ]
     },
     "execution_count": 103,
     "metadata": {},
     "output_type": "execute_result"
    }
   ],
   "source": [
    "#총 개월수\n",
    "delta.years*12 + delta.months"
   ]
  },
  {
   "cell_type": "code",
   "execution_count": 108,
   "metadata": {},
   "outputs": [
    {
     "name": "stderr",
     "output_type": "stream",
     "text": [
      "C:\\Users\\admin\\Anaconda3\\lib\\site-packages\\pandas\\core\\indexing.py:670: SettingWithCopyWarning: \n",
      "A value is trying to be set on a copy of a slice from a DataFrame\n",
      "\n",
      "See the caveats in the documentation: https://pandas.pydata.org/pandas-docs/stable/user_guide/indexing.html#returning-a-view-versus-a-copy\n",
      "  iloc._setitem_with_indexer(indexer, value)\n"
     ]
    }
   ],
   "source": [
    "customer_join['membership_period'] = 0\n",
    "for i in range(len(customer_join)):\n",
    "     delta = relativedelta(customer_join['calc_date'].iloc[i], customer_join['start_date'].iloc[i])\n",
    "     customer_join['membership_period'].iloc[i] = delta.years*12 + delta.months"
   ]
  },
  {
   "cell_type": "code",
   "execution_count": 109,
   "metadata": {},
   "outputs": [
    {
     "data": {
      "text/html": [
       "<div>\n",
       "<style scoped>\n",
       "    .dataframe tbody tr th:only-of-type {\n",
       "        vertical-align: middle;\n",
       "    }\n",
       "\n",
       "    .dataframe tbody tr th {\n",
       "        vertical-align: top;\n",
       "    }\n",
       "\n",
       "    .dataframe thead th {\n",
       "        text-align: right;\n",
       "    }\n",
       "</style>\n",
       "<table border=\"1\" class=\"dataframe\">\n",
       "  <thead>\n",
       "    <tr style=\"text-align: right;\">\n",
       "      <th></th>\n",
       "      <th>customer_id</th>\n",
       "      <th>name</th>\n",
       "      <th>class</th>\n",
       "      <th>gender</th>\n",
       "      <th>start_date</th>\n",
       "      <th>end_date</th>\n",
       "      <th>campaign_id</th>\n",
       "      <th>is_deleted</th>\n",
       "      <th>class_name</th>\n",
       "      <th>price</th>\n",
       "      <th>campaign_name</th>\n",
       "      <th>mean</th>\n",
       "      <th>median</th>\n",
       "      <th>max</th>\n",
       "      <th>min</th>\n",
       "      <th>routine_flg</th>\n",
       "      <th>calc_date</th>\n",
       "      <th>membership_period</th>\n",
       "    </tr>\n",
       "  </thead>\n",
       "  <tbody>\n",
       "    <tr>\n",
       "      <th>4189</th>\n",
       "      <td>GD037007</td>\n",
       "      <td>XXXXX</td>\n",
       "      <td>C03</td>\n",
       "      <td>M</td>\n",
       "      <td>2019-03-14</td>\n",
       "      <td>NaT</td>\n",
       "      <td>CA1</td>\n",
       "      <td>0</td>\n",
       "      <td>2_야간</td>\n",
       "      <td>6000</td>\n",
       "      <td>2_일반</td>\n",
       "      <td>8.0</td>\n",
       "      <td>8.0</td>\n",
       "      <td>8</td>\n",
       "      <td>8</td>\n",
       "      <td>0</td>\n",
       "      <td>2019-04-30</td>\n",
       "      <td>1</td>\n",
       "    </tr>\n",
       "    <tr>\n",
       "      <th>4190</th>\n",
       "      <td>OA953150</td>\n",
       "      <td>XXXXX</td>\n",
       "      <td>C01</td>\n",
       "      <td>M</td>\n",
       "      <td>2019-03-14</td>\n",
       "      <td>NaT</td>\n",
       "      <td>CA1</td>\n",
       "      <td>0</td>\n",
       "      <td>0_종일</td>\n",
       "      <td>10500</td>\n",
       "      <td>2_일반</td>\n",
       "      <td>11.0</td>\n",
       "      <td>11.0</td>\n",
       "      <td>11</td>\n",
       "      <td>11</td>\n",
       "      <td>0</td>\n",
       "      <td>2019-04-30</td>\n",
       "      <td>1</td>\n",
       "    </tr>\n",
       "    <tr>\n",
       "      <th>4191</th>\n",
       "      <td>IK692635</td>\n",
       "      <td>XXXXX</td>\n",
       "      <td>C02</td>\n",
       "      <td>F</td>\n",
       "      <td>2019-03-15</td>\n",
       "      <td>NaT</td>\n",
       "      <td>CA1</td>\n",
       "      <td>0</td>\n",
       "      <td>1_주간</td>\n",
       "      <td>7500</td>\n",
       "      <td>2_일반</td>\n",
       "      <td>10.0</td>\n",
       "      <td>10.0</td>\n",
       "      <td>10</td>\n",
       "      <td>10</td>\n",
       "      <td>0</td>\n",
       "      <td>2019-04-30</td>\n",
       "      <td>1</td>\n",
       "    </tr>\n",
       "  </tbody>\n",
       "</table>\n",
       "</div>"
      ],
      "text/plain": [
       "     customer_id   name class gender start_date end_date campaign_id  \\\n",
       "4189    GD037007  XXXXX   C03      M 2019-03-14      NaT         CA1   \n",
       "4190    OA953150  XXXXX   C01      M 2019-03-14      NaT         CA1   \n",
       "4191    IK692635  XXXXX   C02      F 2019-03-15      NaT         CA1   \n",
       "\n",
       "      is_deleted class_name  price campaign_name  mean  median  max  min  \\\n",
       "4189           0       2_야간   6000          2_일반   8.0     8.0    8    8   \n",
       "4190           0       0_종일  10500          2_일반  11.0    11.0   11   11   \n",
       "4191           0       1_주간   7500          2_일반  10.0    10.0   10   10   \n",
       "\n",
       "      routine_flg  calc_date  membership_period  \n",
       "4189            0 2019-04-30                  1  \n",
       "4190            0 2019-04-30                  1  \n",
       "4191            0 2019-04-30                  1  "
      ]
     },
     "execution_count": 109,
     "metadata": {},
     "output_type": "execute_result"
    }
   ],
   "source": [
    "customer_join.tail(3)"
   ]
  },
  {
   "cell_type": "markdown",
   "metadata": {},
   "source": [
    "### 고객 행동의 각종 통계략 파악"
   ]
  },
  {
   "cell_type": "code",
   "execution_count": 111,
   "metadata": {},
   "outputs": [
    {
     "data": {
      "text/html": [
       "<div>\n",
       "<style scoped>\n",
       "    .dataframe tbody tr th:only-of-type {\n",
       "        vertical-align: middle;\n",
       "    }\n",
       "\n",
       "    .dataframe tbody tr th {\n",
       "        vertical-align: top;\n",
       "    }\n",
       "\n",
       "    .dataframe thead th {\n",
       "        text-align: right;\n",
       "    }\n",
       "</style>\n",
       "<table border=\"1\" class=\"dataframe\">\n",
       "  <thead>\n",
       "    <tr style=\"text-align: right;\">\n",
       "      <th></th>\n",
       "      <th>mean</th>\n",
       "      <th>median</th>\n",
       "      <th>max</th>\n",
       "      <th>min</th>\n",
       "    </tr>\n",
       "  </thead>\n",
       "  <tbody>\n",
       "    <tr>\n",
       "      <th>count</th>\n",
       "      <td>4192.000000</td>\n",
       "      <td>4192.000000</td>\n",
       "      <td>4192.000000</td>\n",
       "      <td>4192.000000</td>\n",
       "    </tr>\n",
       "    <tr>\n",
       "      <th>mean</th>\n",
       "      <td>5.333127</td>\n",
       "      <td>5.250596</td>\n",
       "      <td>7.823950</td>\n",
       "      <td>3.041269</td>\n",
       "    </tr>\n",
       "    <tr>\n",
       "      <th>std</th>\n",
       "      <td>1.777533</td>\n",
       "      <td>1.874874</td>\n",
       "      <td>2.168959</td>\n",
       "      <td>1.951565</td>\n",
       "    </tr>\n",
       "    <tr>\n",
       "      <th>min</th>\n",
       "      <td>1.000000</td>\n",
       "      <td>1.000000</td>\n",
       "      <td>1.000000</td>\n",
       "      <td>1.000000</td>\n",
       "    </tr>\n",
       "    <tr>\n",
       "      <th>25%</th>\n",
       "      <td>4.250000</td>\n",
       "      <td>4.000000</td>\n",
       "      <td>7.000000</td>\n",
       "      <td>2.000000</td>\n",
       "    </tr>\n",
       "    <tr>\n",
       "      <th>50%</th>\n",
       "      <td>5.000000</td>\n",
       "      <td>5.000000</td>\n",
       "      <td>8.000000</td>\n",
       "      <td>3.000000</td>\n",
       "    </tr>\n",
       "    <tr>\n",
       "      <th>75%</th>\n",
       "      <td>6.416667</td>\n",
       "      <td>6.500000</td>\n",
       "      <td>9.000000</td>\n",
       "      <td>4.000000</td>\n",
       "    </tr>\n",
       "    <tr>\n",
       "      <th>max</th>\n",
       "      <td>12.000000</td>\n",
       "      <td>12.000000</td>\n",
       "      <td>14.000000</td>\n",
       "      <td>12.000000</td>\n",
       "    </tr>\n",
       "  </tbody>\n",
       "</table>\n",
       "</div>"
      ],
      "text/plain": [
       "              mean       median          max          min\n",
       "count  4192.000000  4192.000000  4192.000000  4192.000000\n",
       "mean      5.333127     5.250596     7.823950     3.041269\n",
       "std       1.777533     1.874874     2.168959     1.951565\n",
       "min       1.000000     1.000000     1.000000     1.000000\n",
       "25%       4.250000     4.000000     7.000000     2.000000\n",
       "50%       5.000000     5.000000     8.000000     3.000000\n",
       "75%       6.416667     6.500000     9.000000     4.000000\n",
       "max      12.000000    12.000000    14.000000    12.000000"
      ]
     },
     "execution_count": 111,
     "metadata": {},
     "output_type": "execute_result"
    }
   ],
   "source": [
    "#자주 나오는 사람과 아닌 사람의 차이 꽤 있는 것 확인\n",
    "customer_join[['mean', 'median','max','min']].describe()"
   ]
  },
  {
   "cell_type": "code",
   "execution_count": 113,
   "metadata": {},
   "outputs": [
    {
     "data": {
      "text/plain": [
       "routine_flg\n",
       "0     779\n",
       "1    3413\n",
       "Name: customer_id, dtype: int64"
      ]
     },
     "execution_count": 113,
     "metadata": {},
     "output_type": "execute_result"
    }
   ],
   "source": [
    "customer_join.groupby('routine_flg').count()['customer_id']"
   ]
  },
  {
   "cell_type": "code",
   "execution_count": 115,
   "metadata": {},
   "outputs": [],
   "source": [
    "#시각화\n",
    "import matplotlib.pyplot as plt\n",
    "%matplotlib inline"
   ]
  },
  {
   "cell_type": "code",
   "execution_count": 116,
   "metadata": {},
   "outputs": [
    {
     "data": {
      "text/plain": [
       "(array([857., 774., 395., 368., 311., 331., 323., 237., 288., 308.]),\n",
       " array([ 1. ,  5.6, 10.2, 14.8, 19.4, 24. , 28.6, 33.2, 37.8, 42.4, 47. ]),\n",
       " <a list of 10 Patch objects>)"
      ]
     },
     "execution_count": 116,
     "metadata": {},
     "output_type": "execute_result"
    },
    {
     "data": {
      "image/png": "[encoded data removed]",
      "text/plain": [
       "<Figure size 432x288 with 1 Axes>"
      ]
     },
     "metadata": {
      "needs_background": "light"
     },
     "output_type": "display_data"
    }
   ],
   "source": [
    "plt.hist(customer_join['membership_period'])"
   ]
  },
  {
   "cell_type": "markdown",
   "metadata": {},
   "source": [
    "-> 1년을 넘기면 분포가 일정(처음 1년이 중요)"
   ]
  },
  {
   "cell_type": "markdown",
   "metadata": {},
   "source": [
    "### 탈퇴 회원과 지속회원의 차이 파악\n",
    "- 고객의 매월 평균 이용 횟수"
   ]
  },
  {
   "cell_type": "code",
   "execution_count": 119,
   "metadata": {},
   "outputs": [
    {
     "data": {
      "text/html": [
       "<div>\n",
       "<style scoped>\n",
       "    .dataframe tbody tr th:only-of-type {\n",
       "        vertical-align: middle;\n",
       "    }\n",
       "\n",
       "    .dataframe tbody tr th {\n",
       "        vertical-align: top;\n",
       "    }\n",
       "\n",
       "    .dataframe thead th {\n",
       "        text-align: right;\n",
       "    }\n",
       "</style>\n",
       "<table border=\"1\" class=\"dataframe\">\n",
       "  <thead>\n",
       "    <tr style=\"text-align: right;\">\n",
       "      <th></th>\n",
       "      <th>is_deleted</th>\n",
       "      <th>price</th>\n",
       "      <th>mean</th>\n",
       "      <th>median</th>\n",
       "      <th>max</th>\n",
       "      <th>min</th>\n",
       "      <th>routine_flg</th>\n",
       "      <th>membership_period</th>\n",
       "    </tr>\n",
       "  </thead>\n",
       "  <tbody>\n",
       "    <tr>\n",
       "      <th>count</th>\n",
       "      <td>1350.0</td>\n",
       "      <td>1350.000000</td>\n",
       "      <td>1350.000000</td>\n",
       "      <td>1350.000000</td>\n",
       "      <td>1350.000000</td>\n",
       "      <td>1350.000000</td>\n",
       "      <td>1350.000000</td>\n",
       "      <td>1350.000000</td>\n",
       "    </tr>\n",
       "    <tr>\n",
       "      <th>mean</th>\n",
       "      <td>1.0</td>\n",
       "      <td>8595.555556</td>\n",
       "      <td>3.865474</td>\n",
       "      <td>3.621852</td>\n",
       "      <td>6.461481</td>\n",
       "      <td>1.821481</td>\n",
       "      <td>0.456296</td>\n",
       "      <td>8.026667</td>\n",
       "    </tr>\n",
       "    <tr>\n",
       "      <th>std</th>\n",
       "      <td>0.0</td>\n",
       "      <td>1949.163652</td>\n",
       "      <td>1.246385</td>\n",
       "      <td>1.270847</td>\n",
       "      <td>2.584021</td>\n",
       "      <td>0.976361</td>\n",
       "      <td>0.498271</td>\n",
       "      <td>5.033692</td>\n",
       "    </tr>\n",
       "    <tr>\n",
       "      <th>min</th>\n",
       "      <td>1.0</td>\n",
       "      <td>6000.000000</td>\n",
       "      <td>1.000000</td>\n",
       "      <td>1.000000</td>\n",
       "      <td>1.000000</td>\n",
       "      <td>1.000000</td>\n",
       "      <td>0.000000</td>\n",
       "      <td>1.000000</td>\n",
       "    </tr>\n",
       "    <tr>\n",
       "      <th>25%</th>\n",
       "      <td>1.0</td>\n",
       "      <td>6000.000000</td>\n",
       "      <td>3.000000</td>\n",
       "      <td>3.000000</td>\n",
       "      <td>4.000000</td>\n",
       "      <td>1.000000</td>\n",
       "      <td>0.000000</td>\n",
       "      <td>4.000000</td>\n",
       "    </tr>\n",
       "    <tr>\n",
       "      <th>50%</th>\n",
       "      <td>1.0</td>\n",
       "      <td>7500.000000</td>\n",
       "      <td>4.000000</td>\n",
       "      <td>4.000000</td>\n",
       "      <td>7.000000</td>\n",
       "      <td>2.000000</td>\n",
       "      <td>0.000000</td>\n",
       "      <td>7.000000</td>\n",
       "    </tr>\n",
       "    <tr>\n",
       "      <th>75%</th>\n",
       "      <td>1.0</td>\n",
       "      <td>10500.000000</td>\n",
       "      <td>4.666667</td>\n",
       "      <td>4.500000</td>\n",
       "      <td>8.000000</td>\n",
       "      <td>2.000000</td>\n",
       "      <td>1.000000</td>\n",
       "      <td>11.000000</td>\n",
       "    </tr>\n",
       "    <tr>\n",
       "      <th>max</th>\n",
       "      <td>1.0</td>\n",
       "      <td>10500.000000</td>\n",
       "      <td>9.000000</td>\n",
       "      <td>9.000000</td>\n",
       "      <td>13.000000</td>\n",
       "      <td>8.000000</td>\n",
       "      <td>1.000000</td>\n",
       "      <td>23.000000</td>\n",
       "    </tr>\n",
       "  </tbody>\n",
       "</table>\n",
       "</div>"
      ],
      "text/plain": [
       "       is_deleted         price         mean       median          max  \\\n",
       "count      1350.0   1350.000000  1350.000000  1350.000000  1350.000000   \n",
       "mean          1.0   8595.555556     3.865474     3.621852     6.461481   \n",
       "std           0.0   1949.163652     1.246385     1.270847     2.584021   \n",
       "min           1.0   6000.000000     1.000000     1.000000     1.000000   \n",
       "25%           1.0   6000.000000     3.000000     3.000000     4.000000   \n",
       "50%           1.0   7500.000000     4.000000     4.000000     7.000000   \n",
       "75%           1.0  10500.000000     4.666667     4.500000     8.000000   \n",
       "max           1.0  10500.000000     9.000000     9.000000    13.000000   \n",
       "\n",
       "               min  routine_flg  membership_period  \n",
       "count  1350.000000  1350.000000        1350.000000  \n",
       "mean      1.821481     0.456296           8.026667  \n",
       "std       0.976361     0.498271           5.033692  \n",
       "min       1.000000     0.000000           1.000000  \n",
       "25%       1.000000     0.000000           4.000000  \n",
       "50%       2.000000     0.000000           7.000000  \n",
       "75%       2.000000     1.000000          11.000000  \n",
       "max       8.000000     1.000000          23.000000  "
      ]
     },
     "execution_count": 119,
     "metadata": {},
     "output_type": "execute_result"
    }
   ],
   "source": [
    "#탈퇴한 회원\n",
    "customer_end = customer_join.loc[customer_join['is_deleted']==1]\n",
    "customer_end.describe()"
   ]
  },
  {
   "cell_type": "code",
   "execution_count": 120,
   "metadata": {},
   "outputs": [
    {
     "data": {
      "text/html": [
       "<div>\n",
       "<style scoped>\n",
       "    .dataframe tbody tr th:only-of-type {\n",
       "        vertical-align: middle;\n",
       "    }\n",
       "\n",
       "    .dataframe tbody tr th {\n",
       "        vertical-align: top;\n",
       "    }\n",
       "\n",
       "    .dataframe thead th {\n",
       "        text-align: right;\n",
       "    }\n",
       "</style>\n",
       "<table border=\"1\" class=\"dataframe\">\n",
       "  <thead>\n",
       "    <tr style=\"text-align: right;\">\n",
       "      <th></th>\n",
       "      <th>is_deleted</th>\n",
       "      <th>price</th>\n",
       "      <th>mean</th>\n",
       "      <th>median</th>\n",
       "      <th>max</th>\n",
       "      <th>min</th>\n",
       "      <th>routine_flg</th>\n",
       "      <th>membership_period</th>\n",
       "    </tr>\n",
       "  </thead>\n",
       "  <tbody>\n",
       "    <tr>\n",
       "      <th>count</th>\n",
       "      <td>2842.0</td>\n",
       "      <td>2842.000000</td>\n",
       "      <td>2842.000000</td>\n",
       "      <td>2842.000000</td>\n",
       "      <td>2842.000000</td>\n",
       "      <td>2842.000000</td>\n",
       "      <td>2842.000000</td>\n",
       "      <td>2842.000000</td>\n",
       "    </tr>\n",
       "    <tr>\n",
       "      <th>mean</th>\n",
       "      <td>0.0</td>\n",
       "      <td>8542.927516</td>\n",
       "      <td>6.030288</td>\n",
       "      <td>6.024279</td>\n",
       "      <td>8.471147</td>\n",
       "      <td>3.620690</td>\n",
       "      <td>0.984166</td>\n",
       "      <td>23.970443</td>\n",
       "    </tr>\n",
       "    <tr>\n",
       "      <th>std</th>\n",
       "      <td>0.0</td>\n",
       "      <td>1977.189779</td>\n",
       "      <td>1.553587</td>\n",
       "      <td>1.599765</td>\n",
       "      <td>1.571048</td>\n",
       "      <td>2.030488</td>\n",
       "      <td>0.124855</td>\n",
       "      <td>13.746761</td>\n",
       "    </tr>\n",
       "    <tr>\n",
       "      <th>min</th>\n",
       "      <td>0.0</td>\n",
       "      <td>6000.000000</td>\n",
       "      <td>3.166667</td>\n",
       "      <td>3.000000</td>\n",
       "      <td>5.000000</td>\n",
       "      <td>1.000000</td>\n",
       "      <td>0.000000</td>\n",
       "      <td>1.000000</td>\n",
       "    </tr>\n",
       "    <tr>\n",
       "      <th>25%</th>\n",
       "      <td>0.0</td>\n",
       "      <td>6000.000000</td>\n",
       "      <td>4.833333</td>\n",
       "      <td>5.000000</td>\n",
       "      <td>7.000000</td>\n",
       "      <td>2.000000</td>\n",
       "      <td>1.000000</td>\n",
       "      <td>12.000000</td>\n",
       "    </tr>\n",
       "    <tr>\n",
       "      <th>50%</th>\n",
       "      <td>0.0</td>\n",
       "      <td>7500.000000</td>\n",
       "      <td>5.583333</td>\n",
       "      <td>5.500000</td>\n",
       "      <td>8.000000</td>\n",
       "      <td>3.000000</td>\n",
       "      <td>1.000000</td>\n",
       "      <td>24.000000</td>\n",
       "    </tr>\n",
       "    <tr>\n",
       "      <th>75%</th>\n",
       "      <td>0.0</td>\n",
       "      <td>10500.000000</td>\n",
       "      <td>7.178030</td>\n",
       "      <td>7.000000</td>\n",
       "      <td>10.000000</td>\n",
       "      <td>5.000000</td>\n",
       "      <td>1.000000</td>\n",
       "      <td>35.000000</td>\n",
       "    </tr>\n",
       "    <tr>\n",
       "      <th>max</th>\n",
       "      <td>0.0</td>\n",
       "      <td>10500.000000</td>\n",
       "      <td>12.000000</td>\n",
       "      <td>12.000000</td>\n",
       "      <td>14.000000</td>\n",
       "      <td>12.000000</td>\n",
       "      <td>1.000000</td>\n",
       "      <td>47.000000</td>\n",
       "    </tr>\n",
       "  </tbody>\n",
       "</table>\n",
       "</div>"
      ],
      "text/plain": [
       "       is_deleted         price         mean       median          max  \\\n",
       "count      2842.0   2842.000000  2842.000000  2842.000000  2842.000000   \n",
       "mean          0.0   8542.927516     6.030288     6.024279     8.471147   \n",
       "std           0.0   1977.189779     1.553587     1.599765     1.571048   \n",
       "min           0.0   6000.000000     3.166667     3.000000     5.000000   \n",
       "25%           0.0   6000.000000     4.833333     5.000000     7.000000   \n",
       "50%           0.0   7500.000000     5.583333     5.500000     8.000000   \n",
       "75%           0.0  10500.000000     7.178030     7.000000    10.000000   \n",
       "max           0.0  10500.000000    12.000000    12.000000    14.000000   \n",
       "\n",
       "               min  routine_flg  membership_period  \n",
       "count  2842.000000  2842.000000        2842.000000  \n",
       "mean      3.620690     0.984166          23.970443  \n",
       "std       2.030488     0.124855          13.746761  \n",
       "min       1.000000     0.000000           1.000000  \n",
       "25%       2.000000     1.000000          12.000000  \n",
       "50%       3.000000     1.000000          24.000000  \n",
       "75%       5.000000     1.000000          35.000000  \n",
       "max      12.000000     1.000000          47.000000  "
      ]
     },
     "execution_count": 120,
     "metadata": {},
     "output_type": "execute_result"
    }
   ],
   "source": [
    "#지속회원\n",
    "customer_stay = customer_join.loc[customer_join['is_deleted']==0]\n",
    "customer_stay.describe()"
   ]
  },
  {
   "cell_type": "markdown",
   "metadata": {},
   "source": [
    "-> 평균 이용 횟수가 2.2정도 차이가 남"
   ]
  },
  {
   "cell_type": "code",
   "execution_count": 122,
   "metadata": {},
   "outputs": [],
   "source": [
    "customer_join.to_csv('customer_join.csv', index=False)"
   ]
  }
 ],
 "metadata": {
  "kernelspec": {
   "display_name": "Python 3",
   "language": "python",
   "name": "python3"
  },
  "language_info": {
   "codemirror_mode": {
    "name": "ipython",
    "version": 3
   },
   "file_extension": ".py",
   "mimetype": "text/x-python",
   "name": "python",
   "nbconvert_exporter": "python",
   "pygments_lexer": "ipython3",
   "version": "3.7.10"
  }
 },
 "nbformat": 4,
 "nbformat_minor": 4
}
